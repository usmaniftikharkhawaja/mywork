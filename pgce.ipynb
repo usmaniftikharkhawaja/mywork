{
 "cells": [
  {
   "cell_type": "code",
   "execution_count": 5,
   "metadata": {},
   "outputs": [],
   "source": [
    "import requests\n",
    "from bs4 import BeautifulSoup\n",
    "import openpyxl\n",
    "\n",
    "url = 'https://www.find-postgraduate-teacher-training.service.gov.uk/results?applications_open=true&can_sponsor_visa=true&degree_required=two_two&l=2&page=3&qualification%5B%5D=pgce_with_qts&study_type%5B%5D=full_time&study_type%5B%5D=part_time&study_type%5B%5D=full_time_or_part_time&subjects%5B%5D=F3'\n",
    "response = requests.get(url)\n",
    "soup = BeautifulSoup(response.text, 'html.parser')\n",
    "\n",
    "universities = soup.find_all('a', {'class': 'result-title'})\n",
    "fees = []\n",
    "\n",
    "for university in universities:\n",
    "    link = university['href']\n",
    "    uni_response = requests.get(link)\n",
    "    uni_soup = BeautifulSoup(uni_response.text, 'html.parser')\n",
    "    fee = uni_soup.find('p', string='International student fees').find_next_sibling('p').text\n",
    "    fees.append(fee)\n",
    "\n",
    "wb = openpyxl.Workbook()\n",
    "sheet = wb['Sheet']\n",
    "\n",
    "for i in range(len(universities)):\n",
    "    sheet[f'A{i+1}'] = universities[i].text\n",
    "    sheet[f'B{i+1}'] = fees[i]\n",
    "\n",
    "wb.save('international_fees.xlsx')\n"
   ]
  },
  {
   "cell_type": "code",
   "execution_count": null,
   "metadata": {},
   "outputs": [],
   "source": []
  }
 ],
 "metadata": {
  "kernelspec": {
   "display_name": "Python 3",
   "language": "python",
   "name": "python3"
  },
  "language_info": {
   "codemirror_mode": {
    "name": "ipython",
    "version": 3
   },
   "file_extension": ".py",
   "mimetype": "text/x-python",
   "name": "python",
   "nbconvert_exporter": "python",
   "pygments_lexer": "ipython3",
   "version": "3.10.2"
  },
  "orig_nbformat": 4
 },
 "nbformat": 4,
 "nbformat_minor": 2
}
