{
 "cells": [
  {
   "cell_type": "code",
   "execution_count": 1,
   "metadata": {},
   "outputs": [
    {
     "name": "stdout",
     "output_type": "stream",
     "text": [
      "U\n",
      "s\n",
      "m\n",
      "a\n",
      "n\n",
      " \n",
      "I\n",
      "f\n",
      "t\n",
      "i\n",
      "k\n",
      "h\n",
      "a\n",
      "r\n"
     ]
    }
   ],
   "source": [
    "name=\"Usman Iftikhar\"\n",
    "for character in name: \n",
    "    print(character)"
   ]
  },
  {
   "cell_type": "code",
   "execution_count": 2,
   "metadata": {},
   "outputs": [
    {
     "name": "stdout",
     "output_type": "stream",
     "text": [
      "kh\n"
     ]
    }
   ],
   "source": [
    "print(name[-4:-2]) # Total main se -4 kr k jo index aye wo print kre ga\n"
   ]
  },
  {
   "cell_type": "code",
   "execution_count": 3,
   "metadata": {},
   "outputs": [
    {
     "name": "stdout",
     "output_type": "stream",
     "text": [
      "!!\n",
      "USMAN IFTIKHAR YOUNAS !!!!!\n"
     ]
    }
   ],
   "source": [
    "nm =\"Usman iftikhar Younas !!!!!\"\n",
    "print(nm[-4:-2])   # 5-4 = 1 ( 0, 1 both, go to 1 index from zero), but (5-2=3 means 0,1,2 three not included)\n",
    "print((nm.upper()))"
   ]
  },
  {
   "cell_type": "code",
   "execution_count": 4,
   "metadata": {},
   "outputs": [
    {
     "name": "stdout",
     "output_type": "stream",
     "text": [
      "Usman iftikhar Younas \n",
      "Affan iftikhar Younas !!!!!\n",
      "['Usman', 'iftikhar', 'Younas', '!!!!!']\n",
      "Intro to me\n"
     ]
    }
   ],
   "source": [
    "#stripping\n",
    "print(nm.rstrip(\"!\"))\n",
    "#replace\n",
    "print(nm.replace(\"Usman\", \"Affan\"))\n",
    "#split\n",
    "print(nm.split(\" \"))\n",
    "heading= 'intro to me'\n",
    "print(heading.capitalize())"
   ]
  },
  {
   "cell_type": "code",
   "execution_count": 5,
   "metadata": {},
   "outputs": [
    {
     "name": "stdout",
     "output_type": "stream",
     "text": [
      "3\n",
      "True\n"
     ]
    }
   ],
   "source": [
    "print(nm.count(\"a\")) #To count\n",
    "print(nm.endswith(\"!\"))"
   ]
  },
  {
   "cell_type": "code",
   "execution_count": 6,
   "metadata": {},
   "outputs": [
    {
     "name": "stdout",
     "output_type": "stream",
     "text": [
      "True\n",
      "27\n",
      "3\n"
     ]
    }
   ],
   "source": [
    "print(nm.endswith(\"!\",4,23))\n",
    "print(len(nm))\n",
    "\n",
    "#find where the word is\n",
    "print(nm.find(\"a\"))"
   ]
  },
  {
   "cell_type": "code",
   "execution_count": 7,
   "metadata": {},
   "outputs": [
    {
     "name": "stdout",
     "output_type": "stream",
     "text": [
      "False\n"
     ]
    }
   ],
   "source": [
    "#alphanumeric yes or no\n",
    "print(nm.isalnum())"
   ]
  },
  {
   "cell_type": "code",
   "execution_count": 8,
   "metadata": {},
   "outputs": [
    {
     "ename": "ValueError",
     "evalue": "invalid literal for int() with base 10: ''",
     "output_type": "error",
     "traceback": [
      "\u001b[1;31m---------------------------------------------------------------------------\u001b[0m",
      "\u001b[1;31mValueError\u001b[0m                                Traceback (most recent call last)",
      "\u001b[1;32m~\\AppData\\Local\\Temp/ipykernel_4528/947294240.py\u001b[0m in \u001b[0;36m<cell line: 1>\u001b[1;34m()\u001b[0m\n\u001b[1;32m----> 1\u001b[1;33m \u001b[0mx\u001b[0m\u001b[1;33m=\u001b[0m\u001b[0mint\u001b[0m\u001b[1;33m(\u001b[0m\u001b[0minput\u001b[0m\u001b[1;33m(\u001b[0m\u001b[1;34m\"Enter a number\"\u001b[0m\u001b[1;33m)\u001b[0m\u001b[1;33m)\u001b[0m\u001b[1;33m\u001b[0m\u001b[1;33m\u001b[0m\u001b[0m\n\u001b[0m\u001b[0;32m      2\u001b[0m \u001b[1;32mif\u001b[0m \u001b[1;33m(\u001b[0m\u001b[0mx\u001b[0m\u001b[1;33m>=\u001b[0m\u001b[1;36m90\u001b[0m\u001b[1;33m)\u001b[0m\u001b[1;33m:\u001b[0m\u001b[1;33m\u001b[0m\u001b[1;33m\u001b[0m\u001b[0m\n\u001b[0;32m      3\u001b[0m     \u001b[0my\u001b[0m\u001b[1;33m=\u001b[0m\u001b[1;34m\"A\"\u001b[0m\u001b[1;33m\u001b[0m\u001b[1;33m\u001b[0m\u001b[0m\n\u001b[0;32m      4\u001b[0m \u001b[1;32melse\u001b[0m\u001b[1;33m:\u001b[0m\u001b[1;33m\u001b[0m\u001b[1;33m\u001b[0m\u001b[0m\n\u001b[0;32m      5\u001b[0m     \u001b[0mprint\u001b[0m\u001b[1;33m(\u001b[0m\u001b[1;34m\"You loose\"\u001b[0m\u001b[1;33m)\u001b[0m\u001b[1;33m\u001b[0m\u001b[1;33m\u001b[0m\u001b[0m\n",
      "\u001b[1;31mValueError\u001b[0m: invalid literal for int() with base 10: ''"
     ]
    }
   ],
   "source": [
    "x=int(input(\"Enter a number\"))\n",
    "if (x>=90):\n",
    "    y=\"A\"\n",
    "else: \n",
    "    print(\"You loose\")"
   ]
  },
  {
   "cell_type": "code",
   "execution_count": null,
   "metadata": {},
   "outputs": [
    {
     "name": "stdout",
     "output_type": "stream",
     "text": [
      "19:27:02\n",
      "19\n",
      "27\n",
      "2\n",
      "19\n",
      "Good Evening\n"
     ]
    }
   ],
   "source": [
    "#Neste\n",
    "import time\n",
    "timestamp = time.strftime(\"%H:%M:%S\")\n",
    "print(timestamp)\n",
    "timestamp = int(time.strftime(\"%H\"))\n",
    "print(timestamp)\n",
    "timestamp = int(time.strftime(\"%M\"))\n",
    "print(timestamp)\n",
    "timestamp = int(time.strftime(\"%S\"))\n",
    "print(timestamp)\n",
    "\n",
    "current_hour = int(time.strftime(\"%H\"))\n",
    "print(current_hour)\n",
    "\n",
    "if 7 <= current_hour <12 : \n",
    "    print(\"Good morning\")\n",
    "elif 12 <= current_hour <15:\n",
    "    print(\"Good afternoon\")\n",
    "elif 15 <= current_hour <20:\n",
    "    print(\"Good Evening\")"
   ]
  },
  {
   "cell_type": "code",
   "execution_count": null,
   "metadata": {},
   "outputs": [
    {
     "name": "stdout",
     "output_type": "stream",
     "text": [
      "80  is not 90\n"
     ]
    }
   ],
   "source": [
    "x= int(input(\"Enter the value of x \"))\n",
    "# x is variable to match\n",
    "\n",
    "match x:\n",
    "    case 0:\n",
    "        print(\"x is zero\")\n",
    "    case 4:\n",
    "        print(\"x is 4\")\n",
    "\n",
    "    case _ if x!=90:\n",
    "        print(x,\" is not 90\")\n",
    "    case _ if x!=80:\n",
    "        print(x,\" is not 80\") #  agr 80 dalaa then it will go up and will say 80 is not 90 and vice versa\n",
    "    case _ :\n",
    "        print(x)    \n",
    "        \n",
    "# if enter 56 then output: its not 90. because matches the first statement"
   ]
  },
  {
   "cell_type": "code",
   "execution_count": null,
   "metadata": {},
   "outputs": [
    {
     "name": "stdout",
     "output_type": "stream",
     "text": [
      "U\n",
      "s\n",
      "m\n",
      "a\n",
      "This is something special\n",
      "n\n",
      " \n",
      "I\n",
      "f\n",
      "t\n",
      "i\n",
      "k\n",
      "h\n",
      "a\n",
      "This is something special\n",
      "r\n"
     ]
    }
   ],
   "source": [
    "##Loops\n",
    "for i in name:\n",
    "    print(i)\n",
    "    if i==\"a\":\n",
    "        print(\"This is something special\") #it will print the message after a"
   ]
  },
  {
   "cell_type": "code",
   "execution_count": null,
   "metadata": {},
   "outputs": [
    {
     "name": "stdout",
     "output_type": "stream",
     "text": [
      "0\n",
      "5\n"
     ]
    }
   ],
   "source": [
    "# range function\n",
    "for k in range(0,10,5):\n",
    "    print(k)"
   ]
  },
  {
   "cell_type": "code",
   "execution_count": null,
   "metadata": {},
   "outputs": [
    {
     "name": "stdout",
     "output_type": "stream",
     "text": [
      "8\n",
      "8\n",
      "55\n",
      "Done\n"
     ]
    }
   ],
   "source": [
    "#loop\n",
    "i=int(input(\"Enter the number: \"))\n",
    "\n",
    "while i<=9:\n",
    "    i=int(int(input(\"Enter the number: \")))\n",
    "    print(i)\n",
    "\n",
    "print(\"Done\")"
   ]
  },
  {
   "cell_type": "code",
   "execution_count": null,
   "metadata": {},
   "outputs": [
    {
     "name": "stdout",
     "output_type": "stream",
     "text": [
      "5\n",
      "4\n",
      "3\n",
      "2\n",
      "1\n"
     ]
    }
   ],
   "source": [
    "# ulta loop\n",
    "count=5\n",
    "while (count >0):\n",
    "    print(count)\n",
    "    count = count -1 "
   ]
  },
  {
   "cell_type": "code",
   "execution_count": null,
   "metadata": {},
   "outputs": [
    {
     "name": "stdout",
     "output_type": "stream",
     "text": [
      "I am in the looop\n"
     ]
    }
   ],
   "source": [
    "count =-5\n",
    "while (count>0):\n",
    "    print(count)\n",
    "    count -=1\n",
    "else:\n",
    "    print(\"I am in the looop\")"
   ]
  },
  {
   "cell_type": "code",
   "execution_count": 15,
   "metadata": {},
   "outputs": [
    {
     "name": "stdout",
     "output_type": "stream",
     "text": [
      "5 x  0 = 0\n",
      "5 x  1 = 5\n",
      "5 x  2 = 10\n",
      "5 x  3 = 15\n",
      "5 x  4 = 20\n",
      "5 x  5 = 25\n",
      "5 x  6 = 30\n",
      "5 x  7 = 35\n",
      "5 x  8 = 40\n",
      "5 x  9 = 45\n",
      "5 x  10 = 50\n"
     ]
    }
   ],
   "source": [
    "# bread and continue\n",
    "for i in range (12):\n",
    "        print(\"5 x \", i, \"=\", (5 * i))\n",
    "        if i==10:\n",
    "            break\n",
    "    #"
   ]
  },
  {
   "cell_type": "code",
   "execution_count": null,
   "metadata": {},
   "outputs": [],
   "source": [
    "# mimic do while like in python"
   ]
  },
  {
   "cell_type": "code",
   "execution_count": 40,
   "metadata": {},
   "outputs": [
    {
     "name": "stdout",
     "output_type": "stream",
     "text": [
      "first is greater\n",
      "4.235294117647059\n",
      "second is greater\n",
      "3.7333333333333334\n"
     ]
    }
   ],
   "source": [
    "#Functions in Python | Python Tutorial - Day #20\n",
    "def calculateGmean (a,b):\n",
    "    mean = (a*b)/(a+b)\n",
    "    print(mean)\n",
    "\n",
    "def isgreater (a,b):\n",
    "\n",
    "    if (a>b):\n",
    "        print(\"first is greater\")  # ye dono k lia print kre gaa maze ki baat. ab and cd k lia ek bar hi print function \n",
    "        # define krne ka ye faida ha. \n",
    "    else:\n",
    "        print(\"second is greater\")\n",
    "a=9\n",
    "b=8\n",
    "isgreater(a,b)\n",
    "calculateGmean(a,b)\n",
    "\n",
    "c=7\n",
    "d=8\n",
    "isgreater(c,d)\n",
    "calculateGmean (c,d) # Not necessary to change a b to c d each time. when you \n",
    "                    # put c and d values to some number it will automatically calculate gmeain of c and d\n"
   ]
  },
  {
   "cell_type": "code",
   "execution_count": 53,
   "metadata": {},
   "outputs": [
    {
     "name": "stdout",
     "output_type": "stream",
     "text": [
      "The average is  5.0\n"
     ]
    }
   ],
   "source": [
    "#Function Arguments in Python | Python Tutorial - Day #21\n",
    "\n",
    "def average (a=9, b=1):\n",
    "    print(\"The average is \", (a+b)/2)\n",
    "\n",
    "#average(1,5) # new values di hain to wo a=9 remove krdega . \n",
    "                #\n",
    "average(9)\n"
   ]
  },
  {
   "cell_type": "code",
   "execution_count": 60,
   "metadata": {},
   "outputs": [
    {
     "name": "stdout",
     "output_type": "stream",
     "text": [
      "Hello Amy Jhon Whatson\n"
     ]
    }
   ],
   "source": [
    "def name(fname=\"dad\", mname = \"Jhon\", lname= \"Whatson\"):\n",
    "    print(\"Hello\", fname,mname,lname)\n",
    "\n",
    "name(\"Amy\")\n"
   ]
  },
  {
   "cell_type": "code",
   "execution_count": 91,
   "metadata": {},
   "outputs": [
    {
     "name": "stdout",
     "output_type": "stream",
     "text": [
      "Average is:   5.5\n"
     ]
    }
   ],
   "source": [
    "def average (*numbers): # if no star * then it wont take  arguements more then 1. as a Tuple lelia ha * \n",
    "    # lagaane se\n",
    "    sum =0\n",
    "    for i in numbers:\n",
    "        sum +=i\n",
    "    print(\"Average is:  \", sum/len(numbers))\n",
    "\n",
    "average(5,6)"
   ]
  },
  {
   "cell_type": "code",
   "execution_count": 107,
   "metadata": {},
   "outputs": [],
   "source": [
    "def nme(**nme):\n",
    "\n",
    "    print(type(nme))\n",
    "\n",
    "    print(\"Hello\", nme[\"mname\"], nme[\"fname\"])\n",
    "    nme(mname=\"boby\", fname=\"James\")"
   ]
  },
  {
   "cell_type": "code",
   "execution_count": 110,
   "metadata": {},
   "outputs": [
    {
     "name": "stdout",
     "output_type": "stream",
     "text": [
      "Average is:   3.6666666666666665\n"
     ]
    }
   ],
   "source": [
    "c=average(2,4,5)"
   ]
  },
  {
   "cell_type": "code",
   "execution_count": null,
   "metadata": {},
   "outputs": [],
   "source": []
  }
 ],
 "metadata": {
  "kernelspec": {
   "display_name": "Python 3",
   "language": "python",
   "name": "python3"
  },
  "language_info": {
   "codemirror_mode": {
    "name": "ipython",
    "version": 3
   },
   "file_extension": ".py",
   "mimetype": "text/x-python",
   "name": "python",
   "nbconvert_exporter": "python",
   "pygments_lexer": "ipython3",
   "version": "3.10.2"
  },
  "orig_nbformat": 4
 },
 "nbformat": 4,
 "nbformat_minor": 2
}
