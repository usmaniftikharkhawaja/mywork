{
 "cells": [
  {
   "cell_type": "code",
   "execution_count": 1,
   "metadata": {},
   "outputs": [
    {
     "name": "stdout",
     "output_type": "stream",
     "text": [
      "U\n",
      "s\n",
      "m\n",
      "a\n",
      "n\n",
      " \n",
      "I\n",
      "f\n",
      "t\n",
      "i\n",
      "k\n",
      "h\n",
      "a\n",
      "r\n"
     ]
    }
   ],
   "source": [
    "name=\"Usman Iftikhar\"\n",
    "for character in name: \n",
    "    print(character)"
   ]
  },
  {
   "cell_type": "code",
   "execution_count": 2,
   "metadata": {},
   "outputs": [
    {
     "name": "stdout",
     "output_type": "stream",
     "text": [
      "kh\n"
     ]
    }
   ],
   "source": [
    "print(name[-4:-2]) # Total main se -4 kr k jo index aye wo print kre ga\n"
   ]
  },
  {
   "cell_type": "code",
   "execution_count": 3,
   "metadata": {},
   "outputs": [
    {
     "name": "stdout",
     "output_type": "stream",
     "text": [
      "!!\n",
      "USMAN IFTIKHAR YOUNAS !!!!!\n"
     ]
    }
   ],
   "source": [
    "nm =\"Usman iftikhar Younas !!!!!\"\n",
    "print(nm[-4:-2])   # 5-4 = 1 ( 0, 1 both, go to 1 index from zero), but (5-2=3 means 0,1,2 three not included)\n",
    "print((nm.upper()))"
   ]
  },
  {
   "cell_type": "code",
   "execution_count": 4,
   "metadata": {},
   "outputs": [
    {
     "name": "stdout",
     "output_type": "stream",
     "text": [
      "Usman iftikhar Younas \n",
      "Affan iftikhar Younas !!!!!\n",
      "['Usman', 'iftikhar', 'Younas', '!!!!!']\n",
      "Intro to me\n"
     ]
    }
   ],
   "source": [
    "#stripping\n",
    "print(nm.rstrip(\"!\"))\n",
    "#replace\n",
    "print(nm.replace(\"Usman\", \"Affan\"))\n",
    "#split\n",
    "print(nm.split(\" \"))\n",
    "heading= 'intro to me'\n",
    "print(heading.capitalize())"
   ]
  },
  {
   "cell_type": "code",
   "execution_count": 5,
   "metadata": {},
   "outputs": [
    {
     "name": "stdout",
     "output_type": "stream",
     "text": [
      "3\n",
      "True\n"
     ]
    }
   ],
   "source": [
    "print(nm.count(\"a\")) #To count\n",
    "print(nm.endswith(\"!\"))"
   ]
  },
  {
   "cell_type": "code",
   "execution_count": 6,
   "metadata": {},
   "outputs": [
    {
     "name": "stdout",
     "output_type": "stream",
     "text": [
      "True\n",
      "27\n",
      "3\n"
     ]
    }
   ],
   "source": [
    "print(nm.endswith(\"!\",4,23))\n",
    "print(len(nm))\n",
    "\n",
    "#find where the word is\n",
    "print(nm.find(\"a\"))"
   ]
  },
  {
   "cell_type": "code",
   "execution_count": 7,
   "metadata": {},
   "outputs": [
    {
     "name": "stdout",
     "output_type": "stream",
     "text": [
      "False\n"
     ]
    }
   ],
   "source": [
    "#alphanumeric yes or no\n",
    "print(nm.isalnum())"
   ]
  },
  {
   "cell_type": "code",
   "execution_count": 8,
   "metadata": {},
   "outputs": [
    {
     "ename": "ValueError",
     "evalue": "invalid literal for int() with base 10: ''",
     "output_type": "error",
     "traceback": [
      "\u001b[1;31m---------------------------------------------------------------------------\u001b[0m",
      "\u001b[1;31mValueError\u001b[0m                                Traceback (most recent call last)",
      "\u001b[1;32m~\\AppData\\Local\\Temp/ipykernel_11740/947294240.py\u001b[0m in \u001b[0;36m<cell line: 1>\u001b[1;34m()\u001b[0m\n\u001b[1;32m----> 1\u001b[1;33m \u001b[0mx\u001b[0m\u001b[1;33m=\u001b[0m\u001b[0mint\u001b[0m\u001b[1;33m(\u001b[0m\u001b[0minput\u001b[0m\u001b[1;33m(\u001b[0m\u001b[1;34m\"Enter a number\"\u001b[0m\u001b[1;33m)\u001b[0m\u001b[1;33m)\u001b[0m\u001b[1;33m\u001b[0m\u001b[1;33m\u001b[0m\u001b[0m\n\u001b[0m\u001b[0;32m      2\u001b[0m \u001b[1;32mif\u001b[0m \u001b[1;33m(\u001b[0m\u001b[0mx\u001b[0m\u001b[1;33m>=\u001b[0m\u001b[1;36m90\u001b[0m\u001b[1;33m)\u001b[0m\u001b[1;33m:\u001b[0m\u001b[1;33m\u001b[0m\u001b[1;33m\u001b[0m\u001b[0m\n\u001b[0;32m      3\u001b[0m     \u001b[0my\u001b[0m\u001b[1;33m=\u001b[0m\u001b[1;34m\"A\"\u001b[0m\u001b[1;33m\u001b[0m\u001b[1;33m\u001b[0m\u001b[0m\n\u001b[0;32m      4\u001b[0m \u001b[1;32melse\u001b[0m\u001b[1;33m:\u001b[0m\u001b[1;33m\u001b[0m\u001b[1;33m\u001b[0m\u001b[0m\n\u001b[0;32m      5\u001b[0m     \u001b[0mprint\u001b[0m\u001b[1;33m(\u001b[0m\u001b[1;34m\"You loose\"\u001b[0m\u001b[1;33m)\u001b[0m\u001b[1;33m\u001b[0m\u001b[1;33m\u001b[0m\u001b[0m\n",
      "\u001b[1;31mValueError\u001b[0m: invalid literal for int() with base 10: ''"
     ]
    }
   ],
   "source": [
    "x=int(input(\"Enter a number\"))\n",
    "if (x>=90):\n",
    "    y=\"A\"\n",
    "else: \n",
    "    print(\"You loose\")"
   ]
  },
  {
   "cell_type": "code",
   "execution_count": null,
   "metadata": {},
   "outputs": [
    {
     "name": "stdout",
     "output_type": "stream",
     "text": [
      "15:45:35\n",
      "15\n",
      "45\n",
      "35\n",
      "0\n",
      "Good morning\n"
     ]
    }
   ],
   "source": [
    "#Neste\n",
    "import time\n",
    "timestamp = time.strftime(\"%H:%M:%S\")\n",
    "print(timestamp)\n",
    "timestamp = int(time.strftime(\"%H\"))\n",
    "print(timestamp)\n",
    "timestamp = int(time.strftime(\"%M\"))\n",
    "print(timestamp)\n",
    "timestamp = int(time.strftime(\"%S\"))\n",
    "print(timestamp)\n",
    "\n",
    "current_hour = int(input(\"%H\"))\n",
    "print(current_hour)\n",
    "\n",
    "if 00 <= current_hour <12 : \n",
    "    print(\"Good morning\")\n",
    "elif 12 <= current_hour <15:\n",
    "    print(\"Good afternoon\")\n",
    "elif 15 <= current_hour <20:\n",
    "    print(\"Good Evening\")"
   ]
  },
  {
   "cell_type": "code",
   "execution_count": null,
   "metadata": {},
   "outputs": [
    {
     "name": "stdout",
     "output_type": "stream",
     "text": [
      "80  is not 90\n"
     ]
    }
   ],
   "source": [
    "x= int(input(\"Enter the value of x \"))\n",
    "# x is variable to match\n",
    "\n",
    "match x:\n",
    "    case 0:\n",
    "        print(\"x is zero\")\n",
    "    case 4:\n",
    "        print(\"x is 4\")\n",
    "\n",
    "    case _ if x!=90:\n",
    "        print(x,\" is not 90\")\n",
    "    case _ if x!=80:\n",
    "        print(x,\" is not 80\") #  agr 80 dalaa then it will go up and will say 80 is not 90 and vice versa\n",
    "    case _ :\n",
    "        print(x)    \n",
    "        \n",
    "# if enter 56 then output: its not 90. because matches the first statement"
   ]
  },
  {
   "cell_type": "code",
   "execution_count": null,
   "metadata": {},
   "outputs": [
    {
     "name": "stdout",
     "output_type": "stream",
     "text": [
      "U\n",
      "s\n",
      "m\n",
      "a\n",
      "This is something special\n",
      "n\n",
      " \n",
      "I\n",
      "f\n",
      "t\n",
      "i\n",
      "k\n",
      "h\n",
      "a\n",
      "This is something special\n",
      "r\n"
     ]
    }
   ],
   "source": [
    "##Loops\n",
    "for i in name:\n",
    "    print(i)\n",
    "    if i==\"a\":\n",
    "        print(\"This is something special\") #it will print the message after a"
   ]
  },
  {
   "cell_type": "code",
   "execution_count": null,
   "metadata": {},
   "outputs": [
    {
     "name": "stdout",
     "output_type": "stream",
     "text": [
      "0\n",
      "5\n"
     ]
    }
   ],
   "source": [
    "# range function\n",
    "for k in range(0,10,5):\n",
    "    print(k)"
   ]
  },
  {
   "cell_type": "code",
   "execution_count": null,
   "metadata": {},
   "outputs": [
    {
     "name": "stdout",
     "output_type": "stream",
     "text": [
      "8\n",
      "8\n",
      "55\n",
      "Done\n"
     ]
    }
   ],
   "source": [
    "#loop\n",
    "i=int(input(\"Enter the number: \"))\n",
    "\n",
    "while i<=9:\n",
    "    i=int(int(input(\"Enter the number: \")))\n",
    "    print(i)\n",
    "\n",
    "print(\"Done\")"
   ]
  },
  {
   "cell_type": "code",
   "execution_count": null,
   "metadata": {},
   "outputs": [
    {
     "name": "stdout",
     "output_type": "stream",
     "text": [
      "5\n",
      "4\n",
      "3\n",
      "2\n",
      "1\n"
     ]
    }
   ],
   "source": [
    "# ulta loop\n",
    "count=5\n",
    "while (count >0):\n",
    "    print(count)\n",
    "    count = count -1 "
   ]
  },
  {
   "cell_type": "code",
   "execution_count": null,
   "metadata": {},
   "outputs": [
    {
     "name": "stdout",
     "output_type": "stream",
     "text": [
      "I am in the looop\n"
     ]
    }
   ],
   "source": [
    "count =-5\n",
    "while (count>0):\n",
    "    print(count)\n",
    "    count -=1\n",
    "else:\n",
    "    print(\"I am in the looop\")"
   ]
  },
  {
   "cell_type": "code",
   "execution_count": null,
   "metadata": {},
   "outputs": [
    {
     "name": "stdout",
     "output_type": "stream",
     "text": [
      "5 x  0 = 0\n",
      "5 x  1 = 5\n",
      "5 x  2 = 10\n",
      "5 x  3 = 15\n",
      "5 x  4 = 20\n",
      "5 x  5 = 25\n",
      "5 x  6 = 30\n",
      "5 x  7 = 35\n",
      "5 x  8 = 40\n",
      "5 x  9 = 45\n",
      "5 x  10 = 50\n"
     ]
    }
   ],
   "source": [
    "# bread and continue\n",
    "for i in range (12):\n",
    "        print(\"5 x \", i, \"=\", (5 * i))\n",
    "        if i==10:\n",
    "            break\n",
    "    #"
   ]
  },
  {
   "cell_type": "markdown",
   "metadata": {},
   "source": [
    "# mimic do while like in python"
   ]
  },
  {
   "cell_type": "code",
   "execution_count": null,
   "metadata": {},
   "outputs": [
    {
     "name": "stdout",
     "output_type": "stream",
     "text": [
      "first is greater\n",
      "4.235294117647059\n",
      "second is greater\n",
      "3.7333333333333334\n"
     ]
    }
   ],
   "source": [
    "#Functions in Python | Python Tutorial - Day #20\n",
    "def calculateGmean (a,b):\n",
    "    mean = (a*b)/(a+b)\n",
    "    print(mean)\n",
    "\n",
    "def isgreater (a,b):\n",
    "\n",
    "    if (a>b):\n",
    "        print(\"first is greater\")  # ye dono k lia print kre gaa maze ki baat. ab and cd k lia ek bar hi print function \n",
    "        # define krne ka ye faida ha. \n",
    "    else:\n",
    "        print(\"second is greater\")\n",
    "a=9\n",
    "b=8\n",
    "isgreater(a,b)\n",
    "calculateGmean(a,b)\n",
    "\n",
    "c=7\n",
    "d=8\n",
    "isgreater(c,d)\n",
    "calculateGmean (c,d) # Not necessary to change a b to c d each time. when you \n",
    "                    # put c and d values to some number it will automatically calculate gmeain of c and d\n"
   ]
  },
  {
   "cell_type": "code",
   "execution_count": null,
   "metadata": {},
   "outputs": [
    {
     "name": "stdout",
     "output_type": "stream",
     "text": [
      "The average is  5.0\n"
     ]
    }
   ],
   "source": [
    "#Function Arguments in Python | Python Tutorial - Day #21\n",
    "\n",
    "def average (a=9, b=1):\n",
    "    print(\"The average is \", (a+b)/2)\n",
    "\n",
    "#average(1,5) # new values di hain to wo a=9 remove krdega . \n",
    "                #\n",
    "average(9)\n"
   ]
  },
  {
   "cell_type": "code",
   "execution_count": null,
   "metadata": {},
   "outputs": [
    {
     "name": "stdout",
     "output_type": "stream",
     "text": [
      "Hello Amy Jhon Whatson\n"
     ]
    }
   ],
   "source": [
    "def name(fname=\"dad\", mname = \"Jhon\", lname= \"Whatson\"):\n",
    "    print(\"Hello\", fname,mname,lname)\n",
    "\n",
    "name(\"Amy\")\n"
   ]
  },
  {
   "cell_type": "code",
   "execution_count": null,
   "metadata": {},
   "outputs": [
    {
     "name": "stdout",
     "output_type": "stream",
     "text": [
      "Average is:   5.5\n"
     ]
    }
   ],
   "source": [
    "def average (*numbers): # if no star * then it wont take  arguements more then 1. as a Tuple lelia ha * \n",
    "    # lagaane se\n",
    "    sum =0\n",
    "    for i in numbers:\n",
    "        sum +=i\n",
    "    print(\"Average is:  \", sum/len(numbers))\n",
    "\n",
    "average(5,6)"
   ]
  },
  {
   "cell_type": "code",
   "execution_count": null,
   "metadata": {},
   "outputs": [],
   "source": [
    "def nme(**nme):\n",
    "\n",
    "    print(type(nme))\n",
    "\n",
    "    print(\"Hello\", nme[\"mname\"], nme[\"fname\"])\n",
    "    nme(mname=\"boby\", fname=\"James\")"
   ]
  },
  {
   "cell_type": "code",
   "execution_count": null,
   "metadata": {},
   "outputs": [
    {
     "name": "stdout",
     "output_type": "stream",
     "text": [
      "Average is:   3.6666666666666665\n"
     ]
    }
   ],
   "source": [
    "c=average(2,4,5)"
   ]
  },
  {
   "attachments": {},
   "cell_type": "markdown",
   "metadata": {},
   "source": [
    "Introduction to Lists in Python | Python Tutorial - Day #22"
   ]
  },
  {
   "cell_type": "code",
   "execution_count": null,
   "metadata": {},
   "outputs": [
    {
     "name": "stdout",
     "output_type": "stream",
     "text": [
      "<class 'list'>\n",
      "3\n",
      "5\n",
      "6\n",
      "name\n",
      "Yes\n"
     ]
    },
    {
     "data": {
      "text/plain": [
       "[0, 4, 16, 36, 64]"
      ]
     },
     "execution_count": 137,
     "metadata": {},
     "output_type": "execute_result"
    }
   ],
   "source": [
    "marks=list =[3,5,6,\"name\", True] # many values in 1 variable, ordered collection of data\n",
    "print(type(marks)) # string can also be included in list\n",
    "print(marks[0])\n",
    "print(marks[1])\n",
    "print(marks[2])\n",
    "print(marks[3])\n",
    "x=int(input(\"Enter the number you want to check\"))\n",
    "if x in marks:\n",
    "    print(\"Yes\")\n",
    "else:\n",
    "    print(\"None\")\n",
    "\n",
    "lst= [i*i for i in range(10) if i%2==0]\n",
    "lst\n"
   ]
  },
  {
   "attachments": {},
   "cell_type": "markdown",
   "metadata": {},
   "source": [
    "List Methods in Python | Python Tutorial - Day #23\n"
   ]
  },
  {
   "cell_type": "code",
   "execution_count": null,
   "metadata": {},
   "outputs": [
    {
     "name": "stdout",
     "output_type": "stream",
     "text": [
      "[1, 2, 4, 6]\n",
      "[1, 2, 4, 6, 7]\n",
      "None\n",
      "4\n"
     ]
    }
   ],
   "source": [
    "l =[1,2,4,6]\n",
    "print(l)\n",
    "l.append(7)\n",
    "print(l)\n",
    "print(l.sort(reverse=True))\n",
    "\n",
    "print(l.index(1))\n",
    "\n"
   ]
  },
  {
   "cell_type": "code",
   "execution_count": null,
   "metadata": {},
   "outputs": [
    {
     "name": "stdout",
     "output_type": "stream",
     "text": [
      "[11, 45, 1, 2, 4, 6, 1, 1]\n"
     ]
    },
    {
     "data": {
      "text/plain": [
       "[11, 99, 45, 1, 2, 4, 6, 1, 1]"
      ]
     },
     "execution_count": 156,
     "metadata": {},
     "output_type": "execute_result"
    }
   ],
   "source": [
    "l= [11,45,1,2,4,6,1,1]\n",
    "print(l)\n",
    "l.insert(1,99)\n",
    "l"
   ]
  },
  {
   "cell_type": "code",
   "execution_count": null,
   "metadata": {},
   "outputs": [
    {
     "data": {
      "text/plain": [
       "[11, 10, 45, 1, 2, 4, 6, 1, 1]"
      ]
     },
     "execution_count": 165,
     "metadata": {},
     "output_type": "execute_result"
    }
   ],
   "source": [
    "l[1]=10\n",
    "l"
   ]
  },
  {
   "cell_type": "code",
   "execution_count": null,
   "metadata": {},
   "outputs": [
    {
     "name": "stdout",
     "output_type": "stream",
     "text": [
      "[7, 6, 4, 2, 1, 900, 1000, 1100]\n"
     ]
    }
   ],
   "source": [
    "m=[900,1000,1100]\n",
    "l.extend(m)\n",
    "print(l)"
   ]
  },
  {
   "cell_type": "code",
   "execution_count": null,
   "metadata": {},
   "outputs": [
    {
     "name": "stdout",
     "output_type": "stream",
     "text": [
      "[7, 6, 4, 2, 1, 900, 1000, 1100, 900, 1000, 1100]\n"
     ]
    }
   ],
   "source": [
    "k= l+m \n",
    "print(k)"
   ]
  },
  {
   "attachments": {},
   "cell_type": "markdown",
   "metadata": {},
   "source": [
    "Tuples in Python | Python Tutorial - Day #24\n"
   ]
  },
  {
   "cell_type": "code",
   "execution_count": null,
   "metadata": {},
   "outputs": [
    {
     "name": "stdout",
     "output_type": "stream",
     "text": [
      "<class 'tuple'> (1, 2, 3)\n",
      "1\n"
     ]
    }
   ],
   "source": [
    "tup =(1,2,3) #constant list that cannot be changed after\n",
    "print(type(tup), tup)\n",
    "print(tup[-3])"
   ]
  },
  {
   "cell_type": "code",
   "execution_count": null,
   "metadata": {},
   "outputs": [
    {
     "name": "stdout",
     "output_type": "stream",
     "text": [
      "False\n"
     ]
    }
   ],
   "source": [
    "if 342 in tup:\n",
    "    print(\"Yes\")\n",
    "else:\n",
    "    print(False)"
   ]
  },
  {
   "attachments": {},
   "cell_type": "markdown",
   "metadata": {},
   "source": [
    "# Operations on Tuples in Python | Python Tutorial - Day #25"
   ]
  },
  {
   "cell_type": "code",
   "execution_count": null,
   "metadata": {},
   "outputs": [
    {
     "data": {
      "text/plain": [
       "5"
      ]
     },
     "execution_count": 201,
     "metadata": {},
     "output_type": "execute_result"
    }
   ],
   "source": [
    "tuple1= (0,1,2,3,4,3,31,4,2,9,3)\n",
    "res = tuple1.index(3,4,8) # it will see index of 3 from 4 to 8 exclusive of 8. warna tou 3rd index pe 3 ataa ha\n",
    "res"
   ]
  },
  {
   "attachments": {},
   "cell_type": "markdown",
   "metadata": {},
   "source": [
    "# Exercise 3: Kaun Banega Crorepati (KBC) | Python Tutorial - Day #27"
   ]
  },
  {
   "cell_type": "code",
   "execution_count": null,
   "metadata": {},
   "outputs": [
    {
     "name": "stdout",
     "output_type": "stream",
     "text": [
      "What is the capital of France?\n",
      "A. Paris\n",
      "B. London\n",
      "C. Rome\n",
      "D. Berlin\n",
      "Congratulations! Your answer is correct.\n"
     ]
    }
   ],
   "source": [
    "question = \"What is the capital of France?\"\n",
    "options = [\"A. Paris\", \"B. London\", \"C. Rome\", \"D. Berlin\"]\n",
    "correct_answer = \"A\"\n",
    "\n",
    "# Print the question\n",
    "print(question)\n",
    "\n",
    "# Print the options\n",
    "for option in options:\n",
    "    print(option)\n",
    "\n",
    "# TAke user input for the answer\n",
    "user_answer = input(\"Enter your answer (A, B, C, or D): \")\n",
    "\n",
    "# Check if the answer is correct\n",
    "if user_answer.upper() == correct_answer: # it will take capital no matter user puts small a. beshak\n",
    "    print(\"Congratulations! Your answer is correct.\")\n",
    "else:\n",
    "    print(\"Sorry, your answer is incorrect.\")\n",
    "\n"
   ]
  },
  {
   "attachments": {},
   "cell_type": "markdown",
   "metadata": {},
   "source": [
    "For Multiple Questions"
   ]
  },
  {
   "cell_type": "code",
   "execution_count": null,
   "metadata": {},
   "outputs": [
    {
     "name": "stdout",
     "output_type": "stream",
     "text": [
      "Question 1:\n",
      "What is the capital of France?\n",
      "A. Paris\n",
      "B. London\n",
      "C. Rome\n",
      "D. Berlin\n",
      "Congratulations! Your answer is correct.\n",
      "\n",
      "Question 2:\n",
      "What is the largest planet in our solar system?\n",
      "A. Jupiter\n",
      "B. Saturn\n",
      "C. Earth\n",
      "D. Mars\n",
      "Congratulations! Your answer is correct.\n",
      "\n",
      "Quiz completed!\n"
     ]
    }
   ],
   "source": [
    "# Define the questions, options, and correct answers\n",
    "questions = [\n",
    "    {\n",
    "        \"question\": \"What is the capital of France?\",\n",
    "        \"options\": [\"A. Paris\", \"B. London\", \"C. Rome\", \"D. Berlin\"],\n",
    "        \"answer\": \"A\"\n",
    "    },\n",
    "    {\n",
    "        \"question\": \"What is the largest planet in our solar system?\",\n",
    "        \"options\": [\"A. Jupiter\", \"B. Saturn\", \"C. Earth\", \"D. Mars\"],\n",
    "        \"answer\": \"A\"\n",
    "    },\n",
    "    # Add more questions here...\n",
    "]\n",
    "\n",
    "# Iterate over each question\n",
    "for index, question in enumerate(questions, start=1):\n",
    "    print(f\"Question {index}:\")\n",
    "    print(question[\"question\"])\n",
    "    for option in question[\"options\"]:\n",
    "        print(option)\n",
    "\n",
    "    # Take user input for the answer\n",
    "    user_answer = input(\"Enter your answer (A, B, C, or D): \")\n",
    "\n",
    "    # Check if the answer is correct\n",
    "    if user_answer.upper() == question[\"answer\"]:\n",
    "        print(\"Congratulations! Your answer is correct.\")\n",
    "    else:\n",
    "        print(\"Sorry, your answer is incorrect.\")\n",
    "    print()\n",
    "\n",
    "# End of the quiz\n",
    "print(\"Quiz completed!\")\n"
   ]
  },
  {
   "attachments": {},
   "cell_type": "markdown",
   "metadata": {},
   "source": [
    "# f-strings in Python | Python Tutorial - Day #28"
   ]
  },
  {
   "cell_type": "code",
   "execution_count": null,
   "metadata": {},
   "outputs": [
    {
     "name": "stdout",
     "output_type": "stream",
     "text": [
      "Hi my name is 5 and I am from 55\n",
      "8\n"
     ]
    }
   ],
   "source": [
    "letter =\" Hi my name is {} and I am from {}\"\n",
    "country= input(\"Enter your country\")\n",
    "name= input(\"Enter your name\")\n",
    "\n",
    "letter.format(name, country)\n",
    "print(f\"Hi my name is {name} and I am from {country}\") # f string k ilawa string k andar nai le skte koi variable value that is why\n",
    "   # f string is used. \n",
    "print(2*4)\n"
   ]
  },
  {
   "cell_type": "code",
   "execution_count": null,
   "metadata": {},
   "outputs": [
    {
     "name": "stdout",
     "output_type": "stream",
     "text": [
      "Hi my name is {name} and I am from 55\n"
     ]
    }
   ],
   "source": [
    "# if want to print literally the f string then put double bracket\n",
    "print(f\"Hi my name is {{name}} and I am from {country}\")"
   ]
  },
  {
   "attachments": {},
   "cell_type": "markdown",
   "metadata": {},
   "source": [
    "# Docstrings in Python | Python Tutorial - Day #29"
   ]
  },
  {
   "cell_type": "code",
   "execution_count": null,
   "metadata": {},
   "outputs": [
    {
     "name": "stdout",
     "output_type": "stream",
     "text": [
      "32\n",
      "Takes L and gives L\n"
     ]
    }
   ],
   "source": [
    "def square(n):\n",
    "    '''Takes L and gives L'''\n",
    "    print(n**5)\n",
    "square(2)\n",
    "print(square.__doc__)"
   ]
  },
  {
   "attachments": {},
   "cell_type": "markdown",
   "metadata": {},
   "source": [
    "# Recursion in Python | Python Tutorial - Day #30   "
   ]
  },
  {
   "cell_type": "code",
   "execution_count": null,
   "metadata": {},
   "outputs": [
    {
     "name": "stdout",
     "output_type": "stream",
     "text": [
      "Number:  200\n",
      "Factorial:  788657867364790503552363213932185062295135977687173263294742533244359449963403342920304284011984623904177212138919638830257642790242637105061926624952829931113462857270763317237396988943922445621451664240254033291864131227428294853277524242407573903240321257405579568660226031904170324062351700858796178922222789623703897374720000000000000000000000000000000000000000000000000\n"
     ]
    }
   ],
   "source": [
    "def factorial(num):\n",
    "    if (num==1 or num==0):\n",
    "        return 1\n",
    "    else:\n",
    "        return(num*factorial(num-1))\n",
    "    \n",
    "    \n",
    "num= int(input(\"Enter number \"))\n",
    "print(\"Number: \",num)\n",
    "print(\"Factorial: \", factorial(num))\n"
   ]
  },
  {
   "attachments": {},
   "cell_type": "markdown",
   "metadata": {},
   "source": [
    "Fibonacci"
   ]
  },
  {
   "cell_type": "code",
   "execution_count": null,
   "metadata": {},
   "outputs": [
    {
     "name": "stdout",
     "output_type": "stream",
     "text": [
      "Fibonacci Sequence: [0, 1, 1, 2, 3, 5, 8, 13, 21, 34, 55, 89, 144, 233, 377, 610, 987, 1597, 2584, 4181, 6765, 10946, 17711, 28657, 46368, 75025, 121393, 196418, 317811, 514229, 832040, 1346269, 2178309, 3524578, 5702887, 9227465, 14930352, 24157817, 39088169, 63245986, 102334155, 165580141, 267914296, 433494437, 701408733, 1134903170, 1836311903, 2971215073, 4807526976, 7778742049, 12586269025, 20365011074, 32951280099, 53316291173, 86267571272]\n"
     ]
    }
   ],
   "source": [
    "def fibonacci(n):\n",
    "    sequence = [0, 1]  # Initialize the sequence with the first two numbers\n",
    "    \n",
    "    # Generate the Fibonacci sequence\n",
    "    for i in range(2, n):\n",
    "        next_number = sequence[i-1] + sequence[i-2]\n",
    "        sequence.append(next_number)\n",
    "    \n",
    "    return sequence\n",
    "\n",
    "# Test the function\n",
    "n = int(input(\"Enter the number of Fibonacci numbers to generate: \"))\n",
    "fib_sequence = fibonacci(n)\n",
    "print(\"Fibonacci Sequence:\", fib_sequence)\n"
   ]
  },
  {
   "attachments": {},
   "cell_type": "markdown",
   "metadata": {},
   "source": [
    "# Sets in Python | Python Tutorial - Day #31"
   ]
  },
  {
   "attachments": {},
   "cell_type": "markdown",
   "metadata": {},
   "source": [
    "unordered collection of data"
   ]
  },
  {
   "cell_type": "code",
   "execution_count": null,
   "metadata": {},
   "outputs": [
    {
     "name": "stdout",
     "output_type": "stream",
     "text": [
      "{False, 19, 5.9, 'Carla'}\n"
     ]
    }
   ],
   "source": [
    "info = {\"Carla\", 19, False, 5.9, 19}\n",
    "print(info)"
   ]
  },
  {
   "cell_type": "code",
   "execution_count": null,
   "metadata": {},
   "outputs": [
    {
     "name": "stdout",
     "output_type": "stream",
     "text": [
      "False\n",
      "19\n",
      "5.9\n",
      "Carla\n"
     ]
    }
   ],
   "source": [
    "info = {\"Carla\", 19, False, 5.9}\n",
    "for item in info:\n",
    "    print(item)         "
   ]
  },
  {
   "cell_type": "code",
   "execution_count": null,
   "metadata": {},
   "outputs": [
    {
     "data": {
      "text/plain": [
       "{2, 3, 4, 6}"
      ]
     },
     "execution_count": 15,
     "metadata": {},
     "output_type": "execute_result"
    }
   ],
   "source": [
    "s= {2,3,4,2,3,6} #not repeating unordered\n",
    "s"
   ]
  },
  {
   "cell_type": "code",
   "execution_count": null,
   "metadata": {},
   "outputs": [
    {
     "name": "stdout",
     "output_type": "stream",
     "text": [
      "<class 'dict'>\n"
     ]
    }
   ],
   "source": [
    "usmann= {} #emppty set is dic not a set\n",
    "print(type(usmann))"
   ]
  },
  {
   "cell_type": "code",
   "execution_count": null,
   "metadata": {},
   "outputs": [
    {
     "name": "stdout",
     "output_type": "stream",
     "text": [
      "<class 'set'>\n"
     ]
    }
   ],
   "source": [
    "usman=set()\n",
    "print(type(usman))"
   ]
  },
  {
   "cell_type": "code",
   "execution_count": null,
   "metadata": {},
   "outputs": [
    {
     "name": "stdout",
     "output_type": "stream",
     "text": [
      "2\n",
      "3\n",
      "4\n",
      "6\n"
     ]
    }
   ],
   "source": [
    "for values in s:\n",
    "    print(values)\n"
   ]
  },
  {
   "attachments": {},
   "cell_type": "markdown",
   "metadata": {},
   "source": [
    "# Methods in Python | Python Tutorial - Day #32"
   ]
  },
  {
   "cell_type": "code",
   "execution_count": null,
   "metadata": {},
   "outputs": [
    {
     "name": "stdout",
     "output_type": "stream",
     "text": [
      "{'Islamabad', 'Helsinki', 'Tokyo', 'Madrid', 'Berlin'}\n"
     ]
    }
   ],
   "source": [
    "cities = {\"Tokyo\", \"Madrid\", \"Berlin\", \"Islamabad\"}\n",
    "cities.add(\"Helsinki\")\n",
    "print(cities)"
   ]
  },
  {
   "cell_type": "code",
   "execution_count": null,
   "metadata": {},
   "outputs": [
    {
     "name": "stdout",
     "output_type": "stream",
     "text": [
      "{1, 2, 3, 4, 5, 6, 34, 11, 76, 55, 22, 23}\n"
     ]
    }
   ],
   "source": [
    "s1={1,2,3,4,5,6}\n",
    "s2={11,22,23,34,55,76}\n",
    "print(s1.union(s2))"
   ]
  },
  {
   "cell_type": "code",
   "execution_count": null,
   "metadata": {},
   "outputs": [
    {
     "data": {
      "text/plain": [
       "{'Berlin', 'Islamabad', 'Madrid', 'Tokyo'}"
      ]
     },
     "execution_count": 33,
     "metadata": {},
     "output_type": "execute_result"
    }
   ],
   "source": [
    "#symmetric difference prints item that are distinct in both sets\n",
    "cities2 = {\"Tokyo\", \"Madrid\", \"Berlin\", \"Islamabad\"}\n",
    "cities2"
   ]
  },
  {
   "cell_type": "code",
   "execution_count": null,
   "metadata": {},
   "outputs": [
    {
     "data": {
      "text/plain": [
       "{'Helsinki'}"
      ]
     },
     "execution_count": 36,
     "metadata": {},
     "output_type": "execute_result"
    }
   ],
   "source": [
    "cities3= cities.difference(cities2) # prints the distinct\n",
    "cities3"
   ]
  },
  {
   "cell_type": "code",
   "execution_count": null,
   "metadata": {},
   "outputs": [
    {
     "name": "stdout",
     "output_type": "stream",
     "text": [
      "False\n"
     ]
    }
   ],
   "source": [
    "#disjoint sets\n",
    "print(cities.isdisjoint(cities2))"
   ]
  },
  {
   "cell_type": "code",
   "execution_count": null,
   "metadata": {},
   "outputs": [
    {
     "name": "stdout",
     "output_type": "stream",
     "text": [
      "Yes\n"
     ]
    }
   ],
   "source": [
    "#superset any elements of 1 set whether present in another or not\n",
    "if (cities.issuperset(cities2)):\n",
    "    print(\"Yes\")\n"
   ]
  },
  {
   "cell_type": "code",
   "execution_count": null,
   "metadata": {},
   "outputs": [
    {
     "ename": "NameError",
     "evalue": "name 'cities' is not defined",
     "output_type": "error",
     "traceback": [
      "\u001b[1;31m---------------------------------------------------------------------------\u001b[0m",
      "\u001b[1;31mNameError\u001b[0m                                 Traceback (most recent call last)",
      "\u001b[1;32m~\\AppData\\Local\\Temp/ipykernel_7888/3132247165.py\u001b[0m in \u001b[0;36m<cell line: 2>\u001b[1;34m()\u001b[0m\n\u001b[0;32m      1\u001b[0m \u001b[1;32mdel\u001b[0m \u001b[0mcities\u001b[0m\u001b[1;33m\u001b[0m\u001b[1;33m\u001b[0m\u001b[0m\n\u001b[1;32m----> 2\u001b[1;33m \u001b[0mcities\u001b[0m\u001b[1;33m\u001b[0m\u001b[1;33m\u001b[0m\u001b[0m\n\u001b[0m",
      "\u001b[1;31mNameError\u001b[0m: name 'cities' is not defined"
     ]
    }
   ],
   "source": [
    "del cities #deleted cities set\n",
    "cities"
   ]
  },
  {
   "attachments": {},
   "cell_type": "markdown",
   "metadata": {},
   "source": [
    "# Dictionaries in Python | Python Tutorial - Day #33\n",
    "Dictionaries are ordered collection of data items. They store multiple items in a single variable. Dictionaries items are key-value pairs that are separated by commas and enclosed within curly brackets {}."
   ]
  },
  {
   "cell_type": "code",
   "execution_count": null,
   "metadata": {},
   "outputs": [
    {
     "name": "stdout",
     "output_type": "stream",
     "text": [
      "1\n"
     ]
    },
    {
     "data": {
      "text/plain": [
       "'Lahore'"
      ]
     },
     "execution_count": 51,
     "metadata": {},
     "output_type": "execute_result"
    }
   ],
   "source": [
    "dic={\"usman\":1, 10:\"Lahore\", \"waqas\":5}\n",
    "print(dic[\"usman\"])\n",
    "dic[10]"
   ]
  },
  {
   "cell_type": "code",
   "execution_count": null,
   "metadata": {},
   "outputs": [
    {
     "name": "stdout",
     "output_type": "stream",
     "text": [
      "{'name': 'Ali', 'age': 19, 'eligible': True}\n"
     ]
    }
   ],
   "source": [
    "info = {'name':'Ali', 'age':19, 'eligible':True}\n",
    "print(info)"
   ]
  },
  {
   "cell_type": "code",
   "execution_count": null,
   "metadata": {},
   "outputs": [
    {
     "name": "stdout",
     "output_type": "stream",
     "text": [
      "dict_keys(['name', 'age', 'eligible'])\n",
      "dict_values(['Ali', 19, True])\n"
     ]
    }
   ],
   "source": [
    "print(info.keys())\n",
    "print(info.values())"
   ]
  },
  {
   "cell_type": "code",
   "execution_count": null,
   "metadata": {},
   "outputs": [
    {
     "name": "stdout",
     "output_type": "stream",
     "text": [
      "The values for the corresponding key name is Ali\n",
      "The values for the corresponding key age is 19\n",
      "The values for the corresponding key eligible is True\n"
     ]
    }
   ],
   "source": [
    "for key in info.keys(): #yahan se key ko key ki values mili hain\n",
    "    print(f\"The values for the corresponding key {key} is {info[key]}\")"
   ]
  },
  {
   "cell_type": "code",
   "execution_count": null,
   "metadata": {},
   "outputs": [
    {
     "name": "stdout",
     "output_type": "stream",
     "text": [
      "The values for the corresponding key eligible is True\n"
     ]
    }
   ],
   "source": [
    "# use f strings\n",
    "\n",
    "print(f\"The values for the corresponding key {key} is {info[key]}\")\n"
   ]
  },
  {
   "cell_type": "code",
   "execution_count": null,
   "metadata": {},
   "outputs": [
    {
     "name": "stdout",
     "output_type": "stream",
     "text": [
      "dict_items([('name', 'Ali'), ('age', 19), ('eligible', True)])\n",
      "The values for the corresponding key name is Ali\n",
      "The values for the corresponding key age is 19\n",
      "The values for the corresponding key eligible is True\n"
     ]
    }
   ],
   "source": [
    "print(info.items())\n",
    "for key, value in info.items():\n",
    "    print(f\"The values for the corresponding key {key} is {value}\")"
   ]
  },
  {
   "cell_type": "code",
   "execution_count": null,
   "metadata": {},
   "outputs": [
    {
     "name": "stdout",
     "output_type": "stream",
     "text": [
      "{'name': 'usman', 'age': 19, 'eligible': True}\n",
      "{'name': 'usman', 'age': 19, 'eligible': True, 'DOB': 1991}\n"
     ]
    }
   ],
   "source": [
    "info = {'name':'usman', 'age':19, 'eligible':True}\n",
    "print(info)\n",
    "info['DOB'] = 1991\n",
    "print(info)"
   ]
  },
  {
   "cell_type": "code",
   "execution_count": null,
   "metadata": {},
   "outputs": [
    {
     "name": "stdout",
     "output_type": "stream",
     "text": [
      "{'name': 'usman', 'age': 19, 'eligible': True}\n",
      "{'name': 'usman', 'age': 31, 'eligible': True, 'DOB': 1991}\n"
     ]
    }
   ],
   "source": [
    "info = {'name':'usman', 'age':19, 'eligible':True}\n",
    "print(info)\n",
    "info.update({'age':31})\n",
    "info.update({'DOB':1991})\n",
    "print(info)"
   ]
  },
  {
   "cell_type": "code",
   "execution_count": null,
   "metadata": {},
   "outputs": [
    {
     "name": "stdout",
     "output_type": "stream",
     "text": [
      "{'name': 'usman', 'eligible': True}\n"
     ]
    }
   ],
   "source": [
    "#delete\n",
    "info = {'name':'usman', 'age':19, 'eligible':True}\n",
    "del info['age']\n",
    "print(info)\n"
   ]
  },
  {
   "cell_type": "markdown",
   "metadata": {},
   "source": [
    "# for Loop with else in Python | Python Tutorial - Day #35"
   ]
  },
  {
   "cell_type": "code",
   "execution_count": null,
   "metadata": {},
   "outputs": [
    {
     "name": "stdout",
     "output_type": "stream",
     "text": [
      "0\n",
      "1\n",
      "2\n",
      "3\n",
      "4\n"
     ]
    }
   ],
   "source": [
    "for i in range (10):  # Interview question loop k sath else use\n",
    "    print(i)\n",
    "    if i==4:\n",
    "        break\n",
    "else:\n",
    "        print(\"Counting end\")"
   ]
  },
  {
   "cell_type": "code",
   "execution_count": null,
   "metadata": {},
   "outputs": [
    {
     "name": "stdout",
     "output_type": "stream",
     "text": [
      "0\n",
      "1\n",
      "2\n",
      "3\n"
     ]
    }
   ],
   "source": [
    "i =0 \n",
    "while i<7:\n",
    "    print(i)\n",
    "    i+=1\n",
    "    if i ==4:\n",
    "        break\n",
    "else:\n",
    "    print(\"counting ends\")\n"
   ]
  },
  {
   "attachments": {},
   "cell_type": "markdown",
   "metadata": {},
   "source": [
    "# Exception Handling in Python | Python Tutorial - Day #36"
   ]
  },
  {
   "cell_type": "code",
   "execution_count": null,
   "metadata": {},
   "outputs": [
    {
     "name": "stdout",
     "output_type": "stream",
     "text": [
      "Multiplication table of 5 is: \n",
      "5 x 1 = 5\n",
      "5 x 2 = 10\n",
      "5 x 3 = 15\n",
      "5 x 4 = 20\n",
      "5 x 5 = 25\n",
      "5 x 6 = 30\n",
      "5 x 7 = 35\n",
      "5 x 8 = 40\n",
      "5 x 9 = 45\n",
      "5 x 10 = 50\n",
      "\n",
      "End of program\n"
     ]
    }
   ],
   "source": [
    "a= int(input(\"Enter a number: \"))\n",
    "print(f\"Multiplication table of {a} is: \")\n",
    "\n",
    "for i in range (1,11):\n",
    "    print(f\"{int(a)} x {i} = {int(a)*i}\")  \n",
    "    # do something which does not show error on inserting other than int \n",
    "    # becasue if you write here usman it will show an error. \n",
    "\n",
    "print(\"\\nEnd of program\")\n"
   ]
  },
  {
   "attachments": {},
   "cell_type": "markdown",
   "metadata": {},
   "source": [
    "Excetion handling handles unwanted inputs and error due to those inputs."
   ]
  },
  {
   "cell_type": "code",
   "execution_count": null,
   "metadata": {},
   "outputs": [
    {
     "name": "stdout",
     "output_type": "stream",
     "text": [
      "Multiplication table of s is: \n",
      "Invalid Input. Please enter an Integer value\n",
      "\n",
      "End of program\n"
     ]
    }
   ],
   "source": [
    "a= input(\"Enter a number: \")\n",
    "print(f\"Multiplication table of {a} is: \")\n",
    "\n",
    "try:\n",
    "    for i in range (1,11):\n",
    "        print(f\"{int(a)} x {i} = {int(a)*i}\")   # do something which does not show error on inserting other than int \n",
    "        # becasue if you write here usman it will show an error\n",
    "        \n",
    "except Exception as e:\n",
    "    print(\"Invalid Input. Please enter an Integer value\")\n",
    "\n",
    "print(\"\\nEnd of program\")"
   ]
  },
  {
   "cell_type": "code",
   "execution_count": null,
   "metadata": {},
   "outputs": [
    {
     "name": "stdout",
     "output_type": "stream",
     "text": [
      "Index Error\n"
     ]
    }
   ],
   "source": [
    "try: \n",
    "    num = int(input(\"Enter an integer. \"))\n",
    "    a=[6,3]  #index 0 and 1 hi insert kr skte ho only\n",
    "    print(a[num])\n",
    "except ValueError:\n",
    "    print(\"Number entered is not an integer \")\n",
    "except IndexError:\n",
    "    print(\"Index Error\")\n"
   ]
  },
  {
   "attachments": {},
   "cell_type": "markdown",
   "metadata": {},
   "source": [
    "# Finally keyword in Python | Python Tutorial - Day #37"
   ]
  },
  {
   "cell_type": "code",
   "execution_count": null,
   "metadata": {},
   "outputs": [
    {
     "name": "stdout",
     "output_type": "stream",
     "text": [
      "Error: Out of index\n",
      "I am always executed\n"
     ]
    }
   ],
   "source": [
    "   \n",
    "try:\n",
    "    l = [1,5,6,7]\n",
    "    i = int(input(\"Enter the index \")) # insert any index number and corresponding number at that index will be the output. \n",
    "    print(l[i]) \n",
    "except:\n",
    "    print(\"Error: Out of index\") \n",
    "\n",
    "finally: \n",
    "    print(\"I am always executed\")  # whether error occurs or not this will execute at any cost. "
   ]
  },
  {
   "attachments": {},
   "cell_type": "markdown",
   "metadata": {},
   "source": [
    "Now you could have wrote ``` print(\"I am always executed\")``` without finally then why we use finally?"
   ]
  },
  {
   "cell_type": "code",
   "execution_count": null,
   "metadata": {},
   "outputs": [
    {
     "name": "stdout",
     "output_type": "stream",
     "text": [
      "Error: Some error occured\n",
      "I am always executed\n",
      "0\n"
     ]
    }
   ],
   "source": [
    "def func1():    \n",
    "    try:\n",
    "        l = [1,5,6,7]\n",
    "        i = int(input(\"Enter the index: \")) # insert any index number and corresponding number at that index will be the output. \n",
    "        print(l[i]) \n",
    "        return 1\n",
    "    except:\n",
    "        print(\"Error: Some error occured\") \n",
    "        return 0\n",
    "\n",
    "    finally: \n",
    "       print(\"I am always executed\")  # whether error occurs or not this will execute. \n",
    "#interview question finally ka use kia ha\n",
    "    #print(\"I am always executed\")\n",
    "\n",
    "x = func1()\n",
    "print(x)"
   ]
  },
  {
   "cell_type": "markdown",
   "metadata": {},
   "source": [
    "# Raising custom errors in Python | Python Tutorial - Day #38"
   ]
  },
  {
   "cell_type": "code",
   "execution_count": null,
   "metadata": {},
   "outputs": [
    {
     "name": "stdout",
     "output_type": "stream",
     "text": [
      "Sahi hogea beta\n"
     ]
    }
   ],
   "source": [
    "a= int(input(\"Enter a number betweeen 5 to 9\"))\n",
    "\n",
    "if a<5 or a>9:\n",
    "    raise ValueError(\"You have entered non allowed value\") #customer error raised by raise keyword\n",
    "else:\n",
    "    print(\"Sahi hogea beta\")"
   ]
  },
  {
   "cell_type": "code",
   "execution_count": null,
   "metadata": {},
   "outputs": [
    {
     "name": "stdout",
     "output_type": "stream",
     "text": [
      "\n",
      "\n",
      "Question for Rs. 1000\n",
      "a. Python          b. French \n",
      "c. JavaScript          d. Php \n"
     ]
    },
    {
     "ename": "ValueError",
     "evalue": "invalid literal for int() with base 10: ''",
     "output_type": "error",
     "traceback": [
      "\u001b[1;31m---------------------------------------------------------------------------\u001b[0m",
      "\u001b[1;31mValueError\u001b[0m                                Traceback (most recent call last)",
      "\u001b[1;32m~\\AppData\\Local\\Temp/ipykernel_11552/3453744505.py\u001b[0m in \u001b[0;36m<cell line: 102>\u001b[1;34m()\u001b[0m\n\u001b[0;32m    106\u001b[0m   \u001b[0mprint\u001b[0m\u001b[1;33m(\u001b[0m\u001b[1;34mf\"a. {question[1]}          b. {question[2]} \"\u001b[0m\u001b[1;33m)\u001b[0m\u001b[1;33m\u001b[0m\u001b[1;33m\u001b[0m\u001b[0m\n\u001b[0;32m    107\u001b[0m   \u001b[0mprint\u001b[0m\u001b[1;33m(\u001b[0m\u001b[1;34mf\"c. {question[3]}          d. {question[4]} \"\u001b[0m\u001b[1;33m)\u001b[0m\u001b[1;33m\u001b[0m\u001b[1;33m\u001b[0m\u001b[0m\n\u001b[1;32m--> 108\u001b[1;33m   \u001b[0mreply\u001b[0m \u001b[1;33m=\u001b[0m \u001b[0mint\u001b[0m\u001b[1;33m(\u001b[0m\u001b[0minput\u001b[0m\u001b[1;33m(\u001b[0m\u001b[1;34m\"Enter your answer (1-4) or  0 to quit:\\n\"\u001b[0m \u001b[1;33m)\u001b[0m\u001b[1;33m)\u001b[0m\u001b[1;33m\u001b[0m\u001b[1;33m\u001b[0m\u001b[0m\n\u001b[0m\u001b[0;32m    109\u001b[0m   \u001b[1;32mif\u001b[0m \u001b[1;33m(\u001b[0m\u001b[0mreply\u001b[0m \u001b[1;33m==\u001b[0m \u001b[1;36m0\u001b[0m\u001b[1;33m)\u001b[0m\u001b[1;33m:\u001b[0m\u001b[1;33m\u001b[0m\u001b[1;33m\u001b[0m\u001b[0m\n\u001b[0;32m    110\u001b[0m     \u001b[0mmoney\u001b[0m \u001b[1;33m=\u001b[0m \u001b[0mlevels\u001b[0m\u001b[1;33m[\u001b[0m\u001b[0mi\u001b[0m\u001b[1;33m-\u001b[0m\u001b[1;36m1\u001b[0m\u001b[1;33m]\u001b[0m\u001b[1;33m\u001b[0m\u001b[1;33m\u001b[0m\u001b[0m\n",
      "\u001b[1;31mValueError\u001b[0m: invalid literal for int() with base 10: ''"
     ]
    }
   ],
   "source": [
    "questions = [\n",
    "  [\n",
    "    \"Which language was used to create fb?\", \"Python\", \"French\", \"JavaScript\",\n",
    "    \"Php\", \"None\", 4\n",
    "  ],\n",
    "  [\n",
    "    \"Which language was used to create fb?\", \"Python\", \"French\", \"JavaScript\",\n",
    "    \"Php\", \"None\", 4\n",
    "  ],\n",
    "  [\n",
    "    \"Which language was used to create fb?\", \"Python\", \"French\", \"JavaScript\",\n",
    "    \"Php\", \"None\", 4\n",
    "  ],\n",
    "  [\n",
    "    \"Which language was used to create fb?\", \"Python\", \"French\", \"JavaScript\",\n",
    "    \"Php\", \"None\", 4\n",
    "  ],\n",
    "  [\n",
    "    \"Which language was used to create fb?\", \"Python\", \"French\", \"JavaScript\",\n",
    "    \"Php\", \"None\", 4\n",
    "  ],\n",
    "  [\n",
    "    \"Which language was used to create fb?\", \"Python\", \"French\", \"JavaScript\",\n",
    "    \"Php\", \"None\", 4\n",
    "  ],\n",
    "  [\n",
    "    \"Which language was used to create fb?\", \"Python\", \"French\", \"JavaScript\",\n",
    "    \"Php\", \"None\", 4\n",
    "  ],\n",
    "  [\n",
    "    \"Which language was used to create fb?\", \"Python\", \"French\", \"JavaScript\",\n",
    "    \"Php\", \"None\", 4\n",
    "  ],\n",
    "  [\n",
    "    \"Which language was used to create fb?\", \"Python\", \"French\", \"JavaScript\",\n",
    "    \"Php\", \"None\", 4\n",
    "  ],\n",
    "  [\n",
    "    \"Which language was used to create fb?\", \"Python\", \"French\", \"JavaScript\",\n",
    "    \"Php\", \"None\", 4\n",
    "  ],\n",
    "  [\n",
    "    \"Which language was used to create fb?\", \"Python\", \"French\", \"JavaScript\",\n",
    "    \"Php\", \"None\", 4\n",
    "  ],\n",
    "  [\n",
    "    \"Which language was used to create fb?\", \"Python\", \"French\", \"JavaScript\",\n",
    "    \"Php\", \"None\", 4\n",
    "  ],\n",
    "  [\n",
    "    \"Which language was used to create fb?\", \"Python\", \"French\", \"JavaScript\",\n",
    "    \"Php\", \"None\", 4\n",
    "  ],\n",
    "  [\n",
    "    \"Which language was used to create fb?\", \"Python\", \"French\", \"JavaScript\",\n",
    "    \"Php\", \"None\", 4\n",
    "  ],\n",
    "  [\n",
    "    \"Which language was used to create fb?\", \"Python\", \"French\", \"JavaScript\",\n",
    "    \"Php\", \"None\", 4\n",
    "  ],\n",
    "  [\n",
    "    \"Which language was used to create fb?\", \"Python\", \"French\", \"JavaScript\",\n",
    "    \"Php\", \"None\", 4\n",
    "  ],\n",
    "  [\n",
    "    \"Which language was used to create fb?\", \"Python\", \"French\", \"JavaScript\",\n",
    "    \"Php\", \"None\", 4\n",
    "  ],\n",
    "  [\n",
    "    \"Which language was used to create fb?\", \"Python\", \"French\", \"JavaScript\",\n",
    "    \"Php\", \"None\", 4\n",
    "  ],\n",
    "  [\n",
    "    \"Which language was used to create fb?\", \"Python\", \"French\", \"JavaScript\",\n",
    "    \"Php\", \"None\", 4\n",
    "  ],\n",
    "  [\n",
    "    \"Which language was used to create fb?\", \"Python\", \"French\", \"JavaScript\",\n",
    "    \"Php\", \"None\", 4\n",
    "  ],\n",
    "  [\n",
    "    \"Which language was used to create fb?\", \"Python\", \"French\", \"JavaScript\",\n",
    "    \"Php\", \"None\", 4\n",
    "  ],\n",
    "  [\n",
    "    \"Which language was used to create fb?\", \"Python\", \"French\", \"JavaScript\",\n",
    "    \"Php\", \"None\", 4\n",
    "  ],\n",
    "  [\n",
    "    \"Which language was used to create fb?\", \"Python\", \"French\", \"JavaScript\",\n",
    "    \"Php\", \"None\", 4\n",
    "  ],\n",
    "  [\n",
    "    \"Which language was used to create fb?\", \"Python\", \"French\", \"JavaScript\",\n",
    "    \"Php\", \"None\", 4\n",
    "  ],\n",
    "]\n",
    "\n",
    "levels = [1000, 2000, 3000, 5000, 10000, 20000, 40000, 80000, 160000, 320000]\n",
    "money = 0\n",
    "for i in range(0, len(questions)):\n",
    "  \n",
    "  question = questions[i]\n",
    "  print(f\"\\n\\nQuestion for Rs. {levels[i]}\")\n",
    "  print(f\"a. {question[1]}          b. {question[2]} \")\n",
    "  print(f\"c. {question[3]}          d. {question[4]} \")\n",
    "  reply = int(input(\"Enter your answer (1-4) or  0 to quit:\\n\" ))\n",
    "  if (reply == 0):\n",
    "    money = levels[i-1]\n",
    "    break\n",
    "  if(reply == question[-1]):\n",
    "    print(f\"Correct answer, you have won Rs. {levels[i]}\")\n",
    "    if(i == 4):\n",
    "      money = 10000\n",
    "    elif(i == 9):\n",
    "      money = 320000\n",
    "    elif(i == 14):\n",
    "      money = 10000000\n",
    "  else:\n",
    "    print(\"Wrong answer!\")\n",
    "    break \n",
    "\n",
    "print(f\"Your take home money is {money}\")"
   ]
  },
  {
   "attachments": {},
   "cell_type": "markdown",
   "metadata": {},
   "source": [
    "# Exercise 4: Secret Code Language | Python Tutorial - Day #40"
   ]
  },
  {
   "cell_type": "code",
   "execution_count": null,
   "metadata": {},
   "outputs": [],
   "source": [
    "# Write a python program to translate a message into secret code language. Use the rules below to translate normal English into secret code language\n",
    "\n",
    "# Coding:\n",
    "# if the word contains atleast 3 characters, remove the first letter and append it at the end\n",
    "#   now append three random characters at the starting and the end\n",
    "# else:\n",
    "#   simply reverse the string\n",
    "\n",
    "# Decoding:\n",
    "# if the word contains less than 3 characters, reverse it\n",
    "# else:\n",
    "#   remove 3 random characters from start and end. Now remove the last letter and append it to the beginning\n",
    "\n",
    "# Your program should ask whether you want to code or decode"
   ]
  },
  {
   "cell_type": "code",
   "execution_count": null,
   "metadata": {},
   "outputs": [
    {
     "name": "stdout",
     "output_type": "stream",
     "text": [
      "Encrypted message: Jgnnq yqtnf\n",
      "Decrypted message: Hello world\n"
     ]
    }
   ],
   "source": [
    "def caesar_cipher_encrypt(text, shift):\n",
    "    encrypted_text = \"\"\n",
    "    for char in text:\n",
    "        if char.isalpha():\n",
    "            shift_amount = shift % 26\n",
    "            if char.islower():\n",
    "                encrypted_text += chr((ord(char) - ord('a') + shift_amount) % 26 + ord('a'))\n",
    "            else:\n",
    "                encrypted_text += chr((ord(char) - ord('A') + shift_amount) % 26 + ord('A'))\n",
    "        else:\n",
    "            encrypted_text += char\n",
    "    return encrypted_text\n",
    "\n",
    "def caesar_cipher_decrypt(text, shift):\n",
    "    return caesar_cipher_encrypt(text, -shift)\n",
    "\n",
    "def main():\n",
    "    message = input(\"Enter the message: \")\n",
    "    shift = int(input(\"Enter the shift value: \"))\n",
    "    encrypted_message = caesar_cipher_encrypt(message, shift)\n",
    "    print(\"Encrypted message:\", encrypted_message)\n",
    "    decrypted_message = caesar_cipher_decrypt(encrypted_message, shift)\n",
    "    print(\"Decrypted message:\", decrypted_message)\n",
    "\n",
    "if __name__ == \"__main__\":\n",
    "    main()\n"
   ]
  },
  {
   "attachments": {},
   "cell_type": "markdown",
   "metadata": {},
   "source": [
    "# Short hand if else statements | Python Tutorial - Day #41"
   ]
  },
  {
   "cell_type": "code",
   "execution_count": null,
   "metadata": {},
   "outputs": [
    {
     "name": "stdout",
     "output_type": "stream",
     "text": [
      "B\n"
     ]
    }
   ],
   "source": [
    "a =int(input(\"Enter a number\"))\n",
    "b =int(input(\"Enter b number\"))\n",
    "\n",
    "print(\"A\") if a >b else print(\"=\") if a==b else print('B')\n"
   ]
  },
  {
   "attachments": {},
   "cell_type": "markdown",
   "metadata": {},
   "source": [
    "# Enumerate Function in Python | Python Tutorial - Day #42"
   ]
  },
  {
   "cell_type": "code",
   "execution_count": null,
   "metadata": {},
   "outputs": [
    {
     "name": "stdout",
     "output_type": "stream",
     "text": [
      "12\n",
      "56\n",
      "32\n",
      "98\n",
      "Usman failed\n",
      "12\n",
      "55\n"
     ]
    }
   ],
   "source": [
    "marks = [12, 56, 32,98,12,55]\n",
    "\n",
    "index =0\n",
    "for mark in marks:\n",
    "    print(mark)\n",
    "    if index ==3:\n",
    "        print(\"Usman failed\")\n",
    "    index+=1 #one by one index value will be updated"
   ]
  },
  {
   "cell_type": "code",
   "execution_count": null,
   "metadata": {},
   "outputs": [
    {
     "name": "stdout",
     "output_type": "stream",
     "text": [
      "12\n",
      "56\n",
      "32\n",
      "98\n",
      "3 [12, 56, 32, 98, 12, 55]\n",
      "12\n",
      "55\n"
     ]
    }
   ],
   "source": [
    "marks = [12, 56, 32,98,12,55]\n",
    "\n",
    "\n",
    "for index, mark in enumerate (marks):  # index b dedega sath me value index ki\n",
    "    print(mark)\n",
    "    if index ==3:\n",
    "        print(index, marks)\n",
    "    "
   ]
  },
  {
   "cell_type": "code",
   "execution_count": null,
   "metadata": {},
   "outputs": [
    {
     "name": "stdout",
     "output_type": "stream",
     "text": [
      "2 apple\n",
      "3 oranges\n",
      "4 banana\n"
     ]
    }
   ],
   "source": [
    "fruits = [\"apple\" ,\"oranges\",\"banana\"]\n",
    "\n",
    "for index, fruit in enumerate(fruits,index):\n",
    "  print(index, fruit)\n"
   ]
  },
  {
   "attachments": {},
   "cell_type": "markdown",
   "metadata": {},
   "source": [
    "# Virtual Environment in Python | Python Tutorial - Day #43"
   ]
  },
  {
   "cell_type": "code",
   "execution_count": null,
   "metadata": {},
   "outputs": [
    {
     "name": "stdout",
     "output_type": "stream",
     "text": [
      "Requirement already satisfied: pandas==1.5.2 in c:\\users\\usman-pc\\appdata\\local\\programs\\python\\python310\\lib\\site-packages (1.5.2)\n",
      "Requirement already satisfied: python-dateutil>=2.8.1 in c:\\users\\usman-pc\\appdata\\local\\programs\\python\\python310\\lib\\site-packages (from pandas==1.5.2) (2.8.2)\n",
      "Requirement already satisfied: pytz>=2020.1 in c:\\users\\usman-pc\\appdata\\local\\programs\\python\\python310\\lib\\site-packages (from pandas==1.5.2) (2022.1)\n",
      "Requirement already satisfied: numpy>=1.21.0 in c:\\users\\usman-pc\\appdata\\local\\programs\\python\\python310\\lib\\site-packages (from pandas==1.5.2) (1.22.3)\n",
      "Requirement already satisfied: six>=1.5 in c:\\users\\usman-pc\\appdata\\local\\programs\\python\\python310\\lib\\site-packages (from python-dateutil>=2.8.1->pandas==1.5.2) (1.16.0)\n",
      "Note: you may need to restart the kernel to use updated packages.\n"
     ]
    }
   ],
   "source": [
    "pip install pandas==1.5.2"
   ]
  },
  {
   "cell_type": "code",
   "execution_count": null,
   "metadata": {},
   "outputs": [
    {
     "data": {
      "text/plain": [
       "'1.5.2'"
      ]
     },
     "execution_count": 5,
     "metadata": {},
     "output_type": "execute_result"
    }
   ],
   "source": [
    "import pandas as pd\n",
    "pd.__version__"
   ]
  },
  {
   "cell_type": "code",
   "execution_count": null,
   "metadata": {},
   "outputs": [
    {
     "name": "stdout",
     "output_type": "stream",
     "text": [
      "absl-py==1.0.0\n",
      "alembic==1.7.7\n",
      "argon2-cffi==21.3.0\n",
      "argon2-cffi-bindings==21.2.0\n",
      "asttokens==2.0.5\n",
      "astunparse==1.6.3\n",
      "attrs==21.4.0\n",
      "backcall==0.2.0\n",
      "beautifulsoup4==4.11.1\n",
      "bleach==5.0.0\n",
      "blinker==1.6.2\n",
      "bs4==0.0.1\n",
      "cachetools==5.0.0\n",
      "certifi==2021.10.8\n",
      "cffi==1.15.0\n",
      "charset-normalizer==2.0.12\n",
      "click==8.1.3\n",
      "colorama==0.4.4\n",
      "cycler==0.11.0\n",
      "debugpy==1.6.0\n",
      "decorator==5.1.1\n",
      "defusedxml==0.7.1\n",
      "entrypoints==0.4\n",
      "executing==0.8.3\n",
      "fastjsonschema==2.15.3\n",
      "Flask==2.3.2\n",
      "flatbuffers==2.0\n",
      "fonttools==4.33.2\n",
      "forex-python==1.8\n",
      "gast==0.5.3\n",
      "google-auth==2.6.6\n",
      "google-auth-oauthlib==0.4.6\n",
      "google-pasta==0.2.0\n",
      "grpcio==1.44.0\n",
      "h5py==3.6.0\n",
      "idna==3.3\n",
      "ipykernel==6.4.2\n",
      "ipython==7.33.0\n",
      "ipython-genutils==0.2.0\n",
      "ipywidgets==7.7.0\n",
      "itsdangerous==2.1.2\n",
      "jarowinkler==1.0.2\n",
      "jedi==0.18.1\n",
      "Jinja2==3.1.2\n",
      "joblib==1.1.0\n",
      "jsonschema==4.5.1\n",
      "jupyter==1.0.0\n",
      "jupyter-client==7.2.2\n",
      "jupyter-console==6.4.3\n",
      "jupyter-core==4.10.0\n",
      "jupyterlab-pygments==0.2.2\n",
      "jupyterlab-widgets==1.1.0\n",
      "jupyterthemes==0.20.0\n",
      "keras==2.8.0\n",
      "Keras-Preprocessing==1.1.2\n",
      "kiwisolver==1.4.2\n",
      "lesscpy==0.15.0\n",
      "libclang==14.0.1\n",
      "Mako==1.2.0\n",
      "Markdown==3.3.6\n",
      "MarkupSafe==2.1.1\n",
      "matplotlib==3.5.1\n",
      "matplotlib-inline==0.1.3\n",
      "mistune==0.8.4\n",
      "nbclient==0.6.2\n",
      "nbconvert==5.6.1\n",
      "nbformat==5.3.0\n",
      "nbgrader==0.6.2\n",
      "nest-asyncio==1.5.5\n",
      "nltk==3.7\n",
      "notebook==6.4.11\n",
      "numpy==1.22.3\n",
      "oauthlib==3.2.0\n",
      "opt-einsum==3.3.0\n",
      "packaging==21.3\n",
      "pandas==1.5.2\n",
      "pandocfilters==1.5.0\n",
      "parso==0.8.3\n",
      "pickleshare==0.7.5\n",
      "Pillow==9.1.0\n",
      "plotly==5.14.1\n",
      "ply==3.11\n",
      "prometheus-client==0.14.1\n",
      "prompt-toolkit==3.0.29\n",
      "protobuf==3.20.1\n",
      "psutil==5.9.0\n",
      "pure-eval==0.2.2\n",
      "pyasn1==0.4.8\n",
      "pyasn1-modules==0.2.8\n",
      "pycparser==2.21\n",
      "pygame==2.1.2\n",
      "Pygments==2.12.0\n",
      "PyOpenGL==3.1.7\n",
      "PyOpenGL-accelerate==3.1.7\n",
      "pyparsing==3.0.8\n",
      "pyrsistent==0.18.1\n",
      "python-dateutil==2.8.2\n",
      "pytz==2022.1\n",
      "pywin32==303\n",
      "pywinpty==2.0.5\n",
      "pyzmq==22.3.0\n",
      "qtconsole==5.3.0\n",
      "QtPy==2.1.0\n",
      "rapidfuzz==2.0.11\n",
      "regex==2022.4.24\n",
      "requests==2.27.1\n",
      "requests-oauthlib==1.3.1\n",
      "rsa==4.8\n",
      "scikit-learn==1.0.2\n",
      "scipy==1.8.0\n",
      "seaborn==0.11.2\n",
      "Send2Trash==1.8.0\n",
      "simplejson==3.19.1\n",
      "six==1.16.0\n",
      "sklearn==0.0.post5\n",
      "soupsieve==2.3.2.post1\n",
      "SQLAlchemy==1.3.24\n",
      "stack-data==0.2.0\n",
      "tenacity==8.2.2\n",
      "tensorboard==2.8.0\n",
      "tensorboard-data-server==0.6.1\n",
      "tensorboard-plugin-wit==1.8.1\n",
      "tensorflow==2.8.0\n",
      "tensorflow-io-gcs-filesystem==0.25.0\n",
      "termcolor==1.1.0\n",
      "terminado==0.13.3\n",
      "testpath==0.6.0\n",
      "tf-estimator-nightly==2.8.0.dev2021122109\n",
      "threadpoolctl==3.1.0\n",
      "tinycss2==1.1.1\n",
      "tornado==6.1\n",
      "tqdm==4.64.0\n",
      "traitlets==4.3.3\n",
      "typing_extensions==4.2.0\n",
      "urllib3==1.26.9\n",
      "wcwidth==0.2.5\n",
      "webencodings==0.5.1\n",
      "Werkzeug==2.3.4\n",
      "widgetsnbextension==3.6.0\n",
      "wrapt==1.14.0\n",
      "Note: you may need to restart the kernel to use updated packages.\n"
     ]
    }
   ],
   "source": [
    "pip freeze requirement.txt\n"
   ]
  },
  {
   "cell_type": "markdown",
   "metadata": {},
   "source": [
    "# How import works in Python | Python Tutorial - Day #44"
   ]
  },
  {
   "cell_type": "code",
   "execution_count": null,
   "metadata": {},
   "outputs": [
    {
     "data": {
      "text/plain": [
       "3.141592653589793"
      ]
     },
     "execution_count": 6,
     "metadata": {},
     "output_type": "execute_result"
    }
   ],
   "source": [
    "import math\n",
    "x = math.pi\n",
    "x"
   ]
  },
  {
   "cell_type": "code",
   "execution_count": null,
   "metadata": {},
   "outputs": [],
   "source": [
    "# import everything use *\n",
    "from math import *\n",
    "\n"
   ]
  },
  {
   "cell_type": "code",
   "execution_count": null,
   "metadata": {},
   "outputs": [],
   "source": [
    "def welcome():\n",
    "    print(\"Hello World\")\n",
    "    \n",
    "usman= \"Good Afternoon\"\n"
   ]
  },
  {
   "cell_type": "code",
   "execution_count": null,
   "metadata": {},
   "outputs": [
    {
     "name": "stdout",
     "output_type": "stream",
     "text": [
      "Hello World\n",
      "Good Afternoon\n"
     ]
    }
   ],
   "source": [
    "from usman import welcome, usman\n",
    "welcome()\n",
    "print(usman)"
   ]
  },
  {
   "attachments": {},
   "cell_type": "markdown",
   "metadata": {},
   "source": [
    "# if __name__ == \"__main__\" in Python | Python Tutorial - Day #45\n"
   ]
  },
  {
   "cell_type": "code",
   "execution_count": null,
   "metadata": {},
   "outputs": [
    {
     "name": "stdout",
     "output_type": "stream",
     "text": [
      "Hello World\n"
     ]
    }
   ],
   "source": [
    "import usman\n",
    "\n",
    "usman.welcome()"
   ]
  },
  {
   "attachments": {},
   "cell_type": "markdown",
   "metadata": {},
   "source": [
    "# os Module in Python | Python Tutorial - Day #46"
   ]
  },
  {
   "cell_type": "code",
   "execution_count": null,
   "metadata": {},
   "outputs": [],
   "source": [
    "import os as os\n",
    "\n",
    "if not os.path.exists(\"data\"):\n",
    "    os.mkdir(\"data\")\n",
    "\n",
    "for i in range(0,100):\n",
    "    os.mkdir(f\"data/day{i+1}\")\n"
   ]
  },
  {
   "attachments": {},
   "cell_type": "markdown",
   "metadata": {},
   "source": [
    "How to make folders, 100 folder made"
   ]
  },
  {
   "cell_type": "code",
   "execution_count": null,
   "metadata": {},
   "outputs": [],
   "source": [
    "import os\n",
    "\n",
    "for i in range (0,100):\n",
    "    os.rename(f\"data/ {i+1}\", f\"data/Tutorial {i+1}\")"
   ]
  },
  {
   "cell_type": "code",
   "execution_count": null,
   "metadata": {},
   "outputs": [
    {
     "name": "stdout",
     "output_type": "stream",
     "text": [
      "['Tutorial 1', 'Tutorial 10', 'Tutorial 100', 'Tutorial 11', 'Tutorial 12', 'Tutorial 13', 'Tutorial 14', 'Tutorial 15', 'Tutorial 16', 'Tutorial 17', 'Tutorial 18', 'Tutorial 19', 'Tutorial 2', 'Tutorial 20', 'Tutorial 21', 'Tutorial 22', 'Tutorial 23', 'Tutorial 24', 'Tutorial 25', 'Tutorial 26', 'Tutorial 27', 'Tutorial 28', 'Tutorial 29', 'Tutorial 3', 'Tutorial 30', 'Tutorial 31', 'Tutorial 32', 'Tutorial 33', 'Tutorial 34', 'Tutorial 35', 'Tutorial 36', 'Tutorial 37', 'Tutorial 38', 'Tutorial 39', 'Tutorial 4', 'Tutorial 40', 'Tutorial 41', 'Tutorial 42', 'Tutorial 43', 'Tutorial 44', 'Tutorial 45', 'Tutorial 46', 'Tutorial 47', 'Tutorial 48', 'Tutorial 49', 'Tutorial 5', 'Tutorial 50', 'Tutorial 51', 'Tutorial 52', 'Tutorial 53', 'Tutorial 54', 'Tutorial 55', 'Tutorial 56', 'Tutorial 57', 'Tutorial 58', 'Tutorial 59', 'Tutorial 6', 'Tutorial 60', 'Tutorial 61', 'Tutorial 62', 'Tutorial 63', 'Tutorial 64', 'Tutorial 65', 'Tutorial 66', 'Tutorial 67', 'Tutorial 68', 'Tutorial 69', 'Tutorial 7', 'Tutorial 70', 'Tutorial 71', 'Tutorial 72', 'Tutorial 73', 'Tutorial 74', 'Tutorial 75', 'Tutorial 76', 'Tutorial 77', 'Tutorial 78', 'Tutorial 79', 'Tutorial 8', 'Tutorial 80', 'Tutorial 81', 'Tutorial 82', 'Tutorial 83', 'Tutorial 84', 'Tutorial 85', 'Tutorial 86', 'Tutorial 87', 'Tutorial 88', 'Tutorial 89', 'Tutorial 9', 'Tutorial 90', 'Tutorial 91', 'Tutorial 92', 'Tutorial 93', 'Tutorial 94', 'Tutorial 95', 'Tutorial 96', 'Tutorial 97', 'Tutorial 98', 'Tutorial 99']\n",
      "Tutorial 1\n",
      "[]\n",
      "Tutorial 10\n",
      "[]\n",
      "Tutorial 100\n",
      "[]\n",
      "Tutorial 11\n",
      "[]\n",
      "Tutorial 12\n",
      "[]\n",
      "Tutorial 13\n",
      "[]\n",
      "Tutorial 14\n",
      "[]\n",
      "Tutorial 15\n",
      "[]\n",
      "Tutorial 16\n",
      "[]\n",
      "Tutorial 17\n",
      "[]\n",
      "Tutorial 18\n",
      "[]\n",
      "Tutorial 19\n",
      "[]\n",
      "Tutorial 2\n",
      "[]\n",
      "Tutorial 20\n",
      "[]\n",
      "Tutorial 21\n",
      "[]\n",
      "Tutorial 22\n",
      "[]\n",
      "Tutorial 23\n",
      "[]\n",
      "Tutorial 24\n",
      "[]\n",
      "Tutorial 25\n",
      "[]\n",
      "Tutorial 26\n",
      "[]\n",
      "Tutorial 27\n",
      "[]\n",
      "Tutorial 28\n",
      "[]\n",
      "Tutorial 29\n",
      "[]\n",
      "Tutorial 3\n",
      "[]\n",
      "Tutorial 30\n",
      "[]\n",
      "Tutorial 31\n",
      "[]\n",
      "Tutorial 32\n",
      "[]\n",
      "Tutorial 33\n",
      "[]\n",
      "Tutorial 34\n",
      "[]\n",
      "Tutorial 35\n",
      "[]\n",
      "Tutorial 36\n",
      "[]\n",
      "Tutorial 37\n",
      "[]\n",
      "Tutorial 38\n",
      "[]\n",
      "Tutorial 39\n",
      "[]\n",
      "Tutorial 4\n",
      "[]\n",
      "Tutorial 40\n",
      "[]\n",
      "Tutorial 41\n",
      "[]\n",
      "Tutorial 42\n",
      "[]\n",
      "Tutorial 43\n",
      "[]\n",
      "Tutorial 44\n",
      "[]\n",
      "Tutorial 45\n",
      "[]\n",
      "Tutorial 46\n",
      "[]\n",
      "Tutorial 47\n",
      "[]\n",
      "Tutorial 48\n",
      "[]\n",
      "Tutorial 49\n",
      "[]\n",
      "Tutorial 5\n",
      "[]\n",
      "Tutorial 50\n",
      "[]\n",
      "Tutorial 51\n",
      "[]\n",
      "Tutorial 52\n",
      "[]\n",
      "Tutorial 53\n",
      "[]\n",
      "Tutorial 54\n",
      "[]\n",
      "Tutorial 55\n",
      "[]\n",
      "Tutorial 56\n",
      "[]\n",
      "Tutorial 57\n",
      "[]\n",
      "Tutorial 58\n",
      "[]\n",
      "Tutorial 59\n",
      "[]\n",
      "Tutorial 6\n",
      "[]\n",
      "Tutorial 60\n",
      "[]\n",
      "Tutorial 61\n",
      "[]\n",
      "Tutorial 62\n",
      "[]\n",
      "Tutorial 63\n",
      "[]\n",
      "Tutorial 64\n",
      "[]\n",
      "Tutorial 65\n",
      "[]\n",
      "Tutorial 66\n",
      "[]\n",
      "Tutorial 67\n",
      "[]\n",
      "Tutorial 68\n",
      "[]\n",
      "Tutorial 69\n",
      "[]\n",
      "Tutorial 7\n",
      "[]\n",
      "Tutorial 70\n",
      "[]\n",
      "Tutorial 71\n",
      "[]\n",
      "Tutorial 72\n",
      "[]\n",
      "Tutorial 73\n",
      "[]\n",
      "Tutorial 74\n",
      "[]\n",
      "Tutorial 75\n",
      "[]\n",
      "Tutorial 76\n",
      "[]\n",
      "Tutorial 77\n",
      "[]\n",
      "Tutorial 78\n",
      "[]\n",
      "Tutorial 79\n",
      "[]\n",
      "Tutorial 8\n",
      "[]\n",
      "Tutorial 80\n",
      "[]\n",
      "Tutorial 81\n",
      "[]\n",
      "Tutorial 82\n",
      "[]\n",
      "Tutorial 83\n",
      "[]\n",
      "Tutorial 84\n",
      "[]\n",
      "Tutorial 85\n",
      "[]\n",
      "Tutorial 86\n",
      "[]\n",
      "Tutorial 87\n",
      "[]\n",
      "Tutorial 88\n",
      "[]\n",
      "Tutorial 89\n",
      "[]\n",
      "Tutorial 9\n",
      "[]\n",
      "Tutorial 90\n",
      "[]\n",
      "Tutorial 91\n",
      "[]\n",
      "Tutorial 92\n",
      "[]\n",
      "Tutorial 93\n",
      "[]\n",
      "Tutorial 94\n",
      "[]\n",
      "Tutorial 95\n",
      "[]\n",
      "Tutorial 96\n",
      "[]\n",
      "Tutorial 97\n",
      "[]\n",
      "Tutorial 98\n",
      "[]\n",
      "Tutorial 99\n",
      "[]\n"
     ]
    }
   ],
   "source": [
    "folders=os.listdir(\"data\")\n",
    "\n",
    "print(folders)\n",
    "\n",
    "for folder in folders:\n",
    "    print(folder)\n",
    "    print(os.listdir(f\"data/{folder}\"))"
   ]
  },
  {
   "attachments": {},
   "cell_type": "markdown",
   "metadata": {},
   "source": [
    "# *Exercise 4: Solutions and Shoutouts | Python Tutorial - Day #47*"
   ]
  },
  {
   "attachments": {},
   "cell_type": "markdown",
   "metadata": {},
   "source": [
    "### Write a python program to translate a message into secret code language. Use the rules below to translate normal English into secret code language\n",
    "\n",
    " Coding:\n",
    "\n",
    " if the word contains atleast 3 characters, remove the first letter and append it at the end\n",
    "   now append three random characters at the starting and the end\n",
    "   \n",
    "else:\n",
    "\n",
    "simply reverse the string\n",
    "\n",
    " Decoding:\n",
    "\n",
    "if the word contains less than 3 characters, reverse it\n",
    "\n",
    "else:\n",
    "\n",
    "remove 3 random characters from start and end. Now remove the last letter and append it to the beginning\n",
    "Your program should ask whether you want to code or decode"
   ]
  },
  {
   "cell_type": "code",
   "execution_count": null,
   "metadata": {},
   "outputs": [
    {
     "name": "stdout",
     "output_type": "stream",
     "text": [
      "True\n",
      "sa\n"
     ]
    }
   ],
   "source": [
    "st= input(\"Enter the message: \")\n",
    "words= st.split(\" \")\n",
    "\n",
    "coding= input(\"1 for Coding or 0 for decoding\")\n",
    "coding =True if (coding==\"1\") else False\n",
    "print(coding)\n",
    "if (coding):\n",
    "    nwords= []\n",
    "    for word in words:\n",
    "        if(len(word)>=3):\n",
    "            r1= \"dsf\"\n",
    "            r2= \"jkr\"\n",
    "            stnew= r1+ word[1:] + word[0] + r2  # h end pe agea dekhloo\n",
    "            nwords.append(stnew)\n",
    "        else:\n",
    "            nwords.append(word[::-1])\n",
    "    print(\" \".join(nwords))\n",
    "     # pass is used when you want to put code in future not now then you write ```pass```\n",
    "\n",
    "else: \n",
    "    nwords= []\n",
    "    for word in words:\n",
    "        if(len(word)>=3):\n",
    "            stnew= word[3:-3] \n",
    "            stnew= stnew[-1] + stnew [:-1]\n",
    "            nwords.append(stnew)\n",
    "        else:\n",
    "            nwords.append(word[::-1])\n",
    "    print(\" \". join(nwords))"
   ]
  },
  {
   "attachments": {},
   "cell_type": "markdown",
   "metadata": {},
   "source": [
    "## Random cypher text\n"
   ]
  },
  {
   "cell_type": "code",
   "execution_count": null,
   "metadata": {},
   "outputs": [
    {
     "ename": "IndexError",
     "evalue": "string index out of range",
     "output_type": "error",
     "traceback": [
      "\u001b[1;31m---------------------------------------------------------------------------\u001b[0m",
      "\u001b[1;31mIndexError\u001b[0m                                Traceback (most recent call last)",
      "\u001b[1;32m~\\AppData\\Local\\Temp/ipykernel_5216/159158737.py\u001b[0m in \u001b[0;36m<cell line: 36>\u001b[1;34m()\u001b[0m\n\u001b[0;32m     34\u001b[0m \u001b[1;33m\u001b[0m\u001b[0m\n\u001b[0;32m     35\u001b[0m \u001b[0mrandom\u001b[0m\u001b[1;33m.\u001b[0m\u001b[0mseed\u001b[0m\u001b[1;33m(\u001b[0m\u001b[1;36m42\u001b[0m\u001b[1;33m)\u001b[0m  \u001b[1;31m# Set a seed for consistent random results (optional)\u001b[0m\u001b[1;33m\u001b[0m\u001b[1;33m\u001b[0m\u001b[0m\n\u001b[1;32m---> 36\u001b[1;33m \u001b[0mencoded_decoded_message\u001b[0m \u001b[1;33m=\u001b[0m \u001b[0mrandom_encode_decode\u001b[0m\u001b[1;33m(\u001b[0m\u001b[0mmessage\u001b[0m\u001b[1;33m,\u001b[0m \u001b[0mencoding\u001b[0m\u001b[1;33m)\u001b[0m\u001b[1;33m\u001b[0m\u001b[1;33m\u001b[0m\u001b[0m\n\u001b[0m\u001b[0;32m     37\u001b[0m \u001b[0mprint\u001b[0m\u001b[1;33m(\u001b[0m\u001b[1;34m\"Result:\"\u001b[0m\u001b[1;33m,\u001b[0m \u001b[0mencoded_decoded_message\u001b[0m\u001b[1;33m)\u001b[0m\u001b[1;33m\u001b[0m\u001b[1;33m\u001b[0m\u001b[0m\n",
      "\u001b[1;32m~\\AppData\\Local\\Temp/ipykernel_5216/159158737.py\u001b[0m in \u001b[0;36mrandom_encode_decode\u001b[1;34m(message, encoding)\u001b[0m\n\u001b[0;32m     22\u001b[0m                 \u001b[0mresult\u001b[0m\u001b[1;33m.\u001b[0m\u001b[0mappend\u001b[0m\u001b[1;33m(\u001b[0m\u001b[0mencoded_word\u001b[0m\u001b[1;33m)\u001b[0m\u001b[1;33m\u001b[0m\u001b[1;33m\u001b[0m\u001b[0m\n\u001b[0;32m     23\u001b[0m             \u001b[1;32melse\u001b[0m\u001b[1;33m:\u001b[0m\u001b[1;33m\u001b[0m\u001b[1;33m\u001b[0m\u001b[0m\n\u001b[1;32m---> 24\u001b[1;33m                 \u001b[0mdecoded_word\u001b[0m \u001b[1;33m=\u001b[0m \u001b[0mdecode_word\u001b[0m\u001b[1;33m(\u001b[0m\u001b[0mword\u001b[0m\u001b[1;33m)\u001b[0m\u001b[1;33m\u001b[0m\u001b[1;33m\u001b[0m\u001b[0m\n\u001b[0m\u001b[0;32m     25\u001b[0m                 \u001b[0mresult\u001b[0m\u001b[1;33m.\u001b[0m\u001b[0mappend\u001b[0m\u001b[1;33m(\u001b[0m\u001b[0mdecoded_word\u001b[0m\u001b[1;33m)\u001b[0m\u001b[1;33m\u001b[0m\u001b[1;33m\u001b[0m\u001b[0m\n\u001b[0;32m     26\u001b[0m         \u001b[1;32melse\u001b[0m\u001b[1;33m:\u001b[0m\u001b[1;33m\u001b[0m\u001b[1;33m\u001b[0m\u001b[0m\n",
      "\u001b[1;32m~\\AppData\\Local\\Temp/ipykernel_5216/159158737.py\u001b[0m in \u001b[0;36mdecode_word\u001b[1;34m(word)\u001b[0m\n\u001b[0;32m      9\u001b[0m \u001b[1;32mdef\u001b[0m \u001b[0mdecode_word\u001b[0m\u001b[1;33m(\u001b[0m\u001b[0mword\u001b[0m\u001b[1;33m)\u001b[0m\u001b[1;33m:\u001b[0m\u001b[1;33m\u001b[0m\u001b[1;33m\u001b[0m\u001b[0m\n\u001b[0;32m     10\u001b[0m     \u001b[0mdecoded_word\u001b[0m \u001b[1;33m=\u001b[0m \u001b[0mword\u001b[0m\u001b[1;33m[\u001b[0m\u001b[1;36m3\u001b[0m\u001b[1;33m:\u001b[0m\u001b[1;33m-\u001b[0m\u001b[1;36m3\u001b[0m\u001b[1;33m]\u001b[0m\u001b[1;33m\u001b[0m\u001b[1;33m\u001b[0m\u001b[0m\n\u001b[1;32m---> 11\u001b[1;33m     \u001b[0mdecoded_word\u001b[0m \u001b[1;33m=\u001b[0m \u001b[0mdecoded_word\u001b[0m\u001b[1;33m[\u001b[0m\u001b[1;33m-\u001b[0m\u001b[1;36m1\u001b[0m\u001b[1;33m]\u001b[0m \u001b[1;33m+\u001b[0m \u001b[0mdecoded_word\u001b[0m\u001b[1;33m[\u001b[0m\u001b[1;33m:\u001b[0m\u001b[1;33m-\u001b[0m\u001b[1;36m1\u001b[0m\u001b[1;33m]\u001b[0m\u001b[1;33m\u001b[0m\u001b[1;33m\u001b[0m\u001b[0m\n\u001b[0m\u001b[0;32m     12\u001b[0m     \u001b[1;32mreturn\u001b[0m \u001b[0mdecoded_word\u001b[0m\u001b[1;33m\u001b[0m\u001b[1;33m\u001b[0m\u001b[0m\n\u001b[0;32m     13\u001b[0m \u001b[1;33m\u001b[0m\u001b[0m\n",
      "\u001b[1;31mIndexError\u001b[0m: string index out of range"
     ]
    }
   ],
   "source": [
    "import random\n",
    "\n",
    "def encode_word(word):\n",
    "    r1 = \"dsf\"\n",
    "    r2 = \"jkr\"\n",
    "    encoded_word = r1 + word[1:] + word[0] + r2\n",
    "    return encoded_word\n",
    "\n",
    "def decode_word(word):\n",
    "    decoded_word = word[3:-3]\n",
    "    decoded_word = decoded_word[-1] + decoded_word[:-1]\n",
    "    return decoded_word\n",
    "\n",
    "def random_encode_decode(message, encoding=True):\n",
    "    words = message.split()\n",
    "    result = []\n",
    "\n",
    "    for word in words:\n",
    "        if len(word) >= 3:\n",
    "            if encoding:\n",
    "                encoded_word = encode_word(word)\n",
    "                result.append(encoded_word)\n",
    "            else:\n",
    "                decoded_word = decode_word(word)\n",
    "                result.append(decoded_word)\n",
    "        else:\n",
    "            result.append(word[::-1])\n",
    "\n",
    "    return \" \".join(result)\n",
    "\n",
    "message = input(\"Enter the message: \")\n",
    "choice = input(\"Enter 1 for encoding or 0 for decoding: \")\n",
    "encoding = True if choice == \"1\" else False\n",
    "\n",
    "random.seed(42)  # Set a seed for consistent random results (optional)\n",
    "encoded_decoded_message = random_encode_decode(message, encoding)\n",
    "print(\"Result:\", encoded_decoded_message)\n"
   ]
  },
  {
   "cell_type": "code",
   "execution_count": null,
   "metadata": {},
   "outputs": [
    {
     "ename": "ValueError",
     "evalue": "Invalid choice entered. Please enter either 0 or 1.",
     "output_type": "error",
     "traceback": [
      "\u001b[1;31m---------------------------------------------------------------------------\u001b[0m",
      "\u001b[1;31mValueError\u001b[0m                                Traceback (most recent call last)",
      "\u001b[1;32m~\\AppData\\Local\\Temp/ipykernel_5216/2573461001.py\u001b[0m in \u001b[0;36m<cell line: 34>\u001b[1;34m()\u001b[0m\n\u001b[0;32m     33\u001b[0m \u001b[0mchoice\u001b[0m \u001b[1;33m=\u001b[0m \u001b[0minput\u001b[0m\u001b[1;33m(\u001b[0m\u001b[1;34m\"Enter 1 for encoding or 0 for decoding: \"\u001b[0m\u001b[1;33m)\u001b[0m\u001b[1;33m\u001b[0m\u001b[1;33m\u001b[0m\u001b[0m\n\u001b[0;32m     34\u001b[0m \u001b[1;32mif\u001b[0m \u001b[0mchoice\u001b[0m \u001b[1;32mnot\u001b[0m \u001b[1;32min\u001b[0m \u001b[1;33m[\u001b[0m\u001b[1;34m\"0\"\u001b[0m\u001b[1;33m,\u001b[0m \u001b[1;34m\"1\"\u001b[0m\u001b[1;33m]\u001b[0m\u001b[1;33m:\u001b[0m\u001b[1;33m\u001b[0m\u001b[1;33m\u001b[0m\u001b[0m\n\u001b[1;32m---> 35\u001b[1;33m     \u001b[1;32mraise\u001b[0m \u001b[0mValueError\u001b[0m\u001b[1;33m(\u001b[0m\u001b[1;34m\"Invalid choice entered. Please enter either 0 or 1.\"\u001b[0m\u001b[1;33m)\u001b[0m\u001b[1;33m\u001b[0m\u001b[1;33m\u001b[0m\u001b[0m\n\u001b[0m\u001b[0;32m     36\u001b[0m     \u001b[0mprint\u001b[0m\u001b[1;33m(\u001b[0m\u001b[0mValueError\u001b[0m\u001b[1;33m)\u001b[0m\u001b[1;33m\u001b[0m\u001b[1;33m\u001b[0m\u001b[0m\n\u001b[0;32m     37\u001b[0m \u001b[1;33m\u001b[0m\u001b[0m\n",
      "\u001b[1;31mValueError\u001b[0m: Invalid choice entered. Please enter either 0 or 1."
     ]
    }
   ],
   "source": [
    "import random\n",
    "\n",
    "def encode_word(word):\n",
    "    r1 = \"dsf\"\n",
    "    r2 = \"jkr\"\n",
    "    encoded_word = r1 + word[1:] + word[0] + r2\n",
    "    return encoded_word\n",
    "\n",
    "def decode_word(word):\n",
    "    decoded_word = word[3:-3]\n",
    "    decoded_word = decoded_word[-1] + decoded_word[:-1]\n",
    "    return decoded_word\n",
    "\n",
    "def random_encode_decode(message, encoding=True):\n",
    "    words = message.split()\n",
    "    result = []\n",
    "\n",
    "    for word in words:\n",
    "        if len(word) >= 3:\n",
    "            if encoding:\n",
    "                encoded_word = encode_word(word)\n",
    "                result.append(encoded_word)\n",
    "            else:\n",
    "                decoded_word = decode_word(word)\n",
    "                result.append(decoded_word)\n",
    "        else:\n",
    "            result.append(word[::-1])\n",
    "\n",
    "    return \" \".join(result)\n",
    "\n",
    "message = input(\"Enter the message: \")\n",
    "\n",
    "choice = input(\"Enter 1 for encoding or 0 for decoding: \")\n",
    "if choice not in [\"0\", \"1\"]:\n",
    "    raise ValueError(\"Invalid choice entered. Please enter either 0 or 1.\")\n",
    "    \n",
    "\n",
    "encoding = True if choice == \"1\" else False\n",
    "\n",
    "random.seed(42)  # Set a seed for consistent random results (optional)\n",
    "encoded_decoded_message = random_encode_decode(message, encoding)\n",
    "print(\"Result:\", encoded_decoded_message)\n"
   ]
  },
  {
   "cell_type": "code",
   "execution_count": null,
   "metadata": {},
   "outputs": [
    {
     "name": "stdout",
     "output_type": "stream",
     "text": [
      "['usman']\n"
     ]
    }
   ],
   "source": [
    "st= input(\"Enter the message: \")\n",
    "words= st.split(\"   \")\n",
    "print(words)"
   ]
  },
  {
   "attachments": {},
   "cell_type": "markdown",
   "metadata": {},
   "source": [
    "# Local vs Global Variables in Python| Python Tutorial - Day #48"
   ]
  },
  {
   "cell_type": "code",
   "execution_count": 14,
   "metadata": {},
   "outputs": [
    {
     "name": "stdout",
     "output_type": "stream",
     "text": [
      "5\n",
      "4\n"
     ]
    }
   ],
   "source": [
    "x = 10 # global variable\n",
    "\n",
    "def my_function():\n",
    "  global x # istrha krne se x variable ko global bana dega \n",
    "  x = 4\n",
    "  y = 5 # local variable\n",
    "  print(y)\n",
    "\n",
    "my_function()\n",
    "print(x)\n",
    "#print(my_function) # this will cause an error because y is a local variable and is not accessible outside of the function"
   ]
  },
  {
   "attachments": {},
   "cell_type": "markdown",
   "metadata": {},
   "source": [
    "# File IO in Python | Python Tutorial - Day #49"
   ]
  },
  {
   "cell_type": "code",
   "execution_count": 21,
   "metadata": {},
   "outputs": [
    {
     "name": "stdout",
     "output_type": "stream",
     "text": [
      "<_io.TextIOWrapper name='tutorial.md' mode='r' encoding='cp1252'>\n",
      "# Oh hello pagal\n",
      "\n"
     ]
    },
    {
     "data": {
      "text/plain": [
       "<function TextIOWrapper.close()>"
      ]
     },
     "execution_count": 21,
     "metadata": {},
     "output_type": "execute_result"
    }
   ],
   "source": [
    "f= open(\"tutorial.md\",\"r\")\n",
    "print(f)\n",
    "text = f.read()\n",
    "print(text)\n",
    "f.close"
   ]
  },
  {
   "cell_type": "code",
   "execution_count": 29,
   "metadata": {},
   "outputs": [],
   "source": [
    "f= open(\"tutorial.md\",\"a\")\n",
    "f.write(\"# Hello mad\")\n",
    "f.close()"
   ]
  },
  {
   "cell_type": "code",
   "execution_count": 30,
   "metadata": {},
   "outputs": [],
   "source": [
    "#or another method to write\n",
    "\n",
    "with open(\"tutorial.md\", \"a\") as f:\n",
    "    f.write(\"  Ek new tareeka\")\n"
   ]
  },
  {
   "attachments": {},
   "cell_type": "markdown",
   "metadata": {},
   "source": [
    "# read(), readlines() and other methods | Python Tutorial - Day #50"
   ]
  },
  {
   "cell_type": "code",
   "execution_count": 43,
   "metadata": {},
   "outputs": [
    {
     "name": "stdout",
     "output_type": "stream",
     "text": [
      "Marks of student 1 in Maths is: 56\n",
      "\n",
      "Marks of student 1 in English is: 45\n",
      "Marks of student 1 in SST is: 67\n",
      "Marks of student 2 in Maths is: 45\n",
      "\n",
      "Marks of student 2 in English is: 90\n",
      "Marks of student 2 in SST is: 80\n",
      "Marks of student 3 in Maths is: 60\n",
      "\n",
      "Marks of student 3 in English is: 70\n",
      "Marks of student 3 in SST is: 80\n"
     ]
    },
    {
     "ename": "ValueError",
     "evalue": "invalid literal for int() with base 10: '\\n'",
     "output_type": "error",
     "traceback": [
      "\u001b[1;31m---------------------------------------------------------------------------\u001b[0m",
      "\u001b[1;31mValueError\u001b[0m                                Traceback (most recent call last)",
      "\u001b[1;32m~\\AppData\\Local\\Temp/ipykernel_11740/287297239.py\u001b[0m in \u001b[0;36m<cell line: 3>\u001b[1;34m()\u001b[0m\n\u001b[0;32m      7\u001b[0m         \u001b[1;32mbreak\u001b[0m\u001b[1;33m\u001b[0m\u001b[1;33m\u001b[0m\u001b[0m\n\u001b[0;32m      8\u001b[0m \u001b[1;33m\u001b[0m\u001b[0m\n\u001b[1;32m----> 9\u001b[1;33m     \u001b[0mm1\u001b[0m \u001b[1;33m=\u001b[0m \u001b[0mint\u001b[0m\u001b[1;33m(\u001b[0m\u001b[0mline\u001b[0m\u001b[1;33m.\u001b[0m\u001b[0msplit\u001b[0m\u001b[1;33m(\u001b[0m\u001b[1;34m\",\"\u001b[0m\u001b[1;33m)\u001b[0m\u001b[1;33m[\u001b[0m\u001b[1;36m0\u001b[0m\u001b[1;33m]\u001b[0m\u001b[1;33m)\u001b[0m\u001b[1;33m\u001b[0m\u001b[1;33m\u001b[0m\u001b[0m\n\u001b[0m\u001b[0;32m     10\u001b[0m     \u001b[0mm2\u001b[0m \u001b[1;33m=\u001b[0m \u001b[0mint\u001b[0m\u001b[1;33m(\u001b[0m\u001b[0mline\u001b[0m\u001b[1;33m.\u001b[0m\u001b[0msplit\u001b[0m\u001b[1;33m(\u001b[0m\u001b[1;34m\",\"\u001b[0m\u001b[1;33m)\u001b[0m\u001b[1;33m[\u001b[0m\u001b[1;36m1\u001b[0m\u001b[1;33m]\u001b[0m\u001b[1;33m)\u001b[0m\u001b[1;33m\u001b[0m\u001b[1;33m\u001b[0m\u001b[0m\n\u001b[0;32m     11\u001b[0m     \u001b[0mm3\u001b[0m \u001b[1;33m=\u001b[0m \u001b[0mint\u001b[0m\u001b[1;33m(\u001b[0m\u001b[0mline\u001b[0m\u001b[1;33m.\u001b[0m\u001b[0msplit\u001b[0m\u001b[1;33m(\u001b[0m\u001b[1;34m\",\"\u001b[0m\u001b[1;33m)\u001b[0m\u001b[1;33m[\u001b[0m\u001b[1;36m2\u001b[0m\u001b[1;33m]\u001b[0m\u001b[1;33m)\u001b[0m\u001b[1;33m\u001b[0m\u001b[1;33m\u001b[0m\u001b[0m\n",
      "\u001b[1;31mValueError\u001b[0m: invalid literal for int() with base 10: '\\n'"
     ]
    }
   ],
   "source": [
    "f= open (\"tutorial.md\", \"r\")\n",
    "i=0\n",
    "while True:\n",
    "    i=i+1\n",
    "    line = f.readline()\n",
    "    if not line:\n",
    "        break\n",
    "    \n",
    "    m1 = int(line.split(\",\")[0])\n",
    "    m2 = int(line.split(\",\")[1])\n",
    "    m3 = int(line.split(\",\")[2])\n",
    "    m1, m2, m3 = map(int, line.split(\",\"))\n",
    "    print(f\"Marks of student {i} in Maths is: {m1}\\n\")\n",
    "    print(f\"Marks of student {i} in English is: {m2}\")\n",
    "    print(f\"Marks of student {i} in SST is: {m3}\")\n"
   ]
  },
  {
   "cell_type": "code",
   "execution_count": 44,
   "metadata": {},
   "outputs": [
    {
     "name": "stdout",
     "output_type": "stream",
     "text": [
      "Marks of student 1 in Maths is: 56\n",
      "Marks of student 1 in English is: 45\n",
      "Marks of student 1 in SST is: 67\n",
      "Marks of student 2 in Maths is: 45\n",
      "Marks of student 2 in English is: 90\n",
      "Marks of student 2 in SST is: 80\n",
      "Marks of student 3 in Maths is: 60\n",
      "Marks of student 3 in English is: 70\n",
      "Marks of student 3 in SST is: 80\n"
     ]
    }
   ],
   "source": [
    "#chat gpt answer\n",
    "f = open(\"tutorial.md\", \"r\")\n",
    "i = 0\n",
    "while True:\n",
    "    i = i + 1\n",
    "    line = f.readline()\n",
    "    if not line:\n",
    "        break\n",
    "    line = line.strip()  # Remove leading/trailing whitespace including newline characters\n",
    "    if line:  # Check if the line is not empty\n",
    "        m1, m2, m3 = map(int, line.split(\",\"))\n",
    "        print(f\"Marks of student {i} in Maths is: {m1}\")\n",
    "        print(f\"Marks of student {i} in English is: {m2}\")\n",
    "        print(f\"Marks of student {i} in SST is: {m3}\")\n",
    "f.close()\n"
   ]
  },
  {
   "cell_type": "code",
   "execution_count": 47,
   "metadata": {},
   "outputs": [
    {
     "ename": "TypeError",
     "evalue": "write() argument must be str, not list",
     "output_type": "error",
     "traceback": [
      "\u001b[1;31m---------------------------------------------------------------------------\u001b[0m",
      "\u001b[1;31mTypeError\u001b[0m                                 Traceback (most recent call last)",
      "\u001b[1;32m~\\AppData\\Local\\Temp/ipykernel_11740/3808778103.py\u001b[0m in \u001b[0;36m<cell line: 3>\u001b[1;34m()\u001b[0m\n\u001b[0;32m      1\u001b[0m \u001b[0mf\u001b[0m \u001b[1;33m=\u001b[0m \u001b[0mopen\u001b[0m\u001b[1;33m(\u001b[0m\u001b[1;34m\"tutorial.md\"\u001b[0m\u001b[1;33m,\u001b[0m \u001b[1;34m\"w\"\u001b[0m\u001b[1;33m)\u001b[0m\u001b[1;33m\u001b[0m\u001b[1;33m\u001b[0m\u001b[0m\n\u001b[0;32m      2\u001b[0m \u001b[0mlines\u001b[0m \u001b[1;33m=\u001b[0m \u001b[1;33m[\u001b[0m\u001b[1;34m\"line 1\\n\"\u001b[0m\u001b[1;33m]\u001b[0m\u001b[1;33m,\u001b[0m\u001b[1;33m[\u001b[0m\u001b[1;34m\"line 2\\n\"\u001b[0m\u001b[1;33m]\u001b[0m\u001b[1;33m,\u001b[0m\u001b[1;33m[\u001b[0m\u001b[1;34m\"line 3\\n\"\u001b[0m\u001b[1;33m]\u001b[0m\u001b[1;33m\u001b[0m\u001b[1;33m\u001b[0m\u001b[0m\n\u001b[1;32m----> 3\u001b[1;33m \u001b[0mf\u001b[0m\u001b[1;33m.\u001b[0m\u001b[0mwritelines\u001b[0m\u001b[1;33m(\u001b[0m\u001b[0mlines\u001b[0m\u001b[1;33m)\u001b[0m\u001b[1;33m\u001b[0m\u001b[1;33m\u001b[0m\u001b[0m\n\u001b[0m\u001b[0;32m      4\u001b[0m \u001b[0mf\u001b[0m\u001b[1;33m.\u001b[0m\u001b[0mclose\u001b[0m\u001b[1;33m(\u001b[0m\u001b[1;33m)\u001b[0m\u001b[1;33m\u001b[0m\u001b[1;33m\u001b[0m\u001b[0m\n",
      "\u001b[1;31mTypeError\u001b[0m: write() argument must be str, not list"
     ]
    }
   ],
   "source": [
    "f = open(\"tutorial.md\", \"w\")\n",
    "lines = [\"line 1\\n\"],[\"line 2\\n\"],[\"line 3\\n\"]\n",
    "f.writelines(lines)\n",
    "f.close()"
   ]
  },
  {
   "cell_type": "code",
   "execution_count": 48,
   "metadata": {},
   "outputs": [],
   "source": [
    "f = open(\"tutorial.md\", \"w\")\n",
    "lines = [\"line 1\\n\", \"line 2\\n\", \"line 3\\n\"]\n",
    "f.writelines(lines)\n",
    "f.close()\n"
   ]
  },
  {
   "attachments": {},
   "cell_type": "markdown",
   "metadata": {},
   "source": [
    "# seek(), tell() and other functions | Python Tutorial - Day #51\n"
   ]
  },
  {
   "cell_type": "code",
   "execution_count": 17,
   "metadata": {},
   "outputs": [
    {
     "name": "stdout",
     "output_type": "stream",
     "text": [
      "<class '_io.TextIOWrapper'>\n",
      "2\n"
     ]
    },
    {
     "ename": "UnsupportedOperation",
     "evalue": "truncate",
     "output_type": "error",
     "traceback": [
      "\u001b[1;31m---------------------------------------------------------------------------\u001b[0m",
      "\u001b[1;31mUnsupportedOperation\u001b[0m                      Traceback (most recent call last)",
      "\u001b[1;32m~\\AppData\\Local\\Temp/ipykernel_10980/2830862474.py\u001b[0m in \u001b[0;36m<cell line: 1>\u001b[1;34m()\u001b[0m\n\u001b[0;32m      7\u001b[0m     \u001b[0mprint\u001b[0m\u001b[1;33m(\u001b[0m\u001b[0mf\u001b[0m\u001b[1;33m.\u001b[0m\u001b[0mtell\u001b[0m\u001b[1;33m(\u001b[0m\u001b[1;33m)\u001b[0m\u001b[1;33m)\u001b[0m\u001b[1;33m\u001b[0m\u001b[1;33m\u001b[0m\u001b[0m\n\u001b[0;32m      8\u001b[0m     \u001b[0mdata\u001b[0m \u001b[1;33m=\u001b[0m \u001b[0mf\u001b[0m\u001b[1;33m.\u001b[0m\u001b[0mread\u001b[0m\u001b[1;33m(\u001b[0m\u001b[1;36m5\u001b[0m\u001b[1;33m)\u001b[0m\u001b[1;33m\u001b[0m\u001b[1;33m\u001b[0m\u001b[0m\n\u001b[1;32m----> 9\u001b[1;33m     \u001b[0mf\u001b[0m\u001b[1;33m.\u001b[0m\u001b[0mtruncate\u001b[0m\u001b[1;33m(\u001b[0m\u001b[1;36m3\u001b[0m\u001b[1;33m)\u001b[0m\u001b[1;33m\u001b[0m\u001b[1;33m\u001b[0m\u001b[0m\n\u001b[0m\u001b[0;32m     10\u001b[0m     \u001b[0mprint\u001b[0m\u001b[1;33m(\u001b[0m\u001b[0mdata\u001b[0m\u001b[1;33m)\u001b[0m\u001b[1;33m\u001b[0m\u001b[1;33m\u001b[0m\u001b[0m\n",
      "\u001b[1;31mUnsupportedOperation\u001b[0m: truncate"
     ]
    }
   ],
   "source": [
    "with open(\"tutorial.md\", \"r\") as f:\n",
    "    print(type(f))\n",
    "\n",
    "    f.seek(2) # 10 bytes agay skip kr k read krayy gaa\n",
    "\n",
    "    # Read the next 5 byts\n",
    "    print(f.tell())\n",
    "    data = f.read(5)   \n",
    "    \n",
    "    print(data)"
   ]
  },
  {
   "cell_type": "code",
   "execution_count": 42,
   "metadata": {},
   "outputs": [
    {
     "name": "stdout",
     "output_type": "stream",
     "text": [
      "Hello Jee scenes kuch esay hain\u0000\u0000\u0000\u0000\u0000\u0000\u0000\u0000\u0000\u0000\u0000\u0000\u0000\u0000\u0000\u0000\u0000\u0000\u0000\u0000\u0000\u0000\u0000\u0000\n"
     ]
    }
   ],
   "source": [
    "with open ('tutorial.txt', 'w') as f:\n",
    "    f.write('Hello Jee scenes kuch esay hain')\n",
    "    f.truncate(55)\n",
    "\n",
    "with open ('tutorial.txt', 'r') as f:\n",
    "    print(f.read())\n",
    "  "
   ]
  },
  {
   "cell_type": "code",
   "execution_count": 43,
   "metadata": {},
   "outputs": [
    {
     "name": "stdout",
     "output_type": "stream",
     "text": [
      "Hello Jee scene\n"
     ]
    }
   ],
   "source": [
    "with open('tutorial.txt', 'w', encoding='utf-8') as f:\n",
    "    f.write('Hello Jee scenes kuch esay hain')\n",
    "    f.truncate(15)\n",
    "\n",
    "with open ('tutorial.txt', 'r') as f:\n",
    "    print(f.read())\n"
   ]
  },
  {
   "cell_type": "code",
   "execution_count": 44,
   "metadata": {},
   "outputs": [],
   "source": [
    "with open('tutorial.txt', 'w') as f:\n",
    "    f.write('Hello Jee scenes kuch esay hain  janab')\n"
   ]
  },
  {
   "attachments": {},
   "cell_type": "markdown",
   "metadata": {},
   "source": [
    "# Lambda functions in Python | Python Tutorial - Day #52"
   ]
  },
  {
   "attachments": {},
   "cell_type": "markdown",
   "metadata": {},
   "source": [
    "Lambda Functions in Python\n",
    "In Python, a lambda function is a small anonymous function without a name. It is defined using the lambda keyword and has the following syntax:\n",
    "\n",
    "lambda arguments: ex"
   ]
  },
  {
   "cell_type": "code",
   "execution_count": 48,
   "metadata": {},
   "outputs": [
    {
     "name": "stdout",
     "output_type": "stream",
     "text": [
      "(10, 6)\n"
     ]
    }
   ],
   "source": [
    "def double(x,y):\n",
    "    return x*2,y*3\n",
    "\n",
    "print(double(5,2))"
   ]
  },
  {
   "attachments": {},
   "cell_type": "markdown",
   "metadata": {},
   "source": [
    "Lambda functions are often used in situations where a small function is required for a short period of time. They are commonly used as arguments to higher-order functions, such as map, filter, and reduce.\n",
    "\n",
    "Here is an example of how to use a lambda function:"
   ]
  },
  {
   "cell_type": "code",
   "execution_count": 50,
   "metadata": {},
   "outputs": [
    {
     "name": "stdout",
     "output_type": "stream",
     "text": [
      "15\n"
     ]
    }
   ],
   "source": [
    "# another  way to do above thing\n",
    "double = lambda x: x*3\n",
    "\n",
    "print(double(5))"
   ]
  },
  {
   "cell_type": "code",
   "execution_count": 58,
   "metadata": {},
   "outputs": [
    {
     "name": "stdout",
     "output_type": "stream",
     "text": [
      "<function <lambda> at 0x00000248E7234B80>\n"
     ]
    }
   ],
   "source": [
    "# another  way to do above thing\n",
    "\n",
    "double= int(input(\" Enter a number\"))\n",
    "double = lambda x: x*3\n",
    "\n",
    "print(double)"
   ]
  },
  {
   "cell_type": "code",
   "execution_count": 74,
   "metadata": {},
   "outputs": [
    {
     "name": "stdout",
     "output_type": "stream",
     "text": [
      "14\n"
     ]
    }
   ],
   "source": [
    "# function ko function pass kr skte hain\n",
    "def appl(fx,value):\n",
    "    return 6 + fx(value) # fx value lega, thats mean # yahan se lega cube ki value 2 agar smj na arai ho tou\n",
    "\n",
    "#cube = lambda x: x*x*x\n",
    "print(appl(cube,2))"
   ]
  },
  {
   "attachments": {},
   "cell_type": "markdown",
   "metadata": {},
   "source": [
    "Lambda functions can also include multiple statements, but they are limited to a single expression. For example:"
   ]
  },
  {
   "cell_type": "code",
   "execution_count": 67,
   "metadata": {},
   "outputs": [
    {
     "name": "stdout",
     "output_type": "stream",
     "text": [
      "5 * 5 = 25\n"
     ]
    }
   ],
   "source": [
    "# Lambda function to calculate the product of two numbers,\n",
    "# With additional print statement\n",
    "\n",
    "\n",
    "multiply=lambda x, y: print(f'{x} * {y} = {x * y}')\n",
    "\n",
    "x = int(input(\"Enter the value of x: \"))\n",
    "\n",
    "y = int(input(\"Enter the value of y: \"))\n",
    "\n",
    "multiply(x, y)"
   ]
  },
  {
   "attachments": {},
   "cell_type": "markdown",
   "metadata": {},
   "source": [
    "# Map, Filter and Reduce in Python | Python Tutorial - Day #53"
   ]
  },
  {
   "cell_type": "code",
   "execution_count": 2,
   "metadata": {},
   "outputs": [
    {
     "name": "stdout",
     "output_type": "stream",
     "text": [
      "16\n",
      "[1, 16, 81, 256, 625]\n"
     ]
    }
   ],
   "source": [
    "##MAP SHORTENS THE CODE\n",
    "\n",
    "def cube(x):\n",
    "    return x*x*x*x\n",
    "\n",
    "print (cube(2))\n",
    "\n",
    "l= [1,2,3,4,5]\n",
    "\n",
    "newl = list (map (cube, l))\n",
    "print(newl)"
   ]
  },
  {
   "cell_type": "code",
   "execution_count": 17,
   "metadata": {},
   "outputs": [
    {
     "name": "stdout",
     "output_type": "stream",
     "text": [
      "[5]\n"
     ]
    }
   ],
   "source": [
    "# return if greater then 4 or false\n",
    "l = [int(input(\"Enter a number\"))]\n",
    "\n",
    "def filter_function(a):\n",
    "\n",
    "    return a>4\n",
    "newnewl= list(filter(filter_function,l))\n",
    "print(newnewl)"
   ]
  },
  {
   "cell_type": "code",
   "execution_count": 19,
   "metadata": {},
   "outputs": [
    {
     "data": {
      "text/plain": [
       "[1, 8, 27, 64, 125]"
      ]
     },
     "execution_count": 19,
     "metadata": {},
     "output_type": "execute_result"
    }
   ],
   "source": [
    "# using lambda function + map\n",
    "l= [1,2,3,4,5]\n",
    "\n",
    "newl = list(map(lambda x: x*x*x, l))\n",
    "# print(newl)\n",
    "newl"
   ]
  },
  {
   "attachments": {},
   "cell_type": "markdown",
   "metadata": {},
   "source": [
    "predicate function"
   ]
  },
  {
   "cell_type": "code",
   "execution_count": 22,
   "metadata": {},
   "outputs": [
    {
     "name": "stdout",
     "output_type": "stream",
     "text": [
      "15\n"
     ]
    }
   ],
   "source": [
    "from functools import reduce\n",
    "\n",
    "# list of numbers \n",
    "numbers = [1,2,3,4,5]\n",
    "\n",
    "# calculate the sum of numbers using the reduce function\n",
    "\n",
    "def mysum(x,y):\n",
    "    return x+y\n",
    "sum = reduce(mysum, numbers)\n",
    "\n",
    "print(sum)\n"
   ]
  },
  {
   "attachments": {},
   "cell_type": "markdown",
   "metadata": {},
   "source": [
    "# 'is' vs '==' in Python | Python Tutorial - Day #54"
   ]
  },
  {
   "cell_type": "code",
   "execution_count": 23,
   "metadata": {},
   "outputs": [
    {
     "name": "stdout",
     "output_type": "stream",
     "text": [
      "False\n",
      "False\n"
     ]
    }
   ],
   "source": [
    "a =4\n",
    "b=\"4\"\n",
    "\n",
    "print(a is b)  # exact location of object in memory show karta hai.\n",
    "# both phones of same model are not same thing. \n",
    "print(a==b) # value"
   ]
  },
  {
   "cell_type": "code",
   "execution_count": 26,
   "metadata": {},
   "outputs": [
    {
     "name": "stdout",
     "output_type": "stream",
     "text": [
      "False\n"
     ]
    },
    {
     "data": {
      "text/plain": [
       "True"
      ]
     },
     "execution_count": 26,
     "metadata": {},
     "output_type": "execute_result"
    }
   ],
   "source": [
    "a = [1,2]\n",
    "b = [1,2]\n",
    "\n",
    "print(a is b)\n",
    "a == b\n"
   ]
  },
  {
   "attachments": {},
   "cell_type": "markdown",
   "metadata": {},
   "source": [
    "Explaination:  now when a has been assigned the value 3 which cannot be changed, so b also 3 does not change memory and location"
   ]
  },
  {
   "cell_type": "code",
   "execution_count": 27,
   "metadata": {},
   "outputs": [
    {
     "name": "stdout",
     "output_type": "stream",
     "text": [
      "True\n"
     ]
    },
    {
     "data": {
      "text/plain": [
       "True"
      ]
     },
     "execution_count": 27,
     "metadata": {},
     "output_type": "execute_result"
    }
   ],
   "source": [
    "#  butttttttttt\n",
    "a= 3\n",
    "b= 3\n",
    "print(a is b)\n",
    "a == b\n",
    "\n"
   ]
  },
  {
   "attachments": {},
   "cell_type": "markdown",
   "metadata": {},
   "source": [
    "# Exercise 5 - Snake Water Gun | Python Tutorial - Day #55\n"
   ]
  },
  {
   "cell_type": "code",
   "execution_count": 31,
   "metadata": {},
   "outputs": [
    {
     "name": "stdout",
     "output_type": "stream",
     "text": [
      "\n",
      "Player's Choice: Gun\n",
      "Computer's Choice: Gun\n",
      "\n",
      "It's a tie!\n",
      "\n",
      "Player's Choice: Gun\n",
      "Computer's Choice: Water\n",
      "\n",
      "Computer wins!\n",
      "\n",
      "Player's Choice: Gun\n",
      "Computer's Choice: Snake\n",
      "\n",
      "Player wins!\n",
      "\n",
      "Player's Choice: Gun\n",
      "Computer's Choice: Snake\n",
      "\n",
      "Player wins!\n",
      "\n",
      "Player's Choice: Gun\n",
      "Computer's Choice: Water\n",
      "\n",
      "Computer wins!\n",
      "\n",
      "Player's Choice: Gun\n",
      "Computer's Choice: Gun\n",
      "\n",
      "It's a tie!\n",
      "\n",
      "Player's Choice: Gun\n",
      "Computer's Choice: Gun\n",
      "\n",
      "It's a tie!\n",
      "Invalid choice. Please try again.\n",
      "Invalid choice. Please try again.\n",
      "Invalid choice. Please try again.\n",
      "Invalid choice. Please try again.\n",
      "Invalid choice. Please try again.\n",
      "Invalid choice. Please try again.\n",
      "Invalid choice. Please try again.\n",
      "Invalid choice. Please try again.\n",
      "Invalid choice. Please try again.\n",
      "Invalid choice. Please try again.\n",
      "Invalid choice. Please try again.\n",
      "Invalid choice. Please try again.\n",
      "Invalid choice. Please try again.\n",
      "Invalid choice. Please try again.\n",
      "Invalid choice. Please try again.\n",
      "Invalid choice. Please try again.\n",
      "Invalid choice. Please try again.\n",
      "Invalid choice. Please try again.\n",
      "Invalid choice. Please try again.\n",
      "Invalid choice. Please try again.\n",
      "Invalid choice. Please try again.\n",
      "Invalid choice. Please try again.\n",
      "Invalid choice. Please try again.\n",
      "Invalid choice. Please try again.\n",
      "Invalid choice. Please try again.\n",
      "Invalid choice. Please try again.\n",
      "Invalid choice. Please try again.\n",
      "Invalid choice. Please try again.\n",
      "Invalid choice. Please try again.\n",
      "Invalid choice. Please try again.\n",
      "Invalid choice. Please try again.\n",
      "Invalid choice. Please try again.\n",
      "Invalid choice. Please try again.\n",
      "Invalid choice. Please try again.\n",
      "Invalid choice. Please try again.\n",
      "Invalid choice. Please try again.\n",
      "Invalid choice. Please try again.\n",
      "Invalid choice. Please try again.\n",
      "Invalid choice. Please try again.\n",
      "Invalid choice. Please try again.\n",
      "Invalid choice. Please try again.\n",
      "Invalid choice. Please try again.\n",
      "Invalid choice. Please try again.\n",
      "Invalid choice. Please try again.\n",
      "Invalid choice. Please try again.\n",
      "Invalid choice. Please try again.\n",
      "Invalid choice. Please try again.\n",
      "Invalid choice. Please try again.\n",
      "Invalid choice. Please try again.\n",
      "\n",
      "Player's Choice: Snake\n",
      "Computer's Choice: Gun\n",
      "\n",
      "Computer wins!\n"
     ]
    }
   ],
   "source": [
    "# import random\n",
    "\n",
    "def play_game():\n",
    "    choices = ['snake', 'water', 'gun']\n",
    "\n",
    "    while True:\n",
    "        # Player's choice\n",
    "        player_choice = input(\"Enter your choice (snake/water/gun): \").lower()\n",
    "\n",
    "        # Validating the player's choice\n",
    "        if player_choice not in choices:\n",
    "            print(\"Invalid choice. Please try again.\")\n",
    "            continue\n",
    "\n",
    "        # Computer's choice\n",
    "        computer_choice = random.choice(choices)\n",
    "\n",
    "        # Displaying the choices\n",
    "        print(f\"\\nPlayer's Choice: {player_choice.capitalize()}\")\n",
    "        print(f\"Computer's Choice: {computer_choice.capitalize()}\\n\")\n",
    "\n",
    "        # Determine the winner\n",
    "        if player_choice == computer_choice:\n",
    "            print(\"It's a tie!\")\n",
    "        elif (\n",
    "            (player_choice == 'snake' and computer_choice == 'water') or\n",
    "            (player_choice == 'water' and computer_choice == 'gun') or\n",
    "            (player_choice == 'gun' and computer_choice == 'snake')\n",
    "        ):\n",
    "            print(\"Player wins!\")\n",
    "        else:\n",
    "            print(\"Computer wins!\")\n",
    "\n",
    "        # Ask for replay\n",
    "        replay = input(\"Do you want to play again? (yes/no): \").lower()\n",
    "        if replay != 'yes':\n",
    "            break\n",
    "\n",
    "# Start the game\n",
    "play_game()\n"
   ]
  },
  {
   "attachments": {},
   "cell_type": "markdown",
   "metadata": {},
   "source": [
    "# Introduction to OOPs in Python | Python Tutorial - Day #56\n"
   ]
  },
  {
   "attachments": {},
   "cell_type": "markdown",
   "metadata": {},
   "source": [
    "Introduction to Object-Oriented Programming in Python: In programming languages, mainly there are two approaches that are used to write program or code.\n",
    "\n",
    "    1). Procedural Programming\n",
    "\n",
    "    2). Object-Oriented Programming\n",
    "\n",
    "    \n",
    "The procedure we are following till now is the “Procedural Programming” approach. So, in this session, we will learn about Object Oriented Programming (OOP). The basic idea of object-oriented programming (OOP) in Python is to use classes and objects to represent real-world concepts and entities.\n",
    "\n",
    "A class is a blueprint or template for creating objects. It defines the properties and methods that an object of that class will have. Properties are the data or state of an object, and methods are the actions or behaviors that an object can perform.\n",
    "\n",
    "An object is an instance of a class, and it contains its own data and methods. For example, you could create a class called \"Person\" that has properties such as name and age, and methods such as speak() and walk(). Each instance of the Person class would be a unique object with its own name and age, but they would all have the same methods to speak and walk.\n",
    "\n",
    "One of the key features of OOP in Python is encapsulation, which means that the internal state of an object is hidden and can only be accessed or modified through the object's methods. This helps to protect the object's data and prevent it from being modified in unexpected ways.\n",
    "\n",
    "Another key feature of OOP in Python is inheritance, which allows new classes to be created that inherit the properties and methods of an existing class. This allows for code reuse and makes it easy to create new classes that have similar functionality to existing classes.\n",
    "\n",
    "Polymorphism is also supported in Python, which means that objects of different classes can be treated as if they were objects of a common class. This allows for greater flexibility in code and makes it easier to write code that can work with multiple types of objects.\n",
    "\n",
    "In summary, OOP in Python allows developers to model real-world concepts and entities using classes and objects, encapsulate data, reuse code through inheritance, and write more flexible code through polymorphism."
   ]
  },
  {
   "attachments": {},
   "cell_type": "markdown",
   "metadata": {},
   "source": [
    "# OPPS/ Classes and Objects in Python | Python Tutorial - Day #57"
   ]
  },
  {
   "cell_type": "code",
   "execution_count": 12,
   "metadata": {},
   "outputs": [
    {
     "name": "stdout",
     "output_type": "stream",
     "text": [
      "Harry is a software developer\n",
      "Neha is a HRM\n"
     ]
    }
   ],
   "source": [
    "class person:\n",
    "    name = \"Harry\"\n",
    "    occupation= \"software developer\"\n",
    "    networth = 10 \n",
    "    def info (self):  # info call krne k lia ha aur self values pick kary ga \n",
    "        print(f\"{self.name} is a {self.occupation}\")\n",
    "\n",
    "a = person()\n",
    "b = person()\n",
    "# # wanna change name?\n",
    "# a.name = \"ahmed\"\n",
    "# a.occupation = \"teacher\"\n",
    "\n",
    "b.name= \"Neha\"\n",
    "b.occupation = \"HRM\"\n",
    "\n",
    "\n",
    "# print(a.name, a.occupation)\n",
    "\n",
    "a.info()\n",
    "b.info( )"
   ]
  },
  {
   "attachments": {},
   "cell_type": "markdown",
   "metadata": {},
   "source": [
    "# Constructors in Python | Python Tutorial - Day #58"
   ]
  },
  {
   "attachments": {},
   "cell_type": "markdown",
   "metadata": {},
   "source": [
    "Constructors\n",
    "\n",
    "A constructor is a special method in a class used to create and initialize an object of a class. There are different types of constructors. Constructor is invoked automatically when an object of a class is created.\n",
    "\n",
    "A constructor is a unique function that gets called automatically when an object is created of a class. The main purpose of a constructor is to initialize or assign values to the data members of that class. It cannot return any value other than None."
   ]
  },
  {
   "attachments": {},
   "cell_type": "markdown",
   "metadata": {},
   "source": [
    "Syntax of Python Constructor\n",
    "\n",
    "    def __init__(self):\n",
    "        # initializations\n",
    "\n",
    "init is one of the reserved functions in Python. In Object Oriented Programming, it is known as a constructor."
   ]
  },
  {
   "attachments": {},
   "cell_type": "markdown",
   "metadata": {},
   "source": [
    "### Types of Constructors in Python"
   ]
  },
  {
   "attachments": {},
   "cell_type": "markdown",
   "metadata": {},
   "source": [
    "    -- Parameterized Constructor\n",
    "\n",
    "    -- Default Constructor\n",
    "Parameterized Constructor in Python\n",
    "When the constructor accepts arguments along with self, it is known as parameterized constructor.\n",
    "\n",
    "These arguments can be used inside the class to assign the values to the data members.\n",
    "\n",
    "Example:"
   ]
  },
  {
   "cell_type": "code",
   "execution_count": 39,
   "metadata": {},
   "outputs": [
    {
     "name": "stdout",
     "output_type": "stream",
     "text": [
      "Crab belongs to the Crustaceans group.\n"
     ]
    }
   ],
   "source": [
    "class Details:\n",
    "    def __init__(self, animal, group):\n",
    "        self.animal = animal\n",
    "        self.group = group\n",
    "\n",
    "obj1 = Details(\"Crab\", \"Crustaceans\")\n",
    "print(obj1.animal, \"belongs to the\", obj1.group, \"group.\")"
   ]
  },
  {
   "attachments": {},
   "cell_type": "markdown",
   "metadata": {},
   "source": [
    "#### Default Constructor in Python\n",
    "\n",
    "When the constructor doesn't accept any arguments from the object and has only one argument, self, in the constructor, it is known as a Default constructor.\n",
    "\n",
    "Example:"
   ]
  },
  {
   "cell_type": "code",
   "execution_count": 40,
   "metadata": {},
   "outputs": [
    {
     "name": "stdout",
     "output_type": "stream",
     "text": [
      "animal Crab belongs to Crustaceans group\n"
     ]
    }
   ],
   "source": [
    "class Details:\n",
    "  def __init__(self):\n",
    "    print(\"animal Crab belongs to Crustaceans group\")\n",
    "obj1=Details()"
   ]
  },
  {
   "cell_type": "code",
   "execution_count": 36,
   "metadata": {},
   "outputs": [],
   "source": [
    "# class person:\n",
    "#     name = \"Usman\"\n",
    "#     occ = \"Teacher\"\n",
    "\n",
    "#     def info(self):\n",
    "#         print(f\"{self.name} is a {self.occ}\")\n",
    "\n",
    "# a = person()\n",
    "# a.info() # calling the function\n",
    "# # change the name or other info\n",
    "\n",
    "# a.name = \"diva\"\n",
    "# a.info()\n",
    "\n",
    "# # kia bar bar arguements dene se tang agae hain ap?"
   ]
  },
  {
   "cell_type": "code",
   "execution_count": 43,
   "metadata": {},
   "outputs": [
    {
     "name": "stdout",
     "output_type": "stream",
     "text": [
      "Haan kee scenes kesy hain?\n",
      "Haan kee scenes kesy hain?\n",
      "Usman is a Teacher\n",
      "Diva is a HR\n"
     ]
    }
   ],
   "source": [
    "class Person:\n",
    "    def __init__(self,name,occ):\n",
    "        print(\"Haan kee scenes kesy hain?\")\n",
    "\n",
    "        self.name = name     \n",
    "        self.occ = occ\n",
    "\n",
    "    def info(self):\n",
    "        print(f\"{self.name} is a {self.occ}\")\n",
    "\n",
    "\n",
    "\n",
    "a= Person(\"Usman\", \"Teacher\")  # self auto ajaega default constructor. usman goes to self.name and teacher goes to self.occ, \n",
    "b= Person(\"Diva\", \"HR\") # n ki jaga usman aur o ki jaga teacher ajaega. # wo is lia q k person ko 2 arguement pass kiye hain \n",
    "#halan  person k pas hain 3 arguement self n o, self auto ajaega\n",
    "# self ki jaga a aur b pass hoga bari bari  total automatically \n",
    "a.info()      \n",
    "b.info()"
   ]
  },
  {
   "attachments": {},
   "cell_type": "markdown",
   "metadata": {},
   "source": [
    "# Decorators in Python | Python Tutorial - Day #59"
   ]
  },
  {
   "attachments": {},
   "cell_type": "markdown",
   "metadata": {},
   "source": [
    "Python decorators are a powerful and versatile tool that allow you to modify the behavior of functions and methods. They are a way to extend the functionality of a function or method without modifying its source code.\n",
    "\n",
    "A decorator is a function that takes another function as an argument and returns a new function that modifies the behavior of the original function. The new function is often referred to as a \"decorated\" function. The basic syntax for using a decorator is the following:"
   ]
  },
  {
   "attachments": {},
   "cell_type": "markdown",
   "metadata": {},
   "source": [
    "    @decorator_function\n",
    "    def my_function():\n",
    "        pass"
   ]
  },
  {
   "cell_type": "code",
   "execution_count": 44,
   "metadata": {},
   "outputs": [
    {
     "name": "stdout",
     "output_type": "stream",
     "text": [
      "Good Morning\n",
      "Hello world\n",
      "Thanks for using this function\n",
      "Good Morning\n",
      "3\n",
      "Thanks for using this function\n"
     ]
    }
   ],
   "source": [
    " ## this program 2 statemens will run before and after every function.\n",
    "def greet(fx):  \n",
    "  def mfx(*args, **kwargs):  \n",
    "    print(\"Good Morning\")\n",
    "    fx(*args, **kwargs)\n",
    "    print(\"Thanks for using this function\")\n",
    "  return mfx\n",
    "\n",
    "@greet   # a decorator, before and after hello world their is some work being done \n",
    "def hello():\n",
    "  print(\"Hello world\")\n",
    "\n",
    "@greet\n",
    "def add(a, b):\n",
    "  print(a+b)\n",
    "  \n",
    "# greet(hello)()\n",
    "hello()\n",
    "# greet(add)(1, 2)\n",
    "add(1, 2)\n"
   ]
  },
  {
   "attachments": {},
   "cell_type": "markdown",
   "metadata": {},
   "source": [
    "### ***Practical use case***"
   ]
  },
  {
   "cell_type": "code",
   "execution_count": 74,
   "metadata": {},
   "outputs": [
    {
     "ename": "TypeError",
     "evalue": "my_function() missing 2 required positional arguments: 'a' and 'b'",
     "output_type": "error",
     "traceback": [
      "\u001b[1;31m---------------------------------------------------------------------------\u001b[0m",
      "\u001b[1;31mTypeError\u001b[0m                                 Traceback (most recent call last)",
      "\u001b[1;32m~\\AppData\\Local\\Temp/ipykernel_2416/3725109652.py\u001b[0m in \u001b[0;36m<cell line: 17>\u001b[1;34m()\u001b[0m\n\u001b[0;32m     15\u001b[0m     \u001b[1;32mreturn\u001b[0m \u001b[0ma\u001b[0m \u001b[1;33m+\u001b[0m \u001b[0mb\u001b[0m\u001b[1;33m\u001b[0m\u001b[1;33m\u001b[0m\u001b[0m\n\u001b[0;32m     16\u001b[0m \u001b[1;33m\u001b[0m\u001b[0m\n\u001b[1;32m---> 17\u001b[1;33m \u001b[0mresult\u001b[0m \u001b[1;33m=\u001b[0m \u001b[0mmy_function\u001b[0m\u001b[1;33m(\u001b[0m\u001b[1;33m)\u001b[0m\u001b[1;33m\u001b[0m\u001b[1;33m\u001b[0m\u001b[0m\n\u001b[0m\u001b[0;32m     18\u001b[0m \u001b[0mprint\u001b[0m\u001b[1;33m(\u001b[0m\u001b[1;34m\"Result:\"\u001b[0m\u001b[1;33m,\u001b[0m \u001b[0mresult\u001b[0m\u001b[1;33m)\u001b[0m\u001b[1;33m\u001b[0m\u001b[1;33m\u001b[0m\u001b[0m\n",
      "\u001b[1;32m~\\AppData\\Local\\Temp/ipykernel_2416/3725109652.py\u001b[0m in \u001b[0;36mdecorated\u001b[1;34m(*args, **kwargs)\u001b[0m\n\u001b[0;32m      4\u001b[0m     \u001b[1;32mdef\u001b[0m \u001b[0mdecorated\u001b[0m\u001b[1;33m(\u001b[0m\u001b[1;33m*\u001b[0m\u001b[0margs\u001b[0m\u001b[1;33m,\u001b[0m \u001b[1;33m**\u001b[0m\u001b[0mkwargs\u001b[0m\u001b[1;33m)\u001b[0m\u001b[1;33m:\u001b[0m  \u001b[1;31m#  *args takes arguements as a Tuple, and ** kwargs as a dictionary\u001b[0m\u001b[1;33m\u001b[0m\u001b[1;33m\u001b[0m\u001b[0m\n\u001b[0;32m      5\u001b[0m         \u001b[0mlogging\u001b[0m\u001b[1;33m.\u001b[0m\u001b[0minfo\u001b[0m\u001b[1;33m(\u001b[0m\u001b[1;34mf\"Calling {func.__name__} with args={args}, kwargs={kwargs}\"\u001b[0m\u001b[1;33m)\u001b[0m\u001b[1;33m\u001b[0m\u001b[1;33m\u001b[0m\u001b[0m\n\u001b[1;32m----> 6\u001b[1;33m         \u001b[0mresult\u001b[0m \u001b[1;33m=\u001b[0m \u001b[0mfunc\u001b[0m\u001b[1;33m(\u001b[0m\u001b[1;33m*\u001b[0m\u001b[0margs\u001b[0m\u001b[1;33m,\u001b[0m \u001b[1;33m**\u001b[0m\u001b[0mkwargs\u001b[0m\u001b[1;33m)\u001b[0m\u001b[1;33m\u001b[0m\u001b[1;33m\u001b[0m\u001b[0m\n\u001b[0m\u001b[0;32m      7\u001b[0m         \u001b[0mlogging\u001b[0m\u001b[1;33m.\u001b[0m\u001b[0minfo\u001b[0m\u001b[1;33m(\u001b[0m\u001b[1;34mf\"{func.__name__} returned {result}\"\u001b[0m\u001b[1;33m)\u001b[0m\u001b[1;33m\u001b[0m\u001b[1;33m\u001b[0m\u001b[0m\n\u001b[0;32m      8\u001b[0m         \u001b[1;32mreturn\u001b[0m \u001b[0mresult\u001b[0m\u001b[1;33m\u001b[0m\u001b[1;33m\u001b[0m\u001b[0m\n",
      "\u001b[1;31mTypeError\u001b[0m: my_function() missing 2 required positional arguments: 'a' and 'b'"
     ]
    }
   ],
   "source": [
    "import logging\n",
    "logging.basicConfig(level=logging.INFO)  # Set the logging level to INFO\n",
    "def log_function_call(func):\n",
    "    def decorated(*args, **kwargs):  #  *args takes arguements as a Tuple, and ** kwargs as a dictionary\n",
    "        logging.info(f\"Calling {func.__name__} with args={args}, kwargs={kwargs}\")\n",
    "        result = func(*args, **kwargs)\n",
    "        logging.info(f\"{func.__name__} returned {result}\")\n",
    "        return result\n",
    "    return decorated\n",
    "\n",
    "@log_function_call\n",
    "def my_function(a, b):\n",
    "    a = int(input(\"Enter the value of a: \"))\n",
    "    b = int(input(\"Enter the value of b: \"))\n",
    "    return a + b\n",
    "\n",
    "result = my_function()\n",
    "print(\"Result:\", result)\n"
   ]
  },
  {
   "cell_type": "code",
   "execution_count": 84,
   "metadata": {},
   "outputs": [
    {
     "data": {
      "text/markdown": [
       "Hello, good morning!"
      ],
      "text/plain": [
       "<IPython.core.display.Markdown object>"
      ]
     },
     "metadata": {},
     "output_type": "display_data"
    },
    {
     "data": {
      "text/markdown": [
       "Calling my_function with args=(), kwargs={}"
      ],
      "text/plain": [
       "<IPython.core.display.Markdown object>"
      ]
     },
     "metadata": {},
     "output_type": "display_data"
    },
    {
     "data": {
      "text/markdown": [
       "my_function returned 10"
      ],
      "text/plain": [
       "<IPython.core.display.Markdown object>"
      ]
     },
     "metadata": {},
     "output_type": "display_data"
    },
    {
     "data": {
      "text/markdown": [
       "Thank you for using!"
      ],
      "text/plain": [
       "<IPython.core.display.Markdown object>"
      ]
     },
     "metadata": {},
     "output_type": "display_data"
    }
   ],
   "source": [
    "import logging\n",
    "# from IPython.display import display, Markdown\n",
    "\n",
    "# logging.basicConfig(level=logging.INFO)  # Set the logging level to INFO\n",
    "\n",
    "def log_function_call(func):\n",
    "    def decorated(*args, **kwargs):\n",
    "        display(Markdown(f\"Hello, good morning!\"))\n",
    "        display(Markdown(f\"Calling {func.__name__} with args={args}, kwargs={kwargs}\"))\n",
    "        result = func(*args, **kwargs)\n",
    "        display(Markdown(f\"{func.__name__} returned {result}\"))\n",
    "        display(Markdown(f\"Thank you for using!\"))\n",
    "        return result\n",
    "    return decorated\n",
    "\n",
    "@log_function_call\n",
    "def my_function():\n",
    "    a = int(input(\"Enter the value of a: \"))\n",
    "    b = int(input(\"Enter the value of b: \"))\n",
    "    return a + b\n",
    "\n",
    "result = my_function()\n",
    "# print(\"Result:\", result)\n"
   ]
  },
  {
   "attachments": {},
   "cell_type": "markdown",
   "metadata": {},
   "source": [
    "# Getters and Setters in Python | Python Tutorial - Day #60\n",
    "\n",
    "\n",
    "In this example, the MyClass class has a single property, _value, which is initialized in the init method. The value method is defined as a getter using the @property decorator, and is used to return the value of the _value property.\n",
    "\n",
    "To use the getter, we can create an instance of the MyClass class, and then access the value property as if it were an attribute:"
   ]
  },
  {
   "cell_type": "code",
   "execution_count": 20,
   "metadata": {},
   "outputs": [
    {
     "name": "stdout",
     "output_type": "stream",
     "text": [
      "10\n",
      "Value is 10\n"
     ]
    }
   ],
   "source": [
    "class myClass:\n",
    "    def __init__(self, value):\n",
    "        self._value = value\n",
    "    def show(self):\n",
    "        print(f\"Value is {self._value}\")\n",
    "    @property\n",
    "    def value(self):\n",
    "        return self._value \n",
    "    \n",
    "obj = myClass(10)\n",
    "\n",
    "print(obj._value)\n",
    "obj.show()\n"
   ]
  },
  {
   "attachments": {},
   "cell_type": "markdown",
   "metadata": {},
   "source": [
    "### Getters\n",
    "\n",
    "Getters in Python are methods that are used to access the values of an object's properties. They are used to return the value of a specific property, and are typically defined using the @property decorator. Here is an example of a simple class with a getter method:"
   ]
  },
  {
   "cell_type": "code",
   "execution_count": 19,
   "metadata": {},
   "outputs": [
    {
     "name": "stdout",
     "output_type": "stream",
     "text": [
      "100\n",
      "Value is 10\n"
     ]
    }
   ],
   "source": [
    "class myClass:\n",
    "    def __init__(self, value):\n",
    "        self._value = value\n",
    "    def show(self):\n",
    "        print(f\"Value is {self._value}\")   \n",
    "\n",
    "\n",
    "# getter: since it gets number*10\n",
    "    @property \n",
    "    def ten_value(self): # ten time value needed if or any other calculation\n",
    "            return 10 * self._value \n",
    "            \n",
    "  \n",
    "  \n",
    "obj = myClass(10)\n",
    "print(obj.ten_value)\n",
    "obj.show()\n",
    "\n"
   ]
  },
  {
   "attachments": {},
   "cell_type": "markdown",
   "metadata": {},
   "source": [
    "## Setters"
   ]
  },
  {
   "attachments": {},
   "cell_type": "markdown",
   "metadata": {},
   "source": [
    "It is important to note that the getters do not take any parameters and we cannot set the value through getter method.For that we need setter method which can be added by decorating method with @property_name.setter\n",
    "\n",
    "Here is an example of a class with both getter and setter:"
   ]
  },
  {
   "cell_type": "code",
   "execution_count": 63,
   "metadata": {},
   "outputs": [],
   "source": [
    "class MyClass:\n",
    "    \n",
    "    def __init__(self, value):\n",
    "        self._value = value\n",
    "\n",
    "    @property\n",
    "    def value(self):\n",
    "        return self._value\n",
    "\n",
    "    @value.setter\n",
    "    def value(self, new_value):\n",
    "        self._value = new_value"
   ]
  },
  {
   "cell_type": "code",
   "execution_count": 64,
   "metadata": {},
   "outputs": [
    {
     "data": {
      "text/plain": [
       "20"
      ]
     },
     "execution_count": 64,
     "metadata": {},
     "output_type": "execute_result"
    }
   ],
   "source": [
    "obj = MyClass(10)\n",
    "obj.value = 20\n",
    "obj.value  "
   ]
  },
  {
   "attachments": {},
   "cell_type": "markdown",
   "metadata": {},
   "source": [
    "In conclusion, getters are a convenient way to access the values of an object's properties, while keeping the internal representation of the property hidden. This can be useful for encapsulation and data validation."
   ]
  },
  {
   "attachments": {},
   "cell_type": "markdown",
   "metadata": {},
   "source": [
    "# Inheritance in Python | Python Tutorial - Day #61"
   ]
  },
  {
   "attachments": {},
   "cell_type": "markdown",
   "metadata": {},
   "source": [
    "When a class derives from another class. The child class will inherit all the public and protected properties and methods from the parent class. In addition, it can have its own properties and methods,this is called as inheritance.\n",
    "\n",
    "Python Inheritance Syntax\n",
    "\n",
    "    class BaseClass:\n",
    "    Body of base class\n",
    "    class DerivedClass(BaseClass):\n",
    "    Body of derived class"
   ]
  },
  {
   "attachments": {},
   "cell_type": "markdown",
   "metadata": {},
   "source": [
    "Derived class inherits features from the base class where new features can be added to it. This results in re-usability of code.\n",
    "\n",
    "        Types of inheritance:\n",
    "\n",
    "        Single inheritance\n",
    "\n",
    "        Multiple inheritance\n",
    "\n",
    "        Multilevel inheritance\n",
    "\n",
    "        Hierarchical Inheritance\n",
    "\n",
    "        Hybrid Inheritance\n",
    "\n",
    "We will see the explaination and example of each type of inheritance in the later tutorials\n",
    "\n"
   ]
  },
  {
   "cell_type": "code",
   "execution_count": 70,
   "metadata": {},
   "outputs": [
    {
     "name": "stdout",
     "output_type": "stream",
     "text": [
      "The name of employee 420 is Usman\n"
     ]
    }
   ],
   "source": [
    "class Employee:\n",
    "    def __init__ (self, name, id):\n",
    "        self.name = name\n",
    "        self.id = id\n",
    "    \n",
    "    def showDetails(self):\n",
    "        print(f\"The name of employee {self.id} is {self.name}\")\n",
    "\n",
    "e = Employee(\"Usman\", 420)\n",
    "\n",
    "e.showDetails()\n"
   ]
  },
  {
   "cell_type": "code",
   "execution_count": 81,
   "metadata": {},
   "outputs": [
    {
     "name": "stdout",
     "output_type": "stream",
     "text": [
      "The name of employee 420 is Usman\n",
      "The name of employee 420 is Usman\n",
      "The default language is Python \n"
     ]
    }
   ],
   "source": [
    "class Employee:\n",
    "    def __init__ (self, name, id):\n",
    "        self.name = name\n",
    "        self.id = id\n",
    "    \n",
    "    def showDetails(self):\n",
    "        print(f\"The name of employee {self.id} is {self.name}\")\n",
    "\n",
    "e1 = Employee(\"Usman\", 420)\n",
    "e.showDetails()\n",
    "e2 = Employee(\"khawaja\", 450) \n",
    "e.showDetails()\n",
    "\n",
    "#############################################\n",
    "\n",
    "class Programmer(Employee): # new class with new name\n",
    "    def showLanguage(self):\n",
    "        print(\"The default language is Python \")\n",
    "\n",
    "e2 = Programmer(\"khawaja\", 450) # agian pass krna hoga\n",
    "e2.showLanguage()  #show language using will show you, \"show detail will run the above code of employee id wala\""
   ]
  },
  {
   "attachments": {},
   "cell_type": "markdown",
   "metadata": {},
   "source": [
    "you cannot use same program for all employees so...."
   ]
  },
  {
   "cell_type": "code",
   "execution_count": 79,
   "metadata": {},
   "outputs": [
    {
     "name": "stdout",
     "output_type": "stream",
     "text": [
      "The default language is Python \n"
     ]
    }
   ],
   "source": [
    "class Programmer(Employee): # new class with new name\n",
    "    def showLanguage(self):\n",
    "        print(\"The default language is Python \")\n",
    "\n",
    "e2 = Programmer(\"khawaja\", 450) # agian pass krna hoga\n",
    "e2.showLanguage()  #show language using will show you, \"show detail will run the above code of employee id wala\"\n"
   ]
  },
  {
   "attachments": {},
   "cell_type": "markdown",
   "metadata": {},
   "source": [
    "# Access Modifiers in Python | Python Tutorial - Day #62"
   ]
  },
  {
   "attachments": {},
   "cell_type": "markdown",
   "metadata": {},
   "source": [
    "Access Specifiers/Modifiers\n",
    "\n",
    "Access specifiers or access modifiers in python programming are used to limit the access of class variables and class methods outside of class while implementing the concepts of inheritance.\n",
    "\n",
    "Let us see the each one of access specifiers in detail:\n",
    "\n",
    "Types of access specifiers\n",
    "\n",
    "    Public access modifier\n",
    "\n",
    "    Private access modifier\n",
    "\n",
    "    Protected access modifier"
   ]
  },
  {
   "cell_type": "code",
   "execution_count": 83,
   "metadata": {},
   "outputs": [
    {
     "name": "stdout",
     "output_type": "stream",
     "text": [
      "Harry\n"
     ]
    }
   ],
   "source": [
    "class Employee:\n",
    "    def __init__ (self):\n",
    "        self.__name = \"Harry\"\n",
    "\n",
    "a = Employee()\n",
    "#print (a.__name) # cannot be accessed directly \n",
    "print(a._Employee__name)"
   ]
  },
  {
   "attachments": {},
   "cell_type": "markdown",
   "metadata": {},
   "source": [
    "## Name mangling\n"
   ]
  },
  {
   "attachments": {},
   "cell_type": "markdown",
   "metadata": {},
   "source": [
    "Name mangling in Python is a technique used to protect class-private and superclass-private attributes from being accidentally overwritten by subclasses. Names of class-private and superclass-private attributes are transformed by the addition of a single leading underscore and a double leading underscore respectively."
   ]
  },
  {
   "cell_type": "code",
   "execution_count": 86,
   "metadata": {},
   "outputs": [
    {
     "name": "stdout",
     "output_type": "stream",
     "text": [
      "I am a nonmangled attribute\n"
     ]
    },
    {
     "ename": "AttributeError",
     "evalue": "'MyClass' object has no attribute '__mangled_attribute'",
     "output_type": "error",
     "traceback": [
      "\u001b[1;31m---------------------------------------------------------------------------\u001b[0m",
      "\u001b[1;31mAttributeError\u001b[0m                            Traceback (most recent call last)",
      "\u001b[1;32m~\\AppData\\Local\\Temp/ipykernel_13780/3367224834.py\u001b[0m in \u001b[0;36m<cell line: 9>\u001b[1;34m()\u001b[0m\n\u001b[0;32m      7\u001b[0m \u001b[1;33m\u001b[0m\u001b[0m\n\u001b[0;32m      8\u001b[0m \u001b[0mprint\u001b[0m\u001b[1;33m(\u001b[0m\u001b[0mmy_object\u001b[0m\u001b[1;33m.\u001b[0m\u001b[0m_nonmangled_attribute\u001b[0m\u001b[1;33m)\u001b[0m \u001b[1;31m# Output: I am a nonmangled attribute\u001b[0m\u001b[1;33m\u001b[0m\u001b[1;33m\u001b[0m\u001b[0m\n\u001b[1;32m----> 9\u001b[1;33m \u001b[0mprint\u001b[0m\u001b[1;33m(\u001b[0m\u001b[0mmy_object\u001b[0m\u001b[1;33m.\u001b[0m\u001b[0m__mangled_attribute\u001b[0m\u001b[1;33m)\u001b[0m \u001b[1;31m# Throws an AttributeError\u001b[0m\u001b[1;33m\u001b[0m\u001b[1;33m\u001b[0m\u001b[0m\n\u001b[0m\u001b[0;32m     10\u001b[0m \u001b[0mprint\u001b[0m\u001b[1;33m(\u001b[0m\u001b[0mmy_object\u001b[0m\u001b[1;33m.\u001b[0m\u001b[0m_MyClass__mangled_attribute\u001b[0m\u001b[1;33m)\u001b[0m \u001b[1;31m# Output: I am a mangled attribute\u001b[0m\u001b[1;33m\u001b[0m\u001b[1;33m\u001b[0m\u001b[0m\n",
      "\u001b[1;31mAttributeError\u001b[0m: 'MyClass' object has no attribute '__mangled_attribute'"
     ]
    }
   ],
   "source": [
    "class MyClass:\n",
    "    def __init__(self):\n",
    "        self._nonmangled_attribute = \"I am a nonmangled attribute\"\n",
    "        self.__mangled_attribute = \"I am a mangled attribute\"\n",
    "\n",
    "my_object = MyClass()\n",
    "\n",
    "print(my_object._nonmangled_attribute) # Output: I am a nonmangled attribute\n",
    "print(my_object.__mangled_attribute) # Throws an AttributeError\n",
    "print(my_object._MyClass__mangled_attribute) # Output: I am a mangled attribute"
   ]
  },
  {
   "cell_type": "code",
   "execution_count": 95,
   "metadata": {},
   "outputs": [
    {
     "ename": "AttributeError",
     "evalue": "'Student' object has no attribute '__age'",
     "output_type": "error",
     "traceback": [
      "\u001b[1;31m---------------------------------------------------------------------------\u001b[0m",
      "\u001b[1;31mAttributeError\u001b[0m                            Traceback (most recent call last)",
      "\u001b[1;32m~\\AppData\\Local\\Temp/ipykernel_13780/1563537386.py\u001b[0m in \u001b[0;36m<cell line: 16>\u001b[1;34m()\u001b[0m\n\u001b[0;32m     14\u001b[0m \u001b[1;33m\u001b[0m\u001b[0m\n\u001b[0;32m     15\u001b[0m \u001b[1;31m# calling by object of class Student\u001b[0m\u001b[1;33m\u001b[0m\u001b[1;33m\u001b[0m\u001b[0m\n\u001b[1;32m---> 16\u001b[1;33m \u001b[0mprint\u001b[0m\u001b[1;33m(\u001b[0m\u001b[0mobj\u001b[0m\u001b[1;33m.\u001b[0m\u001b[0m__age\u001b[0m\u001b[1;33m)\u001b[0m\u001b[1;33m\u001b[0m\u001b[1;33m\u001b[0m\u001b[0m\n\u001b[0m\u001b[0;32m     17\u001b[0m \u001b[0mprint\u001b[0m\u001b[1;33m(\u001b[0m\u001b[0mobj\u001b[0m\u001b[1;33m.\u001b[0m\u001b[0m__funName\u001b[0m\u001b[1;33m(\u001b[0m\u001b[1;33m)\u001b[0m\u001b[1;33m)\u001b[0m\u001b[1;33m\u001b[0m\u001b[1;33m\u001b[0m\u001b[0m\n\u001b[0;32m     18\u001b[0m \u001b[1;33m\u001b[0m\u001b[0m\n",
      "\u001b[1;31mAttributeError\u001b[0m: 'Student' object has no attribute '__age'"
     ]
    }
   ],
   "source": [
    "class Student: \n",
    "    def __init__(self, age, name): \n",
    "        self.__age = age      # An indication of private variable\n",
    "        \n",
    "        def __funName(self):  # An indication of private function\n",
    "            self.y = 34\n",
    "            print(self.y)\n",
    "\n",
    "class Subject(Student):\n",
    "    pass\n",
    "\n",
    "obj = Student(21,\"Harry\")\n",
    "obj1 = Subject(21,\"Harry\")\n",
    "\n",
    "# calling by object of class Student\n",
    "print(obj.__age)\n",
    "print(obj.__funName())\n",
    "\n",
    "# calling by object  of class Subject\n",
    "print(obj1.__age)\n",
    "print(obj1.__funName())"
   ]
  },
  {
   "cell_type": "markdown",
   "metadata": {},
   "source": [
    "# Snake Water Gun Game in Python - Exercise 5 - Solution | Python Tutorial - Day #63"
   ]
  },
  {
   "cell_type": "code",
   "execution_count": 1,
   "metadata": {},
   "outputs": [
    {
     "name": "stdout",
     "output_type": "stream",
     "text": [
      "You:  2\n",
      "Computer:  2\n",
      "Its a draw\n"
     ]
    }
   ],
   "source": [
    "import random\n",
    "\n",
    "def check(comp, user):\n",
    "  if comp ==user:\n",
    "    return 0\n",
    "    \n",
    "  if(comp == 0 and user ==1):\n",
    "    return -1\n",
    "    \n",
    "  if(comp == 1 and user ==2):\n",
    "    return -1\n",
    "    \n",
    "  if(comp == 2 and user == 0):\n",
    "    return -1\n",
    "\n",
    "  return 1\n",
    "    \n",
    "  \n",
    "comp = random.randint(0, 2)  # computer will take randomly 0 1 or 2, \n",
    "user = int(input(\"0 for Snake, 1 for water and 2 for Gun:\\n\"))\n",
    "\n",
    "score = check(comp, user)\n",
    "\n",
    "print(\"You: \", user)\n",
    "print(\"Computer: \", comp)\n",
    "\n",
    "if(score == 0):\n",
    "  print(\"Its a draw\")\n",
    "elif (score == -1):\n",
    "  print(\"You Lose\")\n",
    "else:\n",
    "  print(\"You Won\")"
   ]
  },
  {
   "cell_type": "markdown",
   "metadata": {},
   "source": [
    "# Exercise 6 - Library Management System in Python | Python Tutorial - Day #64"
   ]
  },
  {
   "cell_type": "code",
   "execution_count": 6,
   "metadata": {},
   "outputs": [
    {
     "name": "stdout",
     "output_type": "stream",
     "text": [
      "Book 1\n",
      "Book 2\n",
      "Number of books:  2\n"
     ]
    }
   ],
   "source": [
    "class Library:\n",
    "    def __init__(self):\n",
    "        self.no_of_books = 0\n",
    "        self.books = []\n",
    "\n",
    "    def add_book(self, book):\n",
    "        self.books.append(book)\n",
    "        self.no_of_books += 1\n",
    "\n",
    "    def print_all_books(self):\n",
    "        for book in self.books:\n",
    "            print(book)\n",
    "\n",
    "    def get_number_of_books(self):\n",
    "        return self.no_of_books\n",
    "\n",
    "# Create a library\n",
    "my_library = Library()\n",
    "\n",
    "# Add books\n",
    "my_library.add_book(\"Book 1\")\n",
    "my_library.add_book(\"Book 2\")\n",
    "\n",
    "# Print all books\n",
    "my_library.print_all_books()\n",
    "\n",
    "# Get the number of books\n",
    "print(\"Number of books: \", my_library.get_number_of_books())\n"
   ]
  },
  {
   "attachments": {},
   "cell_type": "markdown",
   "metadata": {},
   "source": [
    "# Static Methods in Python | Python Tutorial - Day #65"
   ]
  },
  {
   "attachments": {},
   "cell_type": "markdown",
   "metadata": {},
   "source": [
    "Static methods in Python are methods that belong to a class rather than an instance of the class. They are defined using the @staticmethod decorator and do not have access to the instance of the class (i.e. self). They are called on the class itself, not on an instance of the class. Static methods are often used to create utility functions that don't need access to instance data."
   ]
  },
  {
   "cell_type": "code",
   "execution_count": 7,
   "metadata": {},
   "outputs": [
    {
     "name": "stdout",
     "output_type": "stream",
     "text": [
      "3\n"
     ]
    }
   ],
   "source": [
    "class Math:\n",
    "    @staticmethod\n",
    "    def add(a, b):\n",
    "        return a + b\n",
    "result = Math.add(1, 2)\n",
    "print(result) # Output: 3"
   ]
  },
  {
   "attachments": {},
   "cell_type": "markdown",
   "metadata": {},
   "source": [
    "In this example, the add method is a static method of the Math class. It takes two parameters a and b and returns their sum. The method can be called on the class itself, without the need to create an instance of the class."
   ]
  },
  {
   "cell_type": "code",
   "execution_count": 17,
   "metadata": {},
   "outputs": [
    {
     "name": "stdout",
     "output_type": "stream",
     "text": [
      "5\n",
      "11\n",
      "9\n",
      "9\n"
     ]
    }
   ],
   "source": [
    "\n",
    "def add(a,b):\n",
    "        return a+b  # add use krne k lia apko add wala bahir nikalna para ha class se\n",
    "\n",
    "class Math:\n",
    "    \n",
    "    def __init__(self,num):\n",
    "        self.num = num\n",
    "    def addtonum(self, n):\n",
    "        self.num = self.num +n\n",
    "\n",
    "    @staticmethod # interview question: class k andar  self as an arguement pass krna hoga? answer is NO zarori nai\n",
    "    # ap us jaga static method use kr skte hain\n",
    "    def add(a,b):\n",
    "        return a+b\n",
    "    \n",
    "a = Math(5)\n",
    "print(a.num)\n",
    "a.addtonum(6)\n",
    "print(a.num)\n",
    "\n",
    "# calling static function\n",
    "print(Math.add(7,2))\n",
    "print(add(7,2))\n"
   ]
  },
  {
   "attachments": {},
   "cell_type": "markdown",
   "metadata": {},
   "source": [
    "add use krne k lia apko add wala bahir nikalna para ha class se"
   ]
  },
  {
   "cell_type": "code",
   "execution_count": 18,
   "metadata": {},
   "outputs": [
    {
     "name": "stdout",
     "output_type": "stream",
     "text": [
      "9\n",
      "9\n"
     ]
    }
   ],
   "source": [
    "# calling static function\n",
    "print(Math.add(7,2))\n",
    "print(add(7,2))"
   ]
  },
  {
   "attachments": {},
   "cell_type": "markdown",
   "metadata": {},
   "source": [
    "# Instance variables vs Class variables in Python | Python Tutorial - Day #66"
   ]
  },
  {
   "attachments": {},
   "cell_type": "markdown",
   "metadata": {},
   "source": [
    "Instance vs class variables\n",
    "\n",
    "In Python, variables can be defined at the class level or at the instance level. Understanding the difference between these types of variables is crucial for writing efficient and maintainable code.\n",
    "\n",
    "Class Variables\n",
    "\n",
    "Class variables are defined at the class level and are shared among all instances of the class. They are defined outside of any method and are usually used to store information that is common to all instances of the class. For example, a class variable can be used to store the number of instances of a class that have been created."
   ]
  },
  {
   "cell_type": "code",
   "execution_count": 19,
   "metadata": {},
   "outputs": [
    {
     "name": "stdout",
     "output_type": "stream",
     "text": [
      "The name of the Employee is Harry and the raise amount in 1 sized Apple India is 0.3\n",
      "Google\n",
      "The name of the Employee is Rohan and the raise amount in 2 sized Nestle is 0.02\n"
     ]
    }
   ],
   "source": [
    "class Employee:\n",
    "  companyName = \"Apple\"\n",
    "  noOfEmployees = 0\n",
    "  def __init__(self, name):\n",
    "    self.name = name\n",
    "    self.raise_amount = 0.02\n",
    "    Employee.noOfEmployees +=1\n",
    "  def showDetails(self):\n",
    "    print(f\"The name of the Employee is {self.name} and the raise amount in {self.noOfEmployees} sized {self.companyName} is {self.raise_amount}\")\n",
    "\n",
    "# Employee.showDetails(emp1)\n",
    "emp1 = Employee(\"Harry\")\n",
    "emp1.raise_amount = 0.3\n",
    "emp1.companyName = \"Apple India\" \n",
    "emp1.showDetails()\n",
    "Employee.companyName = \"Google\"\n",
    "print(Employee.companyName)\n",
    "\n",
    "emp2 = Employee(\"Rohan\")\n",
    "emp2.companyName = \"Nestle\"\n",
    "emp2.showDetails()\n"
   ]
  },
  {
   "cell_type": "code",
   "execution_count": 25,
   "metadata": {},
   "outputs": [
    {
     "name": "stdout",
     "output_type": "stream",
     "text": [
      "The name of the Employee is Usman\n",
      "The name of the Employee is Usman\n"
     ]
    }
   ],
   "source": [
    "class Employee: \n",
    "    def __init__ (self,name):\n",
    "        self.name = name\n",
    "    def showDetails(self):\n",
    "        print(f\"The name of the Employee is {self.name}\")\n",
    "\n",
    "emp1 = Employee(\"Usman\")\n",
    "emp1.showDetails()  # emp1 1 arguement jaa rha ha phir b, usman dusra arguement ha first nai\n",
    "\n",
    "#or can also write in this way below\n",
    "# bat braber ha\n",
    "Employee.showDetails(emp1)"
   ]
  },
  {
   "attachments": {},
   "cell_type": "markdown",
   "metadata": {},
   "source": [
    "instance variable example"
   ]
  },
  {
   "cell_type": "code",
   "execution_count": 28,
   "metadata": {},
   "outputs": [
    {
     "name": "stdout",
     "output_type": "stream",
     "text": [
      "The name of the Employee is mani and riase amount is 0.2\n",
      "The name of the Employee is mani and riase amount is 0.2\n"
     ]
    }
   ],
   "source": [
    "class Employee: \n",
    "    def __init__ (self,name):\n",
    "        self.name = name\n",
    "        self.raise_amount = 0.2 # this is an instance variable \n",
    "    def showDetails(self):\n",
    "        print(f\"The name of the Employee is {self.name} and riase amount is {self.raise_amount}\")\n",
    "\n",
    "emp2 = Employee(\"mani\")\n",
    "emp2.showDetails()  # emp1 1 arguement jaa rha ha phir b, usman dusra arguement ha first nai\n",
    "Employee.showDetails(emp2)"
   ]
  },
  {
   "cell_type": "code",
   "execution_count": 29,
   "metadata": {},
   "outputs": [
    {
     "name": "stdout",
     "output_type": "stream",
     "text": [
      "The name of the Employee is mani and riase amount is 0.3\n",
      "The name of the Employee is mani and riase amount is 0.3\n"
     ]
    }
   ],
   "source": [
    "# can raise the amount in other way too\n",
    "emp2 = Employee(\"mani\")\n",
    "emp2.raise_amount = 0.3\n",
    "emp2.showDetails()  # emp1 1 arguement jaa rha ha phir b, usman dusra arguement ha first nai\n",
    "Employee.showDetails(emp2)"
   ]
  },
  {
   "cell_type": "markdown",
   "metadata": {},
   "source": [
    "Puri class k lia aek company banani ha .har employee ko ek hi company ka naam alag alag to nai dena na."
   ]
  },
  {
   "cell_type": "code",
   "execution_count": 32,
   "metadata": {},
   "outputs": [
    {
     "name": "stdout",
     "output_type": "stream",
     "text": [
      "The name of the Employee is mani and riase amount in Orange Inc is 0.2\n",
      "The name of the Employee is mani and riase amount in Orange Inc is 0.2\n"
     ]
    }
   ],
   "source": [
    "class Employee: \n",
    "    companyName = \"Orange Inc\"  # conpany name is class se associated hogea, ab ye variable calss ki property ha instance ki nai\n",
    "    def __init__ (self,name):\n",
    "        self.name = name\n",
    "        self.raise_amount = 0.2 # this is an instance variable \n",
    "    def showDetails(self):\n",
    "        print(f\"The name of the Employee is {self.name} and riase amount in {self.companyName} is {self.raise_amount}\")\n",
    "\n",
    "emp2 = Employee(\"mani\")\n",
    "emp2.showDetails()  # emp1 1 arguement jaa rha ha phir b, usman dusra arguement ha first nai\n",
    "Employee.showDetails(emp2)"
   ]
  },
  {
   "attachments": {},
   "cell_type": "markdown",
   "metadata": {},
   "source": [
    "Now company name change krna ho tou?"
   ]
  },
  {
   "cell_type": "code",
   "execution_count": 40,
   "metadata": {},
   "outputs": [
    {
     "name": "stdout",
     "output_type": "stream",
     "text": [
      "The name of the Employee is Usman and riase amount in Google Pakistan Inc is 0.2\n",
      "The name of the Employee is mani and riase amount in Orange Pakistan Inc is 0.3\n"
     ]
    }
   ],
   "source": [
    "emp1 = Employee(\"Usman\")\n",
    "emp1.companyName = \"Google Pakistan Inc\"\n",
    "emp1.showDetails() \n",
    "\n",
    "emp2 = Employee(\"mani\")\n",
    "emp2.raise_amount = 0.3\n",
    "emp2.companyName = \"Orange Pakistan Inc\"\n",
    "emp2.showDetails()  \n"
   ]
  },
  {
   "attachments": {},
   "cell_type": "markdown",
   "metadata": {},
   "source": [
    "1. Question: why company name didn't change for Usman ?\n",
    "\n",
    "In case of usman, it has looked for instance variable which was there, if there was a class variable for usman i.e company name, then it would have printed changed company name. "
   ]
  },
  {
   "cell_type": "code",
   "execution_count": 38,
   "metadata": {},
   "outputs": [
    {
     "name": "stdout",
     "output_type": "stream",
     "text": [
      "The name of the Employee is Usman and riase amount in Nestle is 0.2\n"
     ]
    }
   ],
   "source": [
    "emp1 = Employee(\"Usman\")\n",
    "emp1.companyName =\"Nestle\"   # now we have changed also for Usman\n",
    "emp1.showDetails() "
   ]
  },
  {
   "attachments": {},
   "cell_type": "markdown",
   "metadata": {},
   "source": [
    "### Instance Variables"
   ]
  },
  {
   "attachments": {},
   "cell_type": "markdown",
   "metadata": {},
   "source": [
    "Instance variables are defined at the instance level and are unique to each instance of the class. They are defined inside the init method and are usually used to store information that is specific to each instance of the class. For example, an instance variable can be used to store the name of an employee in a class that represents an employee."
   ]
  },
  {
   "cell_type": "code",
   "execution_count": 41,
   "metadata": {},
   "outputs": [
    {
     "name": "stdout",
     "output_type": "stream",
     "text": [
      "John\n",
      "Jane\n"
     ]
    }
   ],
   "source": [
    "class MyClass:\n",
    "    def __init__(self, name):\n",
    "        self.name = name\n",
    "        \n",
    "    def print_name(self):\n",
    "        print(self.name)\n",
    "\n",
    "obj1 = MyClass(\"John\")\n",
    "obj2 = MyClass(\"Jane\")\n",
    "\n",
    "obj1.print_name() # Output: John\n",
    "obj2.print_name() # Output: Jane"
   ]
  },
  {
   "attachments": {},
   "cell_type": "markdown",
   "metadata": {},
   "source": [
    "### Summary"
   ]
  },
  {
   "attachments": {},
   "cell_type": "markdown",
   "metadata": {},
   "source": [
    "In summary, class variables are shared among all instances of a class and are used to store information that is common to all instances. Instance variables are unique to each instance of a class and are used to store information that is specific to each instance. Understanding the difference between class variables and instance variables is crucial for writing efficient and maintainable code in Python.\n",
    "\n",
    "It's also worth noting that, in python, class variables are defined outside of any methods and don't need to be explicitly declared as class variable. They are defined in the class level and can be accessed via classname.varibale_name or self.class.variable_name. But instance variables are defined inside the methods and need to be explicitly declared as instance variable by using self.variable_name."
   ]
  },
  {
   "cell_type": "markdown",
   "metadata": {},
   "source": [
    "# Exercise 7 - Clear the Clutter | Python Tutorial - Day #68"
   ]
  },
  {
   "cell_type": "code",
   "execution_count": 47,
   "metadata": {},
   "outputs": [],
   "source": [
    "import os\n",
    "\n",
    "def rename_png(folder_path):\n",
    "    # Get a list of all files in the folder\n",
    "    files = os.listdir(r\"C:\\Users\\Usman-PC\\Downloads\")\n",
    "\n",
    "    # Filter to only PNG files\n",
    "    png_files = [file for file in files if file.endswith('.png')]\n",
    "\n",
    "    # Sort the PNG files alphabetically\n",
    "    png_files.sort()\n",
    "\n",
    "    # Rename each file with a sequential number\n",
    "    for i, file in enumerate(png_files, start=1):\n",
    "        os.rename(os.path.join(r\"C:\\Users\\Usman-PC\\Downloads\", file), os.path.join(folder_path, str(i) + '.png'))\n",
    "\n",
    "# Example usage \n",
    "folder_path = '/path/to/folder'  # Replace with the actual folder path\n",
    "rename_png(r\"C:\\Users\\Usman-PC\\Downloads\")\n"
   ]
  },
  {
   "attachments": {},
   "cell_type": "markdown",
   "metadata": {},
   "source": [
    "# Class Methods in Python | Python Tutorial - Day #69"
   ]
  },
  {
   "attachments": {},
   "cell_type": "markdown",
   "metadata": {},
   "source": [
    "Python Class Methods: An Introduction\n",
    "----\n",
    "In Python, classes are a way to define custom data types that can store data and define functions that can manipulate that data. One type of function that can be defined within a class is called a \"method.\" In this blog post, we will explore what Python class methods are, why they are useful, and how to use them."
   ]
  },
  {
   "attachments": {},
   "cell_type": "markdown",
   "metadata": {},
   "source": [
    "What are Python Class Methods?\n",
    "---\n",
    "A class method is a type of method that is bound to the class and not the instance of the class. In other words, it operates on the class as a whole, rather than on a specific instance of the class. Class methods are defined using the \"@classmethod\" decorator, followed by a function definition. The first argument of the function is always \"cls,\" which represents the class itself."
   ]
  },
  {
   "attachments": {},
   "cell_type": "markdown",
   "metadata": {},
   "source": [
    "Why Use Python Class Methods?\n",
    "----\n",
    "Class methods are useful in several situations. For example, you might want to create a factory method that creates instances of your class in a specific way. You could define a class method that creates the instance and returns it to the caller. Another common use case is to provide alternative constructors for your class. This can be useful if you want to create instances of your class in multiple ways, but still have a consistent interface for doing so."
   ]
  },
  {
   "attachments": {},
   "cell_type": "markdown",
   "metadata": {},
   "source": [
    "How to Use Python Class Methods\n",
    "---\n",
    "To define a class method, you simply use the \"@classmethod\" decorator before the method definition. The first argument of the method should always be \"cls,\" which represents the class itself. Here is an example of how to define a class method:"
   ]
  },
  {
   "cell_type": "code",
   "execution_count": 70,
   "metadata": {},
   "outputs": [],
   "source": [
    "class ExampleClass:\n",
    "    @classmethod\n",
    "    def factory_method(cls, argument1, argument2):\n",
    "        return cls(argument1, argument2)"
   ]
  },
  {
   "attachments": {},
   "cell_type": "markdown",
   "metadata": {},
   "source": [
    "In this example, the \"factory_method\" is a class method that takes two arguments, \"argument1\" and \"argument2.\" It creates a new instance of the class \"ExampleClass\" using the \"cls\" keyword, and returns the new instance to the caller.\n",
    "\n",
    "It's important to note that class methods cannot modify the class in any way. If you need to modify the class, you should use a class level variable instead."
   ]
  },
  {
   "cell_type": "code",
   "execution_count": 65,
   "metadata": {},
   "outputs": [
    {
     "name": "stdout",
     "output_type": "stream",
     "text": [
      "The name is Boby Harry and company is Apple Inc.\n",
      "The name is Boby Harry and company is Tesla\n",
      "Apple Inc.\n"
     ]
    }
   ],
   "source": [
    "class Employee:\n",
    "    company = \"Apple Inc.\"\n",
    "    def show (self):\n",
    "        print(f\"The name is {self.name} and company is {self.company}\")\n",
    "\n",
    "    def changeCompany(cls, newCompany):\n",
    "        cls.company = newCompany\n",
    "\n",
    "\n",
    "e1=Employee()\n",
    "e1.name = \"Boby Harry\"\n",
    "e1.show()\n",
    "#changing company\n",
    "e1.changeCompany(\"Tesla\")\n",
    "e1.show()\n",
    "print(Employee.company)"
   ]
  },
  {
   "cell_type": "code",
   "execution_count": 69,
   "metadata": {},
   "outputs": [
    {
     "name": "stdout",
     "output_type": "stream",
     "text": [
      "The name is Boby Harry and company is Apple Inc.\n",
      "The name is Boby Harry and company is Tesla\n",
      "Tesla\n"
     ]
    }
   ],
   "source": [
    "# now if you want to change class\n",
    "class Employee:\n",
    "    company = \"Apple Inc.\"\n",
    "    def show (self):\n",
    "        print(f\"The name is {self.name} and company is {self.company}\")\n",
    "\n",
    "    @classmethod # now if you want to change class\n",
    "    def changeCompany(cls, newCompany): # jab b clasmethod decorator lagao ge to first \n",
    "                                        # arguement as a \"class\" milta ha as a \"instance\" \n",
    "                                        # nai milta\n",
    "                                        # YES by default as an instance hi milta ha but without decorator\n",
    "        cls.company = newCompany\n",
    "\n",
    "\n",
    "e1=Employee()\n",
    "e1.name = \"Boby Harry\"\n",
    "e1.show()\n",
    "#changing company\n",
    "e1.changeCompany(\"Tesla\")\n",
    "e1.show()\n",
    "print(Employee.company)\n"
   ]
  },
  {
   "attachments": {},
   "cell_type": "markdown",
   "metadata": {},
   "source": [
    "Conclusion\n",
    "-----\n",
    "Python class methods are a powerful tool for defining functions that operate on the class as a whole, rather than on a specific instance of the class. They are useful for creating factory methods, alternative constructors, and other types of methods that operate at the class level. With the knowledge of how to define and use class methods, you can start writing more complex and organized code in Python.\n",
    "\n",
    "---------------------------"
   ]
  },
  {
   "cell_type": "markdown",
   "metadata": {},
   "source": [
    "# Class Methods as Alternative Constructors in Python | Python Tutorial - Day #70"
   ]
  },
  {
   "attachments": {},
   "cell_type": "markdown",
   "metadata": {},
   "source": [
    "In object-oriented programming, the term \"constructor\" refers to a special type of method that is automatically executed when an object is created from a class. The purpose of a constructor is to initialize the object's attributes, allowing the object to be fully functional and ready to use.\n",
    "\n",
    "However, there are times when you may want to create an object in a different way, or with different initial values, than what is provided by the default constructor. This is where class methods can be used as alternative constructors.\n",
    "\n",
    "A class method belongs to the class rather than to an instance of the class. One common use case for class methods as alternative constructors is when you want to create an object from data that is stored in a different format, such as a string or a dictionary. For example, consider a class named \"Person\" that has two attributes: \"name\" and \"age\". The default constructor for the class might look like this:"
   ]
  },
  {
   "cell_type": "code",
   "execution_count": 17,
   "metadata": {},
   "outputs": [],
   "source": [
    "class Person:\n",
    "    def __init__(self, name, age):\n",
    "        self.name = name\n",
    "        self.age = age"
   ]
  },
  {
   "attachments": {},
   "cell_type": "markdown",
   "metadata": {},
   "source": [
    "But what if you want to create a Person object from a string that contains the person's name and age, separated by a comma? You can define a class method named \"from_string\" to do this:"
   ]
  },
  {
   "cell_type": "code",
   "execution_count": 18,
   "metadata": {},
   "outputs": [],
   "source": [
    "class Person:\n",
    "    def __init__(self, name, age):\n",
    "        self.name = name\n",
    "        self.age = age\n",
    "\n",
    "    @classmethod\n",
    "    def from_string(cls, string):\n",
    "        name, age = string.split(',')\n",
    "        return cls(name, int(age))"
   ]
  },
  {
   "attachments": {},
   "cell_type": "markdown",
   "metadata": {},
   "source": [
    "Now you can create a Person object from a string like this:"
   ]
  },
  {
   "cell_type": "code",
   "execution_count": 19,
   "metadata": {},
   "outputs": [],
   "source": [
    "person = Person.from_string(\"John Doe, 30\")"
   ]
  },
  {
   "attachments": {},
   "cell_type": "markdown",
   "metadata": {},
   "source": [
    "Another common use case for class methods as alternative constructors is when you want to create an object with a different set of default values than what is provided by the default constructor. For example, consider a class named \"Rectangle\" that has two attributes: \"width\" and \"height\". The default constructor for the class might look like this:"
   ]
  },
  {
   "cell_type": "code",
   "execution_count": 20,
   "metadata": {},
   "outputs": [],
   "source": [
    "class Rectangle:\n",
    "    def __init__(self, width, height):\n",
    "        self.width = width\n",
    "        self.height = height"
   ]
  },
  {
   "attachments": {},
   "cell_type": "markdown",
   "metadata": {},
   "source": [
    "But what if you want to create a Rectangle object with a default width of 10 and a default height of 5? You can define a class method named \"square\" to do this:"
   ]
  },
  {
   "cell_type": "code",
   "execution_count": 21,
   "metadata": {},
   "outputs": [],
   "source": [
    "class Rectangle:\n",
    "  def __init__(self, width, height):\n",
    "    self.width = width\n",
    "    self.height = height\n",
    "\n",
    "  @classmethod\n",
    "  def square(cls, size):\n",
    "    return cls(size, size)"
   ]
  },
  {
   "attachments": {},
   "cell_type": "markdown",
   "metadata": {},
   "source": [
    "Now you can create a square rectangle like this:"
   ]
  },
  {
   "cell_type": "code",
   "execution_count": 22,
   "metadata": {},
   "outputs": [],
   "source": [
    "rectangle = Rectangle.square(10)"
   ]
  },
  {
   "attachments": {},
   "cell_type": "markdown",
   "metadata": {},
   "source": [
    "Lecture"
   ]
  },
  {
   "cell_type": "code",
   "execution_count": 1,
   "metadata": {},
   "outputs": [
    {
     "name": "stdout",
     "output_type": "stream",
     "text": [
      "Harry\n",
      "12000\n"
     ]
    }
   ],
   "source": [
    "class Employee:\n",
    "    def __init__ (self, name, salary):\n",
    "        self.name = name\n",
    "        self.salary = salary\n",
    "\n",
    "e = Employee(\"Harry\", 12000)\n",
    "print(e.name)\n",
    "print(e.salary)\n"
   ]
  },
  {
   "attachments": {},
   "cell_type": "markdown",
   "metadata": {},
   "source": [
    "but if data is given like string.  harry-12000, now you have to pullout the data from the string"
   ]
  },
  {
   "cell_type": "code",
   "execution_count": 15,
   "metadata": {},
   "outputs": [
    {
     "name": "stdout",
     "output_type": "stream",
     "text": [
      "harry\n",
      "12000\n"
     ]
    }
   ],
   "source": [
    "string = \"harry-12000\"\n",
    "e2 = Employee(string.split(\"-\")[0],string.split(\"-\")[1])\n",
    "print(e2.name)\n",
    "print(e2.salary)\n",
    "# but this is a lenghty process for every change you want to do\n",
    "# would you do this 10 times ? for example ?"
   ]
  },
  {
   "cell_type": "code",
   "execution_count": 16,
   "metadata": {},
   "outputs": [
    {
     "name": "stdout",
     "output_type": "stream",
     "text": [
      "Harry\n",
      "12000\n",
      "John\n",
      "12000\n"
     ]
    }
   ],
   "source": [
    "class Employee:\n",
    "    def __init__ (self, name, salary):\n",
    "        self.name = name\n",
    "        self.salary = salary\n",
    "\n",
    "\n",
    "    @classmethod\n",
    "    def fromStr(cls, string):\n",
    "        return cls(string.split(\"-\")[0], string.split(\"-\")[1])\n",
    "\n",
    "\n",
    "e1 = Employee(\"Harry\", 12000)\n",
    "print(e.name)\n",
    "print(e.salary)\n",
    "\n",
    "string = \"John-12000\"\n",
    "\n",
    "e2 = Employee.fromStr(string)\n",
    "print(e2.name)\n",
    "print(e2.salary)\n"
   ]
  },
  {
   "cell_type": "markdown",
   "metadata": {},
   "source": [
    "# dir, __dict__ and help method in Python | Python Tutorial - Day #71"
   ]
  },
  {
   "cell_type": "markdown",
   "metadata": {},
   "source": [
    "We must look into dir(), __dict__() and help() attribute/methods in python. They make it easy for us to understand how classes resolve various functions and executes code. In Python, there are three built-in functions that are commonly used to get information about objects: dir(), dict, and help(). Let's take a look at each of them"
   ]
  },
  {
   "cell_type": "markdown",
   "metadata": {},
   "source": [
    "## The dir() method"
   ]
  },
  {
   "cell_type": "markdown",
   "metadata": {},
   "source": [
    "dir(): The dir() function returns a list of all the attributes and methods (including dunder methods) available for an object. It is a useful tool for discovering what you can do with an object. Example:"
   ]
  },
  {
   "cell_type": "code",
   "execution_count": 1,
   "metadata": {},
   "outputs": [
    {
     "data": {
      "text/plain": [
       "['__add__',\n",
       " '__class__',\n",
       " '__contains__',\n",
       " '__delattr__',\n",
       " '__delitem__',\n",
       " '__dir__',\n",
       " '__doc__',\n",
       " '__eq__',\n",
       " '__format__',\n",
       " '__ge__',\n",
       " '__getattribute__',\n",
       " '__getitem__',\n",
       " '__gt__',\n",
       " '__hash__',\n",
       " '__iadd__',\n",
       " '__imul__',\n",
       " '__init__',\n",
       " '__init_subclass__',\n",
       " '__iter__',\n",
       " '__le__',\n",
       " '__len__',\n",
       " '__lt__',\n",
       " '__mul__',\n",
       " '__ne__',\n",
       " '__new__',\n",
       " '__reduce__',\n",
       " '__reduce_ex__',\n",
       " '__repr__',\n",
       " '__reversed__',\n",
       " '__rmul__',\n",
       " '__setattr__',\n",
       " '__setitem__',\n",
       " '__sizeof__',\n",
       " '__str__',\n",
       " '__subclasshook__',\n",
       " 'append',\n",
       " 'clear',\n",
       " 'copy',\n",
       " 'count',\n",
       " 'extend',\n",
       " 'index',\n",
       " 'insert',\n",
       " 'pop',\n",
       " 'remove',\n",
       " 'reverse',\n",
       " 'sort']"
      ]
     },
     "execution_count": 1,
     "metadata": {},
     "output_type": "execute_result"
    }
   ],
   "source": [
    ">>> x = [1, 2, 3]\n",
    ">>> dir(x)\n",
    "['__add__', '__class__', '__contains__', '__delattr__', '__delitem__', '__dir__', '__doc__', '__eq__', '__format__', '__ge__', '__getattribute__', '__getitem__', '__gt__', '__hash__', '__iadd__', '__imul__', '__init__', '__init_subclass__', '__iter__', '__le__', '__len__', '__lt__', '__mul__', '__ne__', '__new__', '__reduce__', '__reduce_ex__', '__repr__', '__reversed__', '__rmul__', '__setattr__', '__setitem__', '__sizeof__', '__str__', '__subclasshook__', 'append', 'clear', 'copy', 'count', 'extend', 'index', 'insert', 'pop', 'remove', 'reverse', 'sort']"
   ]
  },
  {
   "cell_type": "code",
   "execution_count": 3,
   "metadata": {},
   "outputs": [
    {
     "name": "stdout",
     "output_type": "stream",
     "text": [
      "['__add__', '__class__', '__class_getitem__', '__contains__', '__delattr__', '__delitem__', '__dir__', '__doc__', '__eq__', '__format__', '__ge__', '__getattribute__', '__getitem__', '__gt__', '__hash__', '__iadd__', '__imul__', '__init__', '__init_subclass__', '__iter__', '__le__', '__len__', '__lt__', '__mul__', '__ne__', '__new__', '__reduce__', '__reduce_ex__', '__repr__', '__reversed__', '__rmul__', '__setattr__', '__setitem__', '__sizeof__', '__str__', '__subclasshook__', 'append', 'clear', 'copy', 'count', 'extend', 'index', 'insert', 'pop', 'remove', 'reverse', 'sort']\n",
      "<method-wrapper '__add__' of list object at 0x000001BB0AB5CC40>\n"
     ]
    }
   ],
   "source": [
    "x= [1,2,3]\n",
    "print(dir(x))\n",
    "print(x.__add__)  # methods pta laga saktein hain kon se hote hain kon se nai\n",
    "# like add method hota ha is x= [1,2,3]"
   ]
  },
  {
   "cell_type": "code",
   "execution_count": 4,
   "metadata": {},
   "outputs": [
    {
     "name": "stdout",
     "output_type": "stream",
     "text": [
      "['__add__', '__class__', '__class_getitem__', '__contains__', '__delattr__', '__delitem__', '__dir__', '__doc__', '__eq__', '__format__', '__ge__', '__getattribute__', '__getitem__', '__gt__', '__hash__', '__iadd__', '__imul__', '__init__', '__init_subclass__', '__iter__', '__le__', '__len__', '__lt__', '__mul__', '__ne__', '__new__', '__reduce__', '__reduce_ex__', '__repr__', '__reversed__', '__rmul__', '__setattr__', '__setitem__', '__sizeof__', '__str__', '__subclasshook__', 'append', 'clear', 'copy', 'count', 'extend', 'index', 'insert', 'pop', 'remove', 'reverse', 'sort']\n"
     ]
    },
    {
     "ename": "AttributeError",
     "evalue": "'list' object has no attribute '__addd__'",
     "output_type": "error",
     "traceback": [
      "\u001b[1;31m---------------------------------------------------------------------------\u001b[0m",
      "\u001b[1;31mAttributeError\u001b[0m                            Traceback (most recent call last)",
      "\u001b[1;32m~\\AppData\\Local\\Temp/ipykernel_8964/608150980.py\u001b[0m in \u001b[0;36m<cell line: 3>\u001b[1;34m()\u001b[0m\n\u001b[0;32m      1\u001b[0m \u001b[0mx\u001b[0m\u001b[1;33m=\u001b[0m \u001b[1;33m[\u001b[0m\u001b[1;36m1\u001b[0m\u001b[1;33m,\u001b[0m\u001b[1;36m2\u001b[0m\u001b[1;33m,\u001b[0m\u001b[1;36m3\u001b[0m\u001b[1;33m]\u001b[0m\u001b[1;33m\u001b[0m\u001b[1;33m\u001b[0m\u001b[0m\n\u001b[0;32m      2\u001b[0m \u001b[0mprint\u001b[0m\u001b[1;33m(\u001b[0m\u001b[0mdir\u001b[0m\u001b[1;33m(\u001b[0m\u001b[0mx\u001b[0m\u001b[1;33m)\u001b[0m\u001b[1;33m)\u001b[0m\u001b[1;33m\u001b[0m\u001b[1;33m\u001b[0m\u001b[0m\n\u001b[1;32m----> 3\u001b[1;33m \u001b[0mprint\u001b[0m\u001b[1;33m(\u001b[0m\u001b[0mx\u001b[0m\u001b[1;33m.\u001b[0m\u001b[0m__addd__\u001b[0m\u001b[1;33m)\u001b[0m\u001b[1;33m\u001b[0m\u001b[1;33m\u001b[0m\u001b[0m\n\u001b[0m",
      "\u001b[1;31mAttributeError\u001b[0m: 'list' object has no attribute '__addd__'"
     ]
    }
   ],
   "source": [
    "x= [1,2,3]\n",
    "print(dir(x))\n",
    "print(x.__addd__)  # __addd___ koi method nai ha nai hota isme"
   ]
  },
  {
   "cell_type": "markdown",
   "metadata": {},
   "source": [
    "## The __dict__ attribute"
   ]
  },
  {
   "cell_type": "markdown",
   "metadata": {},
   "source": [
    "__dict__: The __dict__ attribute returns a dictionary representation of an object's attributes. It is a useful tool for introspection. Example:"
   ]
  },
  {
   "cell_type": "code",
   "execution_count": 7,
   "metadata": {},
   "outputs": [
    {
     "name": "stdout",
     "output_type": "stream",
     "text": [
      "Help on class Person in module __main__:\n",
      "\n",
      "class Person(builtins.object)\n",
      " |  Person(name, age)\n",
      " |  \n",
      " |  Methods defined here:\n",
      " |  \n",
      " |  __init__(self, name, age)\n",
      " |      Initialize self.  See help(type(self)) for accurate signature.\n",
      " |  \n",
      " |  ----------------------------------------------------------------------\n",
      " |  Data descriptors defined here:\n",
      " |  \n",
      " |  __dict__\n",
      " |      dictionary for instance variables (if defined)\n",
      " |  \n",
      " |  __weakref__\n",
      " |      list of weak references to the object (if defined)\n",
      "\n"
     ]
    }
   ],
   "source": [
    "class Person:\n",
    "     def __init__(self, name, age):\n",
    "         self.name = name\n",
    "         self.age = age\n",
    "p = Person(\"John\", 30)\n",
    "p.__dict__\n",
    "\n",
    "help(Person)"
   ]
  },
  {
   "cell_type": "markdown",
   "metadata": {},
   "source": [
    "The help() mehthod\n",
    "help(): The help() function is used to get help documentation for an object, including a description of its attributes and methods. Example:"
   ]
  },
  {
   "cell_type": "markdown",
   "metadata": {},
   "source": [
    "# super keyword in Python | Python Tutorial - Day #72"
   ]
  },
  {
   "cell_type": "markdown",
   "metadata": {},
   "source": [
    "The super() keyword in Python is used to refer to the parent class. It is especially useful when a class inherits from multiple parent classes and you want to call a method from one of the parent classes.\n",
    "\n",
    "When a class inherits from a parent class, it can override or extend the methods defined in the parent class. However, sometimes you might want to use the parent class method in the child class. This is where the super() keyword comes in handy.\n",
    "\n",
    "Here's an example of how to use the super() keyword in a simple inheritance scenario:"
   ]
  },
  {
   "cell_type": "code",
   "execution_count": 12,
   "metadata": {},
   "outputs": [
    {
     "name": "stdout",
     "output_type": "stream",
     "text": [
      "this is a child method\n",
      "This is a parent method\n",
      "harry\n",
      "This is a parent method\n"
     ]
    }
   ],
   "source": [
    "class ParentClass:\n",
    "    def parent_method(self):\n",
    "        print(\"This is a parent method\")\n",
    "\n",
    "class ChildClass(ParentClass):\n",
    "    def parent_method(self):\n",
    "        print(\"harry\")\n",
    "        super().parent_method()\n",
    "    def child_method(self):\n",
    "\n",
    "        print(\"this is a child method\")\n",
    "        super().parent_method()\n",
    "\n",
    "child_object = ChildClass()\n",
    "child_object.child_method()\n",
    "child_object.parent_method()\n"
   ]
  },
  {
   "cell_type": "code",
   "execution_count": 14,
   "metadata": {},
   "outputs": [
    {
     "name": "stdout",
     "output_type": "stream",
     "text": [
      "This is the child method.\n",
      "This is the parent method.\n"
     ]
    }
   ],
   "source": [
    "#Here's an example of how to use the super() keyword in a simple inheritance scenario:\n",
    "\n",
    "class ParentClass:\n",
    "    def parent_method(self):\n",
    "        print(\"This is the parent method.\")\n",
    "class ChildClass(ParentClass):\n",
    "    def child_method(self):\n",
    "        print(\"This is the child method.\")\n",
    "        super().parent_method()\n",
    "child_object = ChildClass()\n",
    "child_object.child_method()\n",
    "\n"
   ]
  },
  {
   "cell_type": "markdown",
   "metadata": {},
   "source": [
    "In this example, we have a ParentClass with a parent_method and a ChildClass that inherits from ParentClass and overrides the child_method. When the child_method is called, it first prints \"This is the child method.\" and then calls the parent_method using the super() keyword.\n",
    "\n",
    "The super() keyword is also useful when a class inherits from multiple parent classes. In this case, you can specify the parent class from which you want to call the method.\n",
    "\n",
    "Here's an example:"
   ]
  },
  {
   "cell_type": "code",
   "execution_count": 15,
   "metadata": {},
   "outputs": [
    {
     "name": "stdout",
     "output_type": "stream",
     "text": [
      "This is the child method.\n",
      "This is the parent method of ParentClass1.\n"
     ]
    }
   ],
   "source": [
    "class ParentClass1:\n",
    "    def parent_method(self):\n",
    "        print(\"This is the parent method of ParentClass1.\")\n",
    "\n",
    "class ParentClass2:\n",
    "    def parent_method(self):\n",
    "        print(\"This is the parent method of ParentClass2.\")\n",
    "\n",
    "class ChildClass(ParentClass1, ParentClass2):\n",
    "    def child_method(self):\n",
    "        print(\"This is the child method.\")\n",
    "        super().parent_method()\n",
    "\n",
    "child_object = ChildClass()\n",
    "child_object.child_method()"
   ]
  },
  {
   "cell_type": "markdown",
   "metadata": {},
   "source": [
    "In this example, the ChildClass inherits from both ParentClass1 and ParentClass2. The child_method calls the parent_method of the first parent class using the super() keyword.\n",
    "\n",
    "In conclusion, the super() keyword is a useful tool in Python when you want to call a parent class method in a child class. It can be used in inheritance scenarios with a single parent class or multiple parent classes."
   ]
  },
  {
   "cell_type": "code",
   "execution_count": 13,
   "metadata": {},
   "outputs": [
    {
     "name": "stdout",
     "output_type": "stream",
     "text": [
      "Harry\n",
      "340\n",
      "Python\n"
     ]
    }
   ],
   "source": [
    "class Employee:\n",
    "    def __init__(self, name, id):\n",
    "        self.name = name\n",
    "        self.id = id\n",
    "\n",
    "class Programmer (Employee):\n",
    "    def __init__ (self, name, id, lang):\n",
    "        super().__init__(name, id)\n",
    "        self.lang = lang\n",
    "\n",
    "rohan = Employee(\"Rohan Das\", \"420\")\n",
    "harry = Programmer(\"Harry\", \"340\", \"Python\")\n",
    "\n",
    "print(harry.name)\n",
    "print(harry.id)\n",
    "print(harry.lang)"
   ]
  },
  {
   "cell_type": "markdown",
   "metadata": {},
   "source": [
    "# Magic/Dunder Methods in Python | Python Tutorial - Day #"
   ]
  },
  {
   "cell_type": "markdown",
   "metadata": {},
   "source": [
    "These are special methods that you can define in your classes, and when invoked, they give you a powerful way to manipulate objects and their behaviour.\n",
    "\n",
    "Magic methods, also known as “dunders” from the double underscores surrounding their names, are powerful tools that allow you to customize the behaviour of your classes. They are used to implement special methods such as the addition, subtraction and comparison operators, as well as some more advanced techniques like descriptors and properties.\n",
    "\n",
    "Let’s take a look at some of the most commonly used magic methods in Python.\n",
    "\n",
    "    __init__ method"
   ]
  },
  {
   "cell_type": "code",
   "execution_count": 4,
   "metadata": {},
   "outputs": [
    {
     "name": "stdout",
     "output_type": "stream",
     "text": [
      "Harry\n",
      "5\n"
     ]
    }
   ],
   "source": [
    "class Employee:\n",
    "    name= \"Harry\"\n",
    "    def __len__(self):\n",
    "        i = 0\n",
    "        for c in self.name:\n",
    "            i+=1\n",
    "        return i\n",
    "    \n",
    "e = Employee()\n",
    "print(e.name)\n",
    "print(len(e))"
   ]
  },
  {
   "cell_type": "markdown",
   "metadata": {},
   "source": [
    "The init method is a special method that is automatically invoked when you create a new instance of a class. This method is responsible for setting up the object’s initial state, and it is where you would typically define any instance variables that you need. Also called \"constructor\", we have discussed this method already\n",
    "\n",
    "    __str__ and __repr__ methods"
   ]
  },
  {
   "cell_type": "markdown",
   "metadata": {},
   "source": [
    "The len method is used to get the length of an object. This is useful when you want to be able to find the size of a data structure, such as a list or dictionary.\n",
    "\n",
    "        __call__ method\n"
   ]
  },
  {
   "cell_type": "markdown",
   "metadata": {},
   "source": [
    "The call method is used to make an object callable, meaning that you can pass it as a parameter to a function and it will be executed when the function is called. This is an incredibly powerful tool that allows you to create objects that behave like functions.\n",
    "\n",
    "These are just a few of the many magic methods available in Python. They are incredibly powerful tools that allow you to customize the behaviour of your objects, and can make your code much cleaner and easier to understand. So if you’re looking for a way to take your Python code to the next level, take some time to learn about these magic methods."
   ]
  },
  {
   "cell_type": "code",
   "execution_count": 2,
   "metadata": {},
   "outputs": [
    {
     "name": "stdout",
     "output_type": "stream",
     "text": [
      "The name of the employee is Harry str\n",
      "Employee('Harry')\n",
      "Harry\n",
      "5\n",
      "Hey I am good\n"
     ]
    }
   ],
   "source": [
    "from emp import Employee\n",
    "\n",
    "e = Employee(\"Harry\")\n",
    "print(str(e))\n",
    "print(repr(e))\n",
    "print(e.name)\n",
    "print(len(e))\n",
    "e()"
   ]
  },
  {
   "cell_type": "markdown",
   "metadata": {},
   "source": [
    "# Method Overriding in Python | Python Tutorial - Day #74"
   ]
  },
  {
   "cell_type": "markdown",
   "metadata": {},
   "source": [
    "Method overriding is a powerful feature in object-oriented programming that allows you to redefine a method in a derived class. The method in the derived class is said to override the method in the base class. When you create an instance of the derived class and call the overridden method, the version of the method in the derived class is executed, rather than the version in the base class.\n",
    "\n",
    "In Python, method overriding is a way to customize the behavior of a class based on its specific needs. For example, consider the following base class:"
   ]
  },
  {
   "cell_type": "code",
   "execution_count": 5,
   "metadata": {},
   "outputs": [],
   "source": [
    "class Shape:\n",
    "    def area(self):\n",
    "            pass"
   ]
  },
  {
   "cell_type": "markdown",
   "metadata": {},
   "source": [
    "In this base class, the area method is defined, but does not have any implementation. If you want to create a derived class that represents a circle, you can override the area method and provide an implementation that calculates the area of a circle:"
   ]
  },
  {
   "cell_type": "code",
   "execution_count": 4,
   "metadata": {},
   "outputs": [],
   "source": [
    "class Circle(Shape):\n",
    "    def __init__(self, radius):\n",
    "        self.radius = radius\n",
    "\n",
    "    def area(self):\n",
    "        return 3.14 * self.radius * self.radius"
   ]
  },
  {
   "cell_type": "markdown",
   "metadata": {},
   "source": [
    "In this example, the Circle class inherits from the Shape class, and overrides the area method. The new implementation of the area method calculates the area of a circle, based on its radius.\n",
    "\n",
    "It's important to note that when you override a method, the new implementation must have the same method signature as the original method. This means that the number and type of arguments, as well as the return type, must be the same.\n",
    "\n",
    "Another way to customize the behavior of a class is to call the base class method from the derived class method. To do this, you can use the super function. The super function allows you to call the base class method from the derived class method, and can be useful when you want to extend the behavior of the base class method, rather than replace it."
   ]
  },
  {
   "cell_type": "code",
   "execution_count": 3,
   "metadata": {},
   "outputs": [
    {
     "name": "stdout",
     "output_type": "stream",
     "text": [
      "78.5\n"
     ]
    }
   ],
   "source": [
    "class Shape:\n",
    "  def __init__(self, x, y):\n",
    "    self.x = x\n",
    "    self.y = y\n",
    "    \n",
    "  def area(self):\n",
    "      return self.x * self.y\n",
    "\n",
    "class Circle(Shape):\n",
    "    def __init__(self, radius):\n",
    "      self.radius = radius\n",
    "      super().__init__(radius, radius)\n",
    "\n",
    "    def area(self):\n",
    "        return 3.14 *  super().area()\n",
    "      \n",
    "# rec = Shape(3, 5)\n",
    "# print(rec.area())\n",
    "\n",
    "c = Circle(5)\n",
    "print(c.area())"
   ]
  },
  {
   "cell_type": "markdown",
   "metadata": {},
   "source": [
    "# Exercise 8 - Merge the PDF | Python Tutorial - Day #76"
   ]
  },
  {
   "cell_type": "markdown",
   "metadata": {},
   "source": [
    "Write a program to manipulate pdf files using pyPDF. Your programs should be able to merge multiple pdf files into a single pdf. You are welcome to add more functionalities\n",
    "\n",
    "pypdf is a free and open-source pure-python PDF library capable of splitting, merging, cropping, and transforming the pages of PDF files. It can also add custom data, viewing options, and passwords to PDF files. pypdf can retrieve text and metadata from PDFs as well."
   ]
  },
  {
   "cell_type": "code",
   "execution_count": 9,
   "metadata": {},
   "outputs": [
    {
     "name": "stdout",
     "output_type": "stream",
     "text": [
      "Collecting PyPDF2Note: you may need to restart the kernel to use updated packages.\n",
      "\n",
      "  Downloading pypdf2-3.0.1-py3-none-any.whl (232 kB)\n",
      "     ------------------------------------ 232.6/232.6 kB 675.8 kB/s eta 0:00:00\n",
      "Installing collected packages: PyPDF2\n",
      "Successfully installed PyPDF2-3.0.1\n"
     ]
    }
   ],
   "source": [
    "pip install PyPDF2"
   ]
  },
  {
   "cell_type": "code",
   "execution_count": 13,
   "metadata": {},
   "outputs": [],
   "source": [
    "import PyPDF2\n",
    "\n",
    "# List of PDF files to merge\n",
    "pdf_files = ['Applicant-Journey-Flow-Chart-updated-29-Sept-22.pdf', 'blank-answer-sheet-listening.pdf'] \n",
    "\n",
    "# Create PdfFileMerger object\n",
    "# pdf_merger = PyPDF2.PdfFileMerger()\n",
    "pdf_merger = PyPDF2.PdfMerger()\n",
    "\n",
    "\n",
    "# Loop through pdf files and append them\n",
    "for pdf in pdf_files:\n",
    "    pdf_merger.append(pdf)\n",
    "\n",
    "# Write merged pdf to output file\n",
    "with open('merged.pdf', 'wb') as fout:\n",
    "    pdf_merger.write(fout)\n"
   ]
  },
  {
   "cell_type": "markdown",
   "metadata": {},
   "source": [
    "# Operator Overloading in Python | Python Tutorial - Day #77"
   ]
  },
  {
   "cell_type": "markdown",
   "metadata": {},
   "source": [
    "Operator Overloading is a feature in Python that allows developers to redefine the behavior of mathematical and comparison operators for custom data types. This means that you can use the standard mathematical operators (+, -, *, /, etc.) and comparison operators (>, <, ==, etc.) in your own classes, just as you would for built-in data types like int, float, and str.\n",
    "\n",
    "### Why do we need operator overloading?\n",
    "\n",
    "Operator overloading allows you to create more readable and intuitive code. For instance, consider a custom class that represents a point in 2D space. You could define a method called 'add' to add two points together, but using the + operator makes the code more concise and readable:"
   ]
  },
  {
   "cell_type": "code",
   "execution_count": 17,
   "metadata": {},
   "outputs": [
    {
     "ename": "NameError",
     "evalue": "name 'Point' is not defined",
     "output_type": "error",
     "traceback": [
      "\u001b[1;31m---------------------------------------------------------------------------\u001b[0m",
      "\u001b[1;31mNameError\u001b[0m                                 Traceback (most recent call last)",
      "\u001b[1;32m~\\AppData\\Local\\Temp/ipykernel_6756/747086080.py\u001b[0m in \u001b[0;36m<cell line: 1>\u001b[1;34m()\u001b[0m\n\u001b[1;32m----> 1\u001b[1;33m \u001b[0mp1\u001b[0m \u001b[1;33m=\u001b[0m \u001b[0mPoint\u001b[0m\u001b[1;33m(\u001b[0m\u001b[1;36m1\u001b[0m\u001b[1;33m,\u001b[0m \u001b[1;36m2\u001b[0m\u001b[1;33m)\u001b[0m\u001b[1;33m\u001b[0m\u001b[1;33m\u001b[0m\u001b[0m\n\u001b[0m\u001b[0;32m      2\u001b[0m \u001b[0mp2\u001b[0m \u001b[1;33m=\u001b[0m \u001b[0mPoint\u001b[0m\u001b[1;33m(\u001b[0m\u001b[1;36m3\u001b[0m\u001b[1;33m,\u001b[0m \u001b[1;36m4\u001b[0m\u001b[1;33m)\u001b[0m\u001b[1;33m\u001b[0m\u001b[1;33m\u001b[0m\u001b[0m\n\u001b[0;32m      3\u001b[0m \u001b[0mp3\u001b[0m \u001b[1;33m=\u001b[0m \u001b[0mp1\u001b[0m \u001b[1;33m+\u001b[0m \u001b[0mp2\u001b[0m\u001b[1;33m\u001b[0m\u001b[1;33m\u001b[0m\u001b[0m\n\u001b[0;32m      4\u001b[0m \u001b[0mprint\u001b[0m\u001b[1;33m(\u001b[0m\u001b[0mp3\u001b[0m\u001b[1;33m.\u001b[0m\u001b[0mx\u001b[0m\u001b[1;33m,\u001b[0m \u001b[0mp3\u001b[0m\u001b[1;33m.\u001b[0m\u001b[0my\u001b[0m\u001b[1;33m)\u001b[0m \u001b[1;31m# prints 4, 6\u001b[0m\u001b[1;33m\u001b[0m\u001b[1;33m\u001b[0m\u001b[0m\n",
      "\u001b[1;31mNameError\u001b[0m: name 'Point' is not defined"
     ]
    }
   ],
   "source": [
    "p1 = Point(1, 2)\n",
    "p2 = Point(3, 4)\n",
    "p3 = p1 + p2\n",
    "print(p3.x, p3.y) # prints 4, 6"
   ]
  },
  {
   "cell_type": "markdown",
   "metadata": {},
   "source": [
    "###  How to overload an operator in Python?"
   ]
  },
  {
   "cell_type": "markdown",
   "metadata": {},
   "source": [
    "    + : __add__\n",
    "    - : __sub__\n",
    "    * : __mul__\n",
    "    / : __truediv__\n",
    "    < : __lt__\n",
    "    > : __gt__\n",
    "    == : __eq__"
   ]
  },
  {
   "cell_type": "markdown",
   "metadata": {},
   "source": [
    "For example, if you want to overload the + operator to add two instances of a custom class, you would define the add method:"
   ]
  },
  {
   "cell_type": "code",
   "execution_count": 18,
   "metadata": {},
   "outputs": [],
   "source": [
    "class Point:\n",
    "    def __init__(self, x, y):\n",
    "        self.x = x\n",
    "        self.y = y\n",
    "\n",
    "    def __add__(self, other):\n",
    "        return Point(self.x + other.x, self.y + other.y)"
   ]
  },
  {
   "cell_type": "markdown",
   "metadata": {},
   "source": [
    "It's important to note that operator overloading is not limited to the built-in operators, you can overload any user-defined operator as well."
   ]
  },
  {
   "cell_type": "code",
   "execution_count": 16,
   "metadata": {},
   "outputs": [
    {
     "name": "stdout",
     "output_type": "stream",
     "text": [
      "3i + 5j + 6k\n",
      "1i + 2j + 9k\n",
      "4i + 7j + 15k\n",
      "<class '__main__.Vector'>\n"
     ]
    }
   ],
   "source": [
    "class Vector:\n",
    "  def __init__(self, i, j, k):\n",
    "    self.i = i\n",
    "    self.j = j\n",
    "    self.k = k\n",
    "\n",
    "  def __str__(self):\n",
    "    return f\"{self.i}i + {self.j}j + {self.k}k\"\n",
    "\n",
    "  def __add__(self, x):\n",
    "    return Vector(self.i + x.i,  self.j+x.j, self.k+x.k) \n",
    "v1 = Vector(3, 5, 6)\n",
    "print(v1)\n",
    "\n",
    "v2 = Vector(1, 2, 9)\n",
    "print(v2)\n",
    "\n",
    "print(v1 + v2)\n",
    "print(type(v1 + v2))\n",
    "        "
   ]
  },
  {
   "cell_type": "markdown",
   "metadata": {},
   "source": [
    "### Conclusion\n",
    "\n",
    "Operator overloading is a powerful feature in Python that allows you to create more readable and intuitive code. By redefining the behavior of mathematical and comparison operators for custom data types, you can write code that is both concise and expressive. However, it's important to use operator overloading wisely, as overloading the wrong operator or using it inappropriately can lead to confusing or unexpected behavior."
   ]
  },
  {
   "cell_type": "markdown",
   "metadata": {},
   "source": [
    "# Single Inheritance in Python | Python Tutorial - Day #78"
   ]
  },
  {
   "cell_type": "code",
   "execution_count": 19,
   "metadata": {},
   "outputs": [
    {
     "name": "stdout",
     "output_type": "stream",
     "text": [
      "Bark!\n",
      "Sound made by the animal\n"
     ]
    }
   ],
   "source": [
    "class Animal:\n",
    "    def __init__(self, name, species):\n",
    "        self.name = name\n",
    "        self.species = species\n",
    "        \n",
    "    def make_sound(self):\n",
    "        print(\"Sound made by the animal\")\n",
    "\n",
    "class Dog(Animal):\n",
    "    def __init__(self, name, breed):\n",
    "        Animal.__init__(self, name, species=\"Dog\")\n",
    "        self.breed = breed\n",
    "        \n",
    "    def make_sound(self):\n",
    "        print(\"Bark!\")\n",
    "\n",
    "d = Dog(\"Dog\", \"Doggerman\")\n",
    "d.make_sound()\n",
    "\n",
    "a = Animal(\"Dog\", \"Dog\")\n",
    "a.make_sound()"
   ]
  },
  {
   "cell_type": "markdown",
   "metadata": {},
   "source": [
    "# Multiple Inheritance in Python | Python Tutorial - Day #79"
   ]
  },
  {
   "cell_type": "markdown",
   "metadata": {},
   "source": [
    "Multiple inheritance is a powerful feature in object-oriented programming that allows a class to inherit attributes and methods from multiple parent classes. This can be useful in situations where a class needs to inherit functionality from multiple sources.\n",
    "\n",
    "Syntax\n",
    "\n",
    "In Python, multiple inheritance is implemented by specifying multiple parent classes in the class definition, separated by commas."
   ]
  },
  {
   "cell_type": "code",
   "execution_count": 2,
   "metadata": {},
   "outputs": [],
   "source": [
    "# class ChildClass(ParentClass1, ParentClass2, ParentClass3):\n",
    "#     # class body"
   ]
  },
  {
   "cell_type": "markdown",
   "metadata": {},
   "source": [
    "It's important to note that, in case of multiple inheritance, Python follows a method resolution order (MRO) to resolve conflicts between methods or attributes from different parent classes. The MRO determines the order in which parent classes are searched for attributes and methods."
   ]
  },
  {
   "cell_type": "code",
   "execution_count": 14,
   "metadata": {},
   "outputs": [],
   "source": [
    "class Animal:\n",
    "    def __init__(self, name, species):\n",
    "        self.name = name\n",
    "        self.species = species\n",
    "        \n",
    "    def make_sound(self):\n",
    "        print(\"Sound made by the animal\")\n",
    "        \n",
    "class Mammal:\n",
    "    def __init__(self, name, fur_color):\n",
    "        self.name = name\n",
    "        self.fur_color = fur_color\n",
    "        \n",
    "class Dog(Animal, Mammal):\n",
    "    def __init__(self, name, breed, fur_color):\n",
    "        Animal.__init__(self, name, species=\"Dog\")\n",
    "        Mammal.__init__(self, name, fur_color)\n",
    "        self.breed = breed\n",
    "        \n",
    "    def make_sound(self):\n",
    "        print(\"Bark!\")"
   ]
  },
  {
   "cell_type": "code",
   "execution_count": 16,
   "metadata": {},
   "outputs": [
    {
     "name": "stdout",
     "output_type": "stream",
     "text": [
      "Ali\n",
      "Break\n",
      "The name is Ali\n",
      "[<class '__main__.DancerEmployee'>, <class '__main__.Employee'>, <class '__main__.Dancer'>, <class 'object'>]\n"
     ]
    }
   ],
   "source": [
    "class Employee:\n",
    "  def __init__(self, name):\n",
    "    self.name = name\n",
    "  def show(self):\n",
    "    print(f\"The name is {self.name}\")\n",
    "\n",
    "class Dancer:\n",
    "  def __init__(self, dance):\n",
    "    self.dance = dance\n",
    "\n",
    "  def show(self):\n",
    "    print(f\"The dance is {self.dance}\")\n",
    "\n",
    "class DancerEmployee(Employee, Dancer):\n",
    "  def __init__(self, dance, name):\n",
    "    self.dance = dance\n",
    "    self.name = name\n",
    "\n",
    "o  = DancerEmployee(\"Break\", \"Ali\")\n",
    "print(o.name)\n",
    "print(o.dance)\n",
    "o.show() \n",
    "print(DancerEmployee.mro())"
   ]
  },
  {
   "cell_type": "markdown",
   "metadata": {},
   "source": [
    "# Multilevel Inheritance in Python | Python Tutorial - Day #80"
   ]
  },
  {
   "cell_type": "markdown",
   "metadata": {},
   "source": [
    "Multilevel Inheritance in Python\n",
    "\n",
    "Multilevel inheritance is a type of inheritance in object-oriented programming where a derived class inherits from another derived class. This type of inheritance allows you to build a hierarchy of classes where one class builds upon another, leading to a more specialized class.\n",
    "\n",
    "In Python, multilevel inheritance is achieved by using the class hierarchy. The syntax for multilevel inheritance is quite simple and follows the same syntax as single inheritance."
   ]
  },
  {
   "cell_type": "markdown",
   "metadata": {},
   "source": [
    "    class BaseClass:\n",
    "        # Base class code\n",
    "        \n",
    "    class DerivedClass1(BaseClass):\n",
    "        # Derived class 1 code\n",
    "        \n",
    "    class DerivedClass2(DerivedClass1):\n",
    "        # Derived class 2 code"
   ]
  },
  {
   "cell_type": "markdown",
   "metadata": {},
   "source": [
    "Example\n",
    "\n",
    "Let's take a look at an example to understand how multilevel inheritance works in Python. Consider the following classes:"
   ]
  },
  {
   "cell_type": "code",
   "execution_count": 17,
   "metadata": {},
   "outputs": [
    {
     "name": "stdout",
     "output_type": "stream",
     "text": [
      "Name: tommy\n",
      "Species: Dog\n",
      "Breed: Black\n",
      "[<class '__main__.GoldenRetriever'>, <class '__main__.Dog'>, <class '__main__.Animal'>, <class 'object'>]\n"
     ]
    }
   ],
   "source": [
    "class Animal:\n",
    "    def __init__(self, name, species):\n",
    "        self.name = name\n",
    "        self.species = species\n",
    "        \n",
    "    def show_details(self):\n",
    "        print(f\"Name: {self.name}\")\n",
    "        print(f\"Species: {self.species}\")\n",
    "        \n",
    "class Dog(Animal):\n",
    "    def __init__(self, name, breed):\n",
    "        Animal.__init__(self, name, species=\"Dog\")\n",
    "        self.breed = breed\n",
    "        \n",
    "    def show_details(self):\n",
    "        Animal.show_details(self)\n",
    "        print(f\"Breed: {self.breed}\")\n",
    "        \n",
    "class GoldenRetriever(Dog):\n",
    "    def __init__(self, name, color):\n",
    "        Dog.__init__(self, name, breed=\"Golden Retriever\")\n",
    "        self.color = color\n",
    "        \n",
    "    def show_details(self):\n",
    "        Dog.show_details(self)\n",
    "        print(f\"Color: {self.color}\")\n",
    "\n",
    "o = Dog(\"tommy\", \"Black\")\n",
    "o.show_details()\n",
    "print(GoldenRetriever.mro())\n",
    "\n"
   ]
  },
  {
   "cell_type": "markdown",
   "metadata": {},
   "source": [
    "In this example, we have three classes: ```Animal```, ```Dog```, and ```GoldenRetriever```. The Dog class inherits from the Animal class, and the GoldenRetriever class inherits from the Dog class.\n",
    "\n",
    "Now, when we create an object of the GoldenRetriever class, it has access to all the attributes and methods of the Animal class and the Dog class. We can also see that the GoldenRetriever class has its own attributes and methods that are specific to the class."
   ]
  },
  {
   "cell_type": "markdown",
   "metadata": {},
   "source": [
    "# Hybrid and Hierarchical Inheritance in Python | Python Tutorial - Day #81"
   ]
  },
  {
   "cell_type": "code",
   "execution_count": 18,
   "metadata": {},
   "outputs": [],
   "source": [
    "# Example of Hybrid Inheritance \n",
    "class BaseClass:\n",
    "  pass\n",
    "\n",
    "class Derived1(BaseClass):\n",
    "  pass  \n",
    "\n",
    "class Derived2(BaseClass):\n",
    "  pass  \n",
    "\n",
    "class Derived3(Derived1, Derived2):\n",
    "  pass\n",
    "\n",
    "# Hierarchical Inheritance\n",
    "class BaseClass:\n",
    "  pass\n",
    "\n",
    "class D1(BaseClass):\n",
    "  pass\n",
    "\n",
    "class D2(BaseClass):\n",
    "  pass\n",
    "\n",
    "class D3(D1):\n",
    "  pass"
   ]
  },
  {
   "cell_type": "markdown",
   "metadata": {},
   "source": [
    "### Hybrid Inheritance in Python\n",
    "\n",
    "Hybrid inheritance is a combination of multiple inheritance and single inheritance in object-oriented programming. It is a type of inheritance in which multiple inheritance is used to inherit the properties of multiple base classes into a single derived class, and single inheritance is used to inherit the properties of the derived class into a sub-derived class.\n",
    "\n",
    "In Python, hybrid inheritance can be implemented by creating a class hierarchy, in which a base class is inherited by multiple derived classes, and one of the derived classes is further inherited by a sub-derived class."
   ]
  },
  {
   "cell_type": "markdown",
   "metadata": {},
   "source": [
    "Syntax\n",
    "\n",
    "The syntax for implementing Hybrid Inheritance in Python is the same as for implementing Single Inheritance, Multiple Inheritance, or Hierarchical Inheritance.\n",
    "\n",
    "Here's the syntax for defining a hybrid inheritance class hierarchy:"
   ]
  },
  {
   "cell_type": "markdown",
   "metadata": {},
   "source": [
    "    Example"
   ]
  },
  {
   "cell_type": "markdown",
   "metadata": {},
   "source": [
    "Consider the example of a Student class that inherits from the Person class, which in turn inherits from the Human class. The Student class also has a Program class that it is associated with.\n",
    "\n"
   ]
  },
  {
   "cell_type": "code",
   "execution_count": 19,
   "metadata": {},
   "outputs": [],
   "source": [
    "class Human:\n",
    "  def __init__(self, name, age):\n",
    "    self.name = name\n",
    "    self.age = age\n",
    "    \n",
    "  def show_details(self):\n",
    "    print(\"Name:\", self.name)\n",
    "    print(\"Age:\", self.age)\n",
    "    \n",
    "class Person(Human):\n",
    "  def __init__(self, name, age, address):\n",
    "    Human.__init__(self, name, age)\n",
    "    self.address = address\n",
    "    \n",
    "  def show_details(self):\n",
    "    Human.show_details(self)\n",
    "    print(\"Address:\", self.address)\n",
    "    \n",
    "class Program:\n",
    "  def __init__(self, program_name, duration):\n",
    "    self.program_name = program_name\n",
    "    self.duration = duration\n",
    "    \n",
    "  def show_details(self):\n",
    "    print(\"Program Name:\", self.program_name)\n",
    "    print(\"Duration:\", self.duration)\n",
    "    \n",
    "class Student(Person):\n",
    "  def __init__(self, name, age, address, program):\n",
    "    Person.__init__(self, name, age, address)\n",
    "    self.program = program\n",
    "    \n",
    "  def show_details(self):\n",
    "    Person.show_details(self)\n",
    "    self.program.show_details()"
   ]
  },
  {
   "cell_type": "markdown",
   "metadata": {},
   "source": [
    "In this example, the Student class inherits from the Person class, which in turn inherits from the Human class. The Student class also has an association with the Program class. This is an example of Hybrid Inheritance in action, as it uses both Single Inheritance and Association to achieve the desired inheritance structure."
   ]
  },
  {
   "cell_type": "markdown",
   "metadata": {},
   "source": [
    "To create a Student object, we can do the following:"
   ]
  },
  {
   "cell_type": "code",
   "execution_count": 20,
   "metadata": {},
   "outputs": [
    {
     "name": "stdout",
     "output_type": "stream",
     "text": [
      "Name: John Doe\n",
      "Age: 25\n",
      "Address: 123 Main St.\n",
      "Program Name: Computer Science\n",
      "Duration: 4\n"
     ]
    }
   ],
   "source": [
    "program = Program(\"Computer Science\", 4)\n",
    "student = Student(\"John Doe\", 25, \"123 Main St.\", program)\n",
    "student.show_details()"
   ]
  },
  {
   "cell_type": "markdown",
   "metadata": {},
   "source": [
    "As we can see from the output, the Student object has access to all the attributes and methods of the Person and Human classes, as well as the Program class through association.\n",
    "\n",
    "In this way, hybrid inheritance allows for a flexible and powerful way to inherit attributes and behaviors from multiple classes in a hierarchy or chain."
   ]
  },
  {
   "cell_type": "markdown",
   "metadata": {},
   "source": [
    "# Exercise 8 - Merge the Pdf Solution in Python | Python Tutorial - Day #82"
   ]
  },
  {
   "cell_type": "code",
   "execution_count": 1,
   "metadata": {},
   "outputs": [],
   "source": [
    "from PyPDF2 import PdfWriter\n",
    "import os\n",
    "\n",
    "merger = PdfWriter()\n",
    "files = [file for file in os.listdir() if file.endswith(\".pdf\")]\n",
    "\n",
    "for pdf in files:\n",
    "    merger.append(pdf)\n",
    "\n",
    "merger.write(\"merged-pdf.pdf\")\n",
    "merger.close()"
   ]
  },
  {
   "cell_type": "markdown",
   "metadata": {},
   "source": [
    "# Time Module in Python | Python Tutorial - Day #84"
   ]
  },
  {
   "cell_type": "code",
   "execution_count": 1,
   "metadata": {},
   "outputs": [
    {
     "name": "stdout",
     "output_type": "stream",
     "text": [
      "2023-07-22 13:12:11\n"
     ]
    }
   ],
   "source": [
    "import time \n",
    "\n",
    "# def usingWhile():\n",
    "#   i = 0\n",
    "#   while i<50000:\n",
    "#     i = i +1\n",
    "#     print(i) \n",
    "\n",
    "# def usingFor():\n",
    "#   for i in range(50000):\n",
    "#     print(i)\n",
    "\n",
    "# init = time.time()\n",
    "# usingFor()\n",
    "# t1 = time.time() - init\n",
    "# init = time.time()\n",
    "# usingWhile()\n",
    "# print(time.time() - init)\n",
    "# print(t1)\n",
    "\n",
    "\n",
    "# print(4)\n",
    "# time.sleep(3)\n",
    "# print(\"This is printed after 3 seconds\")\n",
    " \n",
    "t = time.localtime()\n",
    "formatted_time = time.strftime(\"%Y-%m-%d %H:%M:%S\", t)\n",
    "\n",
    "print(formatted_time) "
   ]
  },
  {
   "cell_type": "markdown",
   "metadata": {},
   "source": [
    "# Creating command line utility in python | Python Tutorial - Day #85"
   ]
  },
  {
   "cell_type": "markdown",
   "metadata": {},
   "source": []
  }
 ],
 "metadata": {
  "kernelspec": {
   "display_name": "Python 3",
   "language": "python",
   "name": "python3"
  },
  "language_info": {
   "codemirror_mode": {
    "name": "ipython",
    "version": 3
   },
   "file_extension": ".py",
   "mimetype": "text/x-python",
   "name": "python",
   "nbconvert_exporter": "python",
   "pygments_lexer": "ipython3",
   "version": "3.10.2"
  },
  "orig_nbformat": 4
 },
 "nbformat": 4,
 "nbformat_minor": 2
}
